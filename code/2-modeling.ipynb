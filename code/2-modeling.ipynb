{
 "cells": [
  {
   "cell_type": "markdown",
   "id": "298ebc5c-38d5-4429-a673-483111ea830a",
   "metadata": {},
   "source": [
    "# Modeling"
   ]
  },
  {
   "cell_type": "markdown",
   "id": "f569826e-63ec-4655-8de0-e4f26e1cede6",
   "metadata": {},
   "source": [
    "## Imports"
   ]
  },
  {
   "cell_type": "code",
   "execution_count": 1,
   "id": "a93c325d-1d1e-4dc8-a9c9-6c52e2d84505",
   "metadata": {},
   "outputs": [],
   "source": [
    "import warnings\n",
    "warnings.filterwarnings(\"ignore\")\n",
    "\n",
    "import pandas as pd\n",
    "import matplotlib.pyplot as plt\n",
    "from sklearn.model_selection import train_test_split, GridSearchCV\n",
    "from sklearn.pipeline import Pipeline\n",
    "from nltk.corpus import stopwords\n",
    "from sklearn.naive_bayes import MultinomialNB\n",
    "from sklearn.linear_model import LogisticRegression\n",
    "from sklearn.metrics import confusion_matrix, ConfusionMatrixDisplay\n",
    "from sklearn.ensemble import RandomForestClassifier\n",
    "\n",
    "from sklearn.feature_extraction.text import CountVectorizer, TfidfVectorizer"
   ]
  },
  {
   "cell_type": "code",
   "execution_count": 2,
   "id": "66102399-72b3-4896-867c-6665e7d0ff87",
   "metadata": {},
   "outputs": [],
   "source": [
    "# reading in the total_combined_dfs dataframe\n",
    "\n",
    "total_combined_dfs = pd.read_csv('./../data/total_combined_dfs.csv')"
   ]
  },
  {
   "cell_type": "code",
   "execution_count": 3,
   "id": "9255897f-6966-4059-8a2f-db886a718540",
   "metadata": {},
   "outputs": [
    {
     "data": {
      "text/html": [
       "<div>\n",
       "<style scoped>\n",
       "    .dataframe tbody tr th:only-of-type {\n",
       "        vertical-align: middle;\n",
       "    }\n",
       "\n",
       "    .dataframe tbody tr th {\n",
       "        vertical-align: top;\n",
       "    }\n",
       "\n",
       "    .dataframe thead th {\n",
       "        text-align: right;\n",
       "    }\n",
       "</style>\n",
       "<table border=\"1\" class=\"dataframe\">\n",
       "  <thead>\n",
       "    <tr style=\"text-align: right;\">\n",
       "      <th></th>\n",
       "      <th>title</th>\n",
       "      <th>subreddit</th>\n",
       "      <th>selftext</th>\n",
       "      <th>subreddit_id</th>\n",
       "      <th>text_length</th>\n",
       "      <th>word_count</th>\n",
       "      <th>title_plus_selftext</th>\n",
       "    </tr>\n",
       "  </thead>\n",
       "  <tbody>\n",
       "    <tr>\n",
       "      <th>0</th>\n",
       "      <td>2023 Offseason Review: Minnesota Vikings</td>\n",
       "      <td>nfl</td>\n",
       "      <td># [Series Hub](https://www.reddit.com/r/nfl/co...</td>\n",
       "      <td>t5_2qmg3</td>\n",
       "      <td>12954</td>\n",
       "      <td>1676</td>\n",
       "      <td>2023 Offseason Review: Minnesota Vikings# [Ser...</td>\n",
       "    </tr>\n",
       "    <tr>\n",
       "      <th>1</th>\n",
       "      <td>2023 Offseason Review: San Francisco 49ers</td>\n",
       "      <td>nfl</td>\n",
       "      <td>#San Francisco 49ers Offseason Review\\n\\n##[Se...</td>\n",
       "      <td>t5_2qmg3</td>\n",
       "      <td>39725</td>\n",
       "      <td>6053</td>\n",
       "      <td>2023 Offseason Review: San Francisco 49ers#San...</td>\n",
       "    </tr>\n",
       "    <tr>\n",
       "      <th>2</th>\n",
       "      <td>Tua Tagovailoa says everything he did this off...</td>\n",
       "      <td>nfl</td>\n",
       "      <td>&amp;gt;Tagovailoa also talked about choosing a ne...</td>\n",
       "      <td>t5_2qmg3</td>\n",
       "      <td>249</td>\n",
       "      <td>43</td>\n",
       "      <td>Tua Tagovailoa says everything he did this off...</td>\n",
       "    </tr>\n",
       "    <tr>\n",
       "      <th>3</th>\n",
       "      <td>[Glaser] “Zach Wilson has played really well i...</td>\n",
       "      <td>nfl</td>\n",
       "      <td>NaN</td>\n",
       "      <td>t5_2qmg3</td>\n",
       "      <td>0</td>\n",
       "      <td>1</td>\n",
       "      <td>[Glaser] “Zach Wilson has played really well i...</td>\n",
       "    </tr>\n",
       "    <tr>\n",
       "      <th>4</th>\n",
       "      <td>[JacobWestendorf] #Broncos RB Terrell Davis pl...</td>\n",
       "      <td>nfl</td>\n",
       "      <td>NaN</td>\n",
       "      <td>t5_2qmg3</td>\n",
       "      <td>0</td>\n",
       "      <td>1</td>\n",
       "      <td>[JacobWestendorf] #Broncos RB Terrell Davis pl...</td>\n",
       "    </tr>\n",
       "  </tbody>\n",
       "</table>\n",
       "</div>"
      ],
      "text/plain": [
       "                                               title subreddit  \\\n",
       "0           2023 Offseason Review: Minnesota Vikings       nfl   \n",
       "1         2023 Offseason Review: San Francisco 49ers       nfl   \n",
       "2  Tua Tagovailoa says everything he did this off...       nfl   \n",
       "3  [Glaser] “Zach Wilson has played really well i...       nfl   \n",
       "4  [JacobWestendorf] #Broncos RB Terrell Davis pl...       nfl   \n",
       "\n",
       "                                            selftext subreddit_id  \\\n",
       "0  # [Series Hub](https://www.reddit.com/r/nfl/co...     t5_2qmg3   \n",
       "1  #San Francisco 49ers Offseason Review\\n\\n##[Se...     t5_2qmg3   \n",
       "2  &gt;Tagovailoa also talked about choosing a ne...     t5_2qmg3   \n",
       "3                                                NaN     t5_2qmg3   \n",
       "4                                                NaN     t5_2qmg3   \n",
       "\n",
       "   text_length  word_count                                title_plus_selftext  \n",
       "0        12954        1676  2023 Offseason Review: Minnesota Vikings# [Ser...  \n",
       "1        39725        6053  2023 Offseason Review: San Francisco 49ers#San...  \n",
       "2          249          43  Tua Tagovailoa says everything he did this off...  \n",
       "3            0           1  [Glaser] “Zach Wilson has played really well i...  \n",
       "4            0           1  [JacobWestendorf] #Broncos RB Terrell Davis pl...  "
      ]
     },
     "execution_count": 3,
     "metadata": {},
     "output_type": "execute_result"
    }
   ],
   "source": [
    "total_combined_dfs.head()"
   ]
  },
  {
   "cell_type": "code",
   "execution_count": 4,
   "id": "55ddc9a9-5d93-4d5e-b62f-5f6b3d0eedfa",
   "metadata": {},
   "outputs": [
    {
     "data": {
      "text/plain": [
       "title                     0\n",
       "subreddit                 0\n",
       "selftext               1643\n",
       "subreddit_id              0\n",
       "text_length               0\n",
       "word_count                0\n",
       "title_plus_selftext       0\n",
       "dtype: int64"
      ]
     },
     "execution_count": 4,
     "metadata": {},
     "output_type": "execute_result"
    }
   ],
   "source": [
    "# checking to see if my work on the previous notebook carrier over properly\n",
    "\n",
    "total_combined_dfs.isnull().sum()\n",
    "\n",
    "# it did not, so filling the nulls again in the cell below"
   ]
  },
  {
   "cell_type": "code",
   "execution_count": 5,
   "id": "64b6cd7c-152c-4e6a-a4fb-6aaa0ceb080a",
   "metadata": {},
   "outputs": [],
   "source": [
    "total_combined_dfs.fillna('', inplace = True)"
   ]
  },
  {
   "cell_type": "code",
   "execution_count": 6,
   "id": "882c5db4-ed89-4a51-af08-6d45eeb34307",
   "metadata": {},
   "outputs": [
    {
     "data": {
      "text/plain": [
       "title                  0\n",
       "subreddit              0\n",
       "selftext               0\n",
       "subreddit_id           0\n",
       "text_length            0\n",
       "word_count             0\n",
       "title_plus_selftext    0\n",
       "dtype: int64"
      ]
     },
     "execution_count": 6,
     "metadata": {},
     "output_type": "execute_result"
    }
   ],
   "source": [
    "# checking null count again\n",
    "\n",
    "total_combined_dfs.isnull().sum()"
   ]
  },
  {
   "cell_type": "code",
   "execution_count": 7,
   "id": "cfbe1fba-5faa-4b12-bf39-37e39d439b81",
   "metadata": {},
   "outputs": [
    {
     "data": {
      "text/html": [
       "<div>\n",
       "<style scoped>\n",
       "    .dataframe tbody tr th:only-of-type {\n",
       "        vertical-align: middle;\n",
       "    }\n",
       "\n",
       "    .dataframe tbody tr th {\n",
       "        vertical-align: top;\n",
       "    }\n",
       "\n",
       "    .dataframe thead th {\n",
       "        text-align: right;\n",
       "    }\n",
       "</style>\n",
       "<table border=\"1\" class=\"dataframe\">\n",
       "  <thead>\n",
       "    <tr style=\"text-align: right;\">\n",
       "      <th></th>\n",
       "      <th>title</th>\n",
       "      <th>subreddit</th>\n",
       "      <th>selftext</th>\n",
       "      <th>subreddit_id</th>\n",
       "      <th>text_length</th>\n",
       "      <th>word_count</th>\n",
       "      <th>title_plus_selftext</th>\n",
       "    </tr>\n",
       "  </thead>\n",
       "  <tbody>\n",
       "    <tr>\n",
       "      <th>0</th>\n",
       "      <td>2023 Offseason Review: Minnesota Vikings</td>\n",
       "      <td>nfl</td>\n",
       "      <td># [Series Hub](https://www.reddit.com/r/nfl/co...</td>\n",
       "      <td>t5_2qmg3</td>\n",
       "      <td>12954</td>\n",
       "      <td>1676</td>\n",
       "      <td>2023 Offseason Review: Minnesota Vikings# [Ser...</td>\n",
       "    </tr>\n",
       "    <tr>\n",
       "      <th>1</th>\n",
       "      <td>2023 Offseason Review: San Francisco 49ers</td>\n",
       "      <td>nfl</td>\n",
       "      <td>#San Francisco 49ers Offseason Review\\n\\n##[Se...</td>\n",
       "      <td>t5_2qmg3</td>\n",
       "      <td>39725</td>\n",
       "      <td>6053</td>\n",
       "      <td>2023 Offseason Review: San Francisco 49ers#San...</td>\n",
       "    </tr>\n",
       "    <tr>\n",
       "      <th>2</th>\n",
       "      <td>Tua Tagovailoa says everything he did this off...</td>\n",
       "      <td>nfl</td>\n",
       "      <td>&amp;gt;Tagovailoa also talked about choosing a ne...</td>\n",
       "      <td>t5_2qmg3</td>\n",
       "      <td>249</td>\n",
       "      <td>43</td>\n",
       "      <td>Tua Tagovailoa says everything he did this off...</td>\n",
       "    </tr>\n",
       "    <tr>\n",
       "      <th>3</th>\n",
       "      <td>[Glaser] “Zach Wilson has played really well i...</td>\n",
       "      <td>nfl</td>\n",
       "      <td></td>\n",
       "      <td>t5_2qmg3</td>\n",
       "      <td>0</td>\n",
       "      <td>1</td>\n",
       "      <td>[Glaser] “Zach Wilson has played really well i...</td>\n",
       "    </tr>\n",
       "    <tr>\n",
       "      <th>4</th>\n",
       "      <td>[JacobWestendorf] #Broncos RB Terrell Davis pl...</td>\n",
       "      <td>nfl</td>\n",
       "      <td></td>\n",
       "      <td>t5_2qmg3</td>\n",
       "      <td>0</td>\n",
       "      <td>1</td>\n",
       "      <td>[JacobWestendorf] #Broncos RB Terrell Davis pl...</td>\n",
       "    </tr>\n",
       "  </tbody>\n",
       "</table>\n",
       "</div>"
      ],
      "text/plain": [
       "                                               title subreddit  \\\n",
       "0           2023 Offseason Review: Minnesota Vikings       nfl   \n",
       "1         2023 Offseason Review: San Francisco 49ers       nfl   \n",
       "2  Tua Tagovailoa says everything he did this off...       nfl   \n",
       "3  [Glaser] “Zach Wilson has played really well i...       nfl   \n",
       "4  [JacobWestendorf] #Broncos RB Terrell Davis pl...       nfl   \n",
       "\n",
       "                                            selftext subreddit_id  \\\n",
       "0  # [Series Hub](https://www.reddit.com/r/nfl/co...     t5_2qmg3   \n",
       "1  #San Francisco 49ers Offseason Review\\n\\n##[Se...     t5_2qmg3   \n",
       "2  &gt;Tagovailoa also talked about choosing a ne...     t5_2qmg3   \n",
       "3                                                        t5_2qmg3   \n",
       "4                                                        t5_2qmg3   \n",
       "\n",
       "   text_length  word_count                                title_plus_selftext  \n",
       "0        12954        1676  2023 Offseason Review: Minnesota Vikings# [Ser...  \n",
       "1        39725        6053  2023 Offseason Review: San Francisco 49ers#San...  \n",
       "2          249          43  Tua Tagovailoa says everything he did this off...  \n",
       "3            0           1  [Glaser] “Zach Wilson has played really well i...  \n",
       "4            0           1  [JacobWestendorf] #Broncos RB Terrell Davis pl...  "
      ]
     },
     "execution_count": 7,
     "metadata": {},
     "output_type": "execute_result"
    }
   ],
   "source": [
    "total_combined_dfs.head()"
   ]
  },
  {
   "cell_type": "code",
   "execution_count": 8,
   "id": "53c523f4-ddac-4724-a31e-0515586373d3",
   "metadata": {},
   "outputs": [
    {
     "data": {
      "text/plain": [
       "(2692, 7)"
      ]
     },
     "execution_count": 8,
     "metadata": {},
     "output_type": "execute_result"
    }
   ],
   "source": [
    "# checking shape of dataframe\n",
    "\n",
    "total_combined_dfs.shape"
   ]
  },
  {
   "cell_type": "markdown",
   "id": "e2e9f03b-13f7-47db-b7fa-511f89c6e63c",
   "metadata": {},
   "source": [
    "## Bernoulli Naive Bayes"
   ]
  },
  {
   "cell_type": "markdown",
   "id": "f2b389ba-3d25-4660-bcff-d5293464b7fe",
   "metadata": {},
   "source": [
    "I chose to use a Bernoulli Naive Bayes model to model this data because after vectorization, our dataframe has 0 or 1 values in our features. Additionally, it is a fast modeling algorithm which is beneficial due to the number of features we have after vectorization. Lastly, it is known as an excellent classifier."
   ]
  },
  {
   "cell_type": "code",
   "execution_count": 9,
   "id": "5548b97e-a849-4ee6-bc5d-a4b8edea76e5",
   "metadata": {},
   "outputs": [],
   "source": [
    "# Setting up our X and y for Naive Bayes and tf-idf modeling\n",
    "\n",
    "nb_X = total_combined_dfs['title_plus_selftext']\n",
    "nb_y = total_combined_dfs['subreddit']"
   ]
  },
  {
   "cell_type": "code",
   "execution_count": 10,
   "id": "c35e24b6-4a10-44ce-aa0e-7e98a169e2c8",
   "metadata": {},
   "outputs": [
    {
     "data": {
      "text/plain": [
       "nba    0.527489\n",
       "nfl    0.472511\n",
       "Name: subreddit, dtype: float64"
      ]
     },
     "execution_count": 10,
     "metadata": {},
     "output_type": "execute_result"
    }
   ],
   "source": [
    "# Checking our baseline\n",
    "\n",
    "nb_y.value_counts(normalize= True)"
   ]
  },
  {
   "cell_type": "code",
   "execution_count": 11,
   "id": "68d6c4f0-648b-40cf-a658-44ad7f3187eb",
   "metadata": {},
   "outputs": [],
   "source": [
    "# splitting our data into training and testing sets\n",
    "\n",
    "nb_X_train, nb_X_test, nb_y_train, nb_y_test = train_test_split(nb_X, nb_y, stratify = nb_y, random_state= 42)"
   ]
  },
  {
   "cell_type": "code",
   "execution_count": 12,
   "id": "534d31ff-afe2-4685-9438-7933c9f49570",
   "metadata": {},
   "outputs": [],
   "source": [
    "# setting up stop-words variable for parameters\n",
    "\n",
    "default_stop_words3 = CountVectorizer(stop_words='english').get_stop_words()\n",
    "\n",
    "custom_stop_words3 = ['nba', 'com', 'https', 'like', 'reddit', 'amp', 'comments', 'like', 'nfl', 'www', 'utm_source', 'utm_medium', 'web2x']\n",
    "\n",
    "ngram_stop_words_total = list(default_stop_words3) + custom_stop_words3"
   ]
  },
  {
   "cell_type": "code",
   "execution_count": 13,
   "id": "d9a4fef4-aa14-40bf-8158-f346f2f21640",
   "metadata": {},
   "outputs": [],
   "source": [
    "# setting up pipeline\n",
    "\n",
    "pipe_tvec = Pipeline([\n",
    "    ('tvec', TfidfVectorizer()),\n",
    "    ('nb', MultinomialNB())\n",
    "])"
   ]
  },
  {
   "cell_type": "code",
   "execution_count": 36,
   "id": "4f9c6cb1-aca9-40c0-a615-c65df68ac1a6",
   "metadata": {},
   "outputs": [],
   "source": [
    "# setting parameters\n",
    "\n",
    "pipe_tvec_params = {\n",
    "    'tvec__max_features': [2000, 3000, 4000, 5000],\n",
    "    'tvec__stop_words': [None, 'english', ngram_stop_words_total],\n",
    "    'tvec__ngram_range': [(1, 1), (1, 2)],\n",
    "}\n"
   ]
  },
  {
   "cell_type": "code",
   "execution_count": 37,
   "id": "5bb22c9a-0f94-457c-8d30-afc60e5f908f",
   "metadata": {},
   "outputs": [],
   "source": [
    "# Gridsearching\n",
    "\n",
    "gs_tvec = GridSearchCV(pipe_tvec,\n",
    "                      param_grid=pipe_tvec_params,\n",
    "                      cv = 5)"
   ]
  },
  {
   "cell_type": "code",
   "execution_count": 38,
   "id": "c5862ecd-62e8-435f-be62-49ed12304162",
   "metadata": {},
   "outputs": [
    {
     "data": {
      "text/html": [
       "<style>#sk-container-id-3 {color: black;background-color: white;}#sk-container-id-3 pre{padding: 0;}#sk-container-id-3 div.sk-toggleable {background-color: white;}#sk-container-id-3 label.sk-toggleable__label {cursor: pointer;display: block;width: 100%;margin-bottom: 0;padding: 0.3em;box-sizing: border-box;text-align: center;}#sk-container-id-3 label.sk-toggleable__label-arrow:before {content: \"▸\";float: left;margin-right: 0.25em;color: #696969;}#sk-container-id-3 label.sk-toggleable__label-arrow:hover:before {color: black;}#sk-container-id-3 div.sk-estimator:hover label.sk-toggleable__label-arrow:before {color: black;}#sk-container-id-3 div.sk-toggleable__content {max-height: 0;max-width: 0;overflow: hidden;text-align: left;background-color: #f0f8ff;}#sk-container-id-3 div.sk-toggleable__content pre {margin: 0.2em;color: black;border-radius: 0.25em;background-color: #f0f8ff;}#sk-container-id-3 input.sk-toggleable__control:checked~div.sk-toggleable__content {max-height: 200px;max-width: 100%;overflow: auto;}#sk-container-id-3 input.sk-toggleable__control:checked~label.sk-toggleable__label-arrow:before {content: \"▾\";}#sk-container-id-3 div.sk-estimator input.sk-toggleable__control:checked~label.sk-toggleable__label {background-color: #d4ebff;}#sk-container-id-3 div.sk-label input.sk-toggleable__control:checked~label.sk-toggleable__label {background-color: #d4ebff;}#sk-container-id-3 input.sk-hidden--visually {border: 0;clip: rect(1px 1px 1px 1px);clip: rect(1px, 1px, 1px, 1px);height: 1px;margin: -1px;overflow: hidden;padding: 0;position: absolute;width: 1px;}#sk-container-id-3 div.sk-estimator {font-family: monospace;background-color: #f0f8ff;border: 1px dotted black;border-radius: 0.25em;box-sizing: border-box;margin-bottom: 0.5em;}#sk-container-id-3 div.sk-estimator:hover {background-color: #d4ebff;}#sk-container-id-3 div.sk-parallel-item::after {content: \"\";width: 100%;border-bottom: 1px solid gray;flex-grow: 1;}#sk-container-id-3 div.sk-label:hover label.sk-toggleable__label {background-color: #d4ebff;}#sk-container-id-3 div.sk-serial::before {content: \"\";position: absolute;border-left: 1px solid gray;box-sizing: border-box;top: 0;bottom: 0;left: 50%;z-index: 0;}#sk-container-id-3 div.sk-serial {display: flex;flex-direction: column;align-items: center;background-color: white;padding-right: 0.2em;padding-left: 0.2em;position: relative;}#sk-container-id-3 div.sk-item {position: relative;z-index: 1;}#sk-container-id-3 div.sk-parallel {display: flex;align-items: stretch;justify-content: center;background-color: white;position: relative;}#sk-container-id-3 div.sk-item::before, #sk-container-id-3 div.sk-parallel-item::before {content: \"\";position: absolute;border-left: 1px solid gray;box-sizing: border-box;top: 0;bottom: 0;left: 50%;z-index: -1;}#sk-container-id-3 div.sk-parallel-item {display: flex;flex-direction: column;z-index: 1;position: relative;background-color: white;}#sk-container-id-3 div.sk-parallel-item:first-child::after {align-self: flex-end;width: 50%;}#sk-container-id-3 div.sk-parallel-item:last-child::after {align-self: flex-start;width: 50%;}#sk-container-id-3 div.sk-parallel-item:only-child::after {width: 0;}#sk-container-id-3 div.sk-dashed-wrapped {border: 1px dashed gray;margin: 0 0.4em 0.5em 0.4em;box-sizing: border-box;padding-bottom: 0.4em;background-color: white;}#sk-container-id-3 div.sk-label label {font-family: monospace;font-weight: bold;display: inline-block;line-height: 1.2em;}#sk-container-id-3 div.sk-label-container {text-align: center;}#sk-container-id-3 div.sk-container {/* jupyter's `normalize.less` sets `[hidden] { display: none; }` but bootstrap.min.css set `[hidden] { display: none !important; }` so we also need the `!important` here to be able to override the default hidden behavior on the sphinx rendered scikit-learn.org. See: https://github.com/scikit-learn/scikit-learn/issues/21755 */display: inline-block !important;position: relative;}#sk-container-id-3 div.sk-text-repr-fallback {display: none;}</style><div id=\"sk-container-id-3\" class=\"sk-top-container\"><div class=\"sk-text-repr-fallback\"><pre>GridSearchCV(cv=5,\n",
       "             estimator=Pipeline(steps=[(&#x27;tvec&#x27;, TfidfVectorizer()),\n",
       "                                       (&#x27;nb&#x27;, MultinomialNB())]),\n",
       "             param_grid={&#x27;tvec__max_features&#x27;: [2000, 3000, 4000, 5000],\n",
       "                         &#x27;tvec__ngram_range&#x27;: [(1, 1), (1, 2)],\n",
       "                         &#x27;tvec__stop_words&#x27;: [None, &#x27;english&#x27;,\n",
       "                                              [&#x27;thin&#x27;, &#x27;up&#x27;, &#x27;otherwise&#x27;, &#x27;by&#x27;,\n",
       "                                               &#x27;only&#x27;, &#x27;ours&#x27;, &#x27;five&#x27;, &#x27;six&#x27;,\n",
       "                                               &#x27;two&#x27;, &#x27;toward&#x27;, &#x27;from&#x27;,\n",
       "                                               &#x27;anyone&#x27;, &#x27;onto&#x27;, &#x27;because&#x27;,\n",
       "                                               &#x27;sixty&#x27;, &#x27;beforehand&#x27;, &#x27;nothing&#x27;,\n",
       "                                               &#x27;on&#x27;, &#x27;yourselves&#x27;, &#x27;none&#x27;,\n",
       "                                               &#x27;any&#x27;, &#x27;could&#x27;, &#x27;must&#x27;, &#x27;since&#x27;,\n",
       "                                               &#x27;hereupon&#x27;, &#x27;whereas&#x27;, &#x27;mill&#x27;,\n",
       "                                               &#x27;to&#x27;, &#x27;twelve&#x27;, &#x27;here&#x27;, ...]]})</pre><b>In a Jupyter environment, please rerun this cell to show the HTML representation or trust the notebook. <br />On GitHub, the HTML representation is unable to render, please try loading this page with nbviewer.org.</b></div><div class=\"sk-container\" hidden><div class=\"sk-item sk-dashed-wrapped\"><div class=\"sk-label-container\"><div class=\"sk-label sk-toggleable\"><input class=\"sk-toggleable__control sk-hidden--visually\" id=\"sk-estimator-id-9\" type=\"checkbox\" ><label for=\"sk-estimator-id-9\" class=\"sk-toggleable__label sk-toggleable__label-arrow\">GridSearchCV</label><div class=\"sk-toggleable__content\"><pre>GridSearchCV(cv=5,\n",
       "             estimator=Pipeline(steps=[(&#x27;tvec&#x27;, TfidfVectorizer()),\n",
       "                                       (&#x27;nb&#x27;, MultinomialNB())]),\n",
       "             param_grid={&#x27;tvec__max_features&#x27;: [2000, 3000, 4000, 5000],\n",
       "                         &#x27;tvec__ngram_range&#x27;: [(1, 1), (1, 2)],\n",
       "                         &#x27;tvec__stop_words&#x27;: [None, &#x27;english&#x27;,\n",
       "                                              [&#x27;thin&#x27;, &#x27;up&#x27;, &#x27;otherwise&#x27;, &#x27;by&#x27;,\n",
       "                                               &#x27;only&#x27;, &#x27;ours&#x27;, &#x27;five&#x27;, &#x27;six&#x27;,\n",
       "                                               &#x27;two&#x27;, &#x27;toward&#x27;, &#x27;from&#x27;,\n",
       "                                               &#x27;anyone&#x27;, &#x27;onto&#x27;, &#x27;because&#x27;,\n",
       "                                               &#x27;sixty&#x27;, &#x27;beforehand&#x27;, &#x27;nothing&#x27;,\n",
       "                                               &#x27;on&#x27;, &#x27;yourselves&#x27;, &#x27;none&#x27;,\n",
       "                                               &#x27;any&#x27;, &#x27;could&#x27;, &#x27;must&#x27;, &#x27;since&#x27;,\n",
       "                                               &#x27;hereupon&#x27;, &#x27;whereas&#x27;, &#x27;mill&#x27;,\n",
       "                                               &#x27;to&#x27;, &#x27;twelve&#x27;, &#x27;here&#x27;, ...]]})</pre></div></div></div><div class=\"sk-parallel\"><div class=\"sk-parallel-item\"><div class=\"sk-item\"><div class=\"sk-label-container\"><div class=\"sk-label sk-toggleable\"><input class=\"sk-toggleable__control sk-hidden--visually\" id=\"sk-estimator-id-10\" type=\"checkbox\" ><label for=\"sk-estimator-id-10\" class=\"sk-toggleable__label sk-toggleable__label-arrow\">estimator: Pipeline</label><div class=\"sk-toggleable__content\"><pre>Pipeline(steps=[(&#x27;tvec&#x27;, TfidfVectorizer()), (&#x27;nb&#x27;, MultinomialNB())])</pre></div></div></div><div class=\"sk-serial\"><div class=\"sk-item\"><div class=\"sk-serial\"><div class=\"sk-item\"><div class=\"sk-estimator sk-toggleable\"><input class=\"sk-toggleable__control sk-hidden--visually\" id=\"sk-estimator-id-11\" type=\"checkbox\" ><label for=\"sk-estimator-id-11\" class=\"sk-toggleable__label sk-toggleable__label-arrow\">TfidfVectorizer</label><div class=\"sk-toggleable__content\"><pre>TfidfVectorizer()</pre></div></div></div><div class=\"sk-item\"><div class=\"sk-estimator sk-toggleable\"><input class=\"sk-toggleable__control sk-hidden--visually\" id=\"sk-estimator-id-12\" type=\"checkbox\" ><label for=\"sk-estimator-id-12\" class=\"sk-toggleable__label sk-toggleable__label-arrow\">MultinomialNB</label><div class=\"sk-toggleable__content\"><pre>MultinomialNB()</pre></div></div></div></div></div></div></div></div></div></div></div></div>"
      ],
      "text/plain": [
       "GridSearchCV(cv=5,\n",
       "             estimator=Pipeline(steps=[('tvec', TfidfVectorizer()),\n",
       "                                       ('nb', MultinomialNB())]),\n",
       "             param_grid={'tvec__max_features': [2000, 3000, 4000, 5000],\n",
       "                         'tvec__ngram_range': [(1, 1), (1, 2)],\n",
       "                         'tvec__stop_words': [None, 'english',\n",
       "                                              ['thin', 'up', 'otherwise', 'by',\n",
       "                                               'only', 'ours', 'five', 'six',\n",
       "                                               'two', 'toward', 'from',\n",
       "                                               'anyone', 'onto', 'because',\n",
       "                                               'sixty', 'beforehand', 'nothing',\n",
       "                                               'on', 'yourselves', 'none',\n",
       "                                               'any', 'could', 'must', 'since',\n",
       "                                               'hereupon', 'whereas', 'mill',\n",
       "                                               'to', 'twelve', 'here', ...]]})"
      ]
     },
     "execution_count": 38,
     "metadata": {},
     "output_type": "execute_result"
    }
   ],
   "source": [
    "# Fit GridSearch to training data.\n",
    "gs_tvec.fit(nb_X_train, nb_y_train)"
   ]
  },
  {
   "cell_type": "code",
   "execution_count": 39,
   "id": "692b1d30-7598-44cd-82af-07358b5aec73",
   "metadata": {
    "tags": []
   },
   "outputs": [
    {
     "data": {
      "text/plain": [
       "{'tvec__max_features': 5000,\n",
       " 'tvec__ngram_range': (1, 2),\n",
       " 'tvec__stop_words': 'english'}"
      ]
     },
     "execution_count": 39,
     "metadata": {},
     "output_type": "execute_result"
    }
   ],
   "source": [
    "gs_tvec.best_params_"
   ]
  },
  {
   "cell_type": "code",
   "execution_count": 17,
   "id": "49f88bad-671f-4834-9e9e-a6afc5b0821d",
   "metadata": {},
   "outputs": [
    {
     "data": {
      "text/plain": [
       "0.9811788013868251"
      ]
     },
     "execution_count": 17,
     "metadata": {},
     "output_type": "execute_result"
    }
   ],
   "source": [
    "# Score model on training set.\n",
    "gs_tvec.score(nb_X_train, nb_y_train)"
   ]
  },
  {
   "cell_type": "code",
   "execution_count": 18,
   "id": "0ac8468e-72e7-4042-840d-1e161e2d26b6",
   "metadata": {},
   "outputs": [
    {
     "data": {
      "text/plain": [
       "0.962852897473997"
      ]
     },
     "execution_count": 18,
     "metadata": {},
     "output_type": "execute_result"
    }
   ],
   "source": [
    "# Score model on testing set.\n",
    "gs_tvec.score(nb_X_test, nb_y_test)"
   ]
  },
  {
   "cell_type": "markdown",
   "id": "f373e79b-4bca-4be1-9d33-05779e171971",
   "metadata": {},
   "source": [
    "We can see that the Bernoulli Naive Bayes model performed very well on both our training and testing data, having an accuracy score of .98 and .96 respectively, after rounding. These scores are satisfactory regarding our measure of success for this project."
   ]
  },
  {
   "cell_type": "code",
   "execution_count": 19,
   "id": "1dbb4c1b-97e9-43d9-bb14-51971407cbf5",
   "metadata": {},
   "outputs": [
    {
     "data": {
      "image/png": "[encoded data removed]",
      "text/plain": [
       "<Figure size 640x480 with 2 Axes>"
      ]
     },
     "metadata": {},
     "output_type": "display_data"
    }
   ],
   "source": [
    "# building confusion matrix\n",
    "\n",
    "ConfusionMatrixDisplay.from_estimator(gs_tvec, nb_X_test, nb_y_test);\n",
    "\n",
    "plt.title('Naive Bayes Confusion Matrix');\n",
    "\n",
    "plt.tight_layout()\n",
    "plt.savefig('./../images/naivebayes_cm.png');"
   ]
  },
  {
   "cell_type": "markdown",
   "id": "21d969fe-fb95-4fb7-bd99-fa3c2b00d3aa",
   "metadata": {},
   "source": [
    "The above confusion matrix visualizes how well our model performed in regard to accuracy, with true positive and true negative being 648 out of 673 predictions."
   ]
  },
  {
   "cell_type": "markdown",
   "id": "086a8395-3b4c-45c5-a824-c0fcd8ddd494",
   "metadata": {},
   "source": [
    "### Logistic Regression"
   ]
  },
  {
   "cell_type": "markdown",
   "id": "507a4a37-6920-4489-a7e2-e2b57b6671a1",
   "metadata": {},
   "source": [
    "I chose to use logistic regression as one of my models because of it's simplicity and efficiency. Additionally, our features after vectorization are well-suited for a classification model such as logistic regression."
   ]
  },
  {
   "cell_type": "code",
   "execution_count": 20,
   "id": "3cf2aab5-91be-42d6-baeb-ac0b8ac803ea",
   "metadata": {},
   "outputs": [],
   "source": [
    "# Setting up our X and y for LogReg and tf-idf modeling\n",
    "\n",
    "lr_X = total_combined_dfs['title_plus_selftext']\n",
    "lr_y = total_combined_dfs['subreddit']"
   ]
  },
  {
   "cell_type": "code",
   "execution_count": 21,
   "id": "d6605914-8c8e-4f8d-9f89-91b86807d25f",
   "metadata": {},
   "outputs": [
    {
     "data": {
      "text/plain": [
       "nba    0.527489\n",
       "nfl    0.472511\n",
       "Name: subreddit, dtype: float64"
      ]
     },
     "execution_count": 21,
     "metadata": {},
     "output_type": "execute_result"
    }
   ],
   "source": [
    "# Checking our baseline\n",
    "\n",
    "lr_y.value_counts(normalize= True)"
   ]
  },
  {
   "cell_type": "code",
   "execution_count": 22,
   "id": "a4a95f90-210f-4e2e-bcf4-45e8eb8fe4cf",
   "metadata": {},
   "outputs": [],
   "source": [
    "# splitting our data into training and testing sets\n",
    "\n",
    "lr_X_train, lr_X_test, lr_y_train, lr_y_test = train_test_split(lr_X, lr_y, stratify = lr_y, random_state= 42)"
   ]
  },
  {
   "cell_type": "code",
   "execution_count": 23,
   "id": "600d5f0b-5806-4d60-8cbb-a578315c0431",
   "metadata": {},
   "outputs": [],
   "source": [
    "# setting up pipeline\n",
    "\n",
    "pipe2 = Pipeline([\n",
    "    ('tvec', TfidfVectorizer()),\n",
    "    ('lr', LogisticRegression())\n",
    "])"
   ]
  },
  {
   "cell_type": "code",
   "execution_count": 24,
   "id": "9ee07b38-cdf3-4913-8b41-3ab52ea7018e",
   "metadata": {},
   "outputs": [],
   "source": [
    "# setting parameters\n",
    "\n",
    "pipe2_params = {\n",
    "    'tvec__max_features': [2000, 3000, 4000],\n",
    "    'tvec__stop_words': [None, 'english', custom_stop_words3],\n",
    "    'tvec__min_df': [2, 4],\n",
    "    'tvec__max_df': [1.0, 0.8, 0.5],\n",
    "}"
   ]
  },
  {
   "cell_type": "code",
   "execution_count": 25,
   "id": "f0db9f32-c6ce-471b-990c-e0b0855564b2",
   "metadata": {},
   "outputs": [
    {
     "name": "stdout",
     "output_type": "stream",
     "text": [
      "0.9524555929538362\n"
     ]
    },
    {
     "data": {
      "text/plain": [
       "{'tvec__max_df': 1.0,\n",
       " 'tvec__max_features': 4000,\n",
       " 'tvec__min_df': 2,\n",
       " 'tvec__stop_words': 'english'}"
      ]
     },
     "execution_count": 25,
     "metadata": {},
     "output_type": "execute_result"
    }
   ],
   "source": [
    "# Gridsearching\n",
    "\n",
    "gs2 = GridSearchCV(pipe2,\n",
    "                 param_grid=pipe2_params,\n",
    "                 n_jobs = -1)\n",
    "\n",
    "gs2.fit(lr_X_train, lr_y_train)\n",
    "print(gs2.best_score_) # through cross-val\n",
    "gs2.best_params_"
   ]
  },
  {
   "cell_type": "code",
   "execution_count": 26,
   "id": "9b4fcdc2-e545-4887-a471-9cff0e982a87",
   "metadata": {},
   "outputs": [
    {
     "name": "stdout",
     "output_type": "stream",
     "text": [
      "0.9930658741951461\n",
      "0.9569093610698366\n"
     ]
    }
   ],
   "source": [
    "# printing training and testing accuracy scores\n",
    "\n",
    "print(gs2.score(lr_X_train, lr_y_train))\n",
    "print(gs2.score(lr_X_test, lr_y_test))"
   ]
  },
  {
   "cell_type": "code",
   "execution_count": 40,
   "id": "73ebd02d-b433-4b0a-a8a9-d75806443b0a",
   "metadata": {
    "tags": []
   },
   "outputs": [
    {
     "data": {
      "text/plain": [
       "{'tvec__max_df': 1.0,\n",
       " 'tvec__max_features': 4000,\n",
       " 'tvec__min_df': 2,\n",
       " 'tvec__stop_words': 'english'}"
      ]
     },
     "execution_count": 40,
     "metadata": {},
     "output_type": "execute_result"
    }
   ],
   "source": [
    "gs2.best_params_"
   ]
  },
  {
   "cell_type": "markdown",
   "id": "f59a1887-2efa-4b4c-8b3f-43c515e0234b",
   "metadata": {},
   "source": [
    "Similarly to the Naive Bayes model above, our logistic regression model performed very well on both our training and testing data, having an accuracy score of .99 and .96 respectively, after rounding. Again, these scores are satisfactory regarding our measure of success for this project."
   ]
  },
  {
   "cell_type": "code",
   "execution_count": 27,
   "id": "bbbc7fe1-1bd6-4de9-8ed6-55229553a8cd",
   "metadata": {},
   "outputs": [
    {
     "data": {
      "image/png": "[encoded data removed]",
      "text/plain": [
       "<Figure size 640x480 with 2 Axes>"
      ]
     },
     "metadata": {},
     "output_type": "display_data"
    }
   ],
   "source": [
    "# building confusion matrix\n",
    "\n",
    "ConfusionMatrixDisplay.from_estimator(gs2, lr_X_test, lr_y_test);\n",
    "\n",
    "plt.title('Logistic Regression Confusion Matrix');\n",
    "\n",
    "plt.tight_layout()\n",
    "plt.savefig('./../images/logreg_cm.png');"
   ]
  },
  {
   "cell_type": "markdown",
   "id": "01c86c6e-380d-45ca-bf25-16f782990a33",
   "metadata": {},
   "source": [
    "As above, our confusion matrix visualizes how well our model performed in regard to accuracy, with true positive and true negative being 644 out of 673 predictions."
   ]
  },
  {
   "cell_type": "markdown",
   "id": "634854b2-e555-4d51-9c69-96213572f5b1",
   "metadata": {},
   "source": [
    "### Random Forests"
   ]
  },
  {
   "cell_type": "markdown",
   "id": "a8f1c0bd-544f-4abf-8ebc-82120a00c2c4",
   "metadata": {},
   "source": [
    "I chose to use a random forests model in addition to the two models above to see if this model would handle the complex, non-linear relationships in our data better, to see if it could combat the slight class imbalance in our y, and in case there were any prominent outliers."
   ]
  },
  {
   "cell_type": "code",
   "execution_count": 28,
   "id": "f6b06967-a8d5-494c-8cce-61af8618457b",
   "metadata": {},
   "outputs": [],
   "source": [
    "# Setting up our X and y for LogReg and tf-idf modeling\n",
    "\n",
    "rf_X = total_combined_dfs['title_plus_selftext']\n",
    "rf_y = total_combined_dfs['subreddit']"
   ]
  },
  {
   "cell_type": "code",
   "execution_count": 29,
   "id": "f90cc63e-f584-429b-aad2-89ab9bb86eca",
   "metadata": {},
   "outputs": [
    {
     "data": {
      "text/plain": [
       "nba    0.527489\n",
       "nfl    0.472511\n",
       "Name: subreddit, dtype: float64"
      ]
     },
     "execution_count": 29,
     "metadata": {},
     "output_type": "execute_result"
    }
   ],
   "source": [
    "# Checking our baseline\n",
    "\n",
    "rf_y.value_counts(normalize= True)"
   ]
  },
  {
   "cell_type": "code",
   "execution_count": 30,
   "id": "80f90d18-cbc6-4fcb-ab6d-de28aeff1243",
   "metadata": {},
   "outputs": [],
   "source": [
    "# splitting our data into training and testing sets\n",
    "\n",
    "rf_X_train, rf_X_test, rf_y_train, rf_y_test = train_test_split(rf_X, rf_y, stratify = rf_y, random_state= 42)"
   ]
  },
  {
   "cell_type": "code",
   "execution_count": 31,
   "id": "0474da8d-98e4-4f5b-a627-5716f1be9961",
   "metadata": {},
   "outputs": [],
   "source": [
    "# setting up pipeline\n",
    "\n",
    "pipe3 = Pipeline([\n",
    "    ('tvec', TfidfVectorizer()),\n",
    "    ('rf', RandomForestClassifier())\n",
    "])"
   ]
  },
  {
   "cell_type": "code",
   "execution_count": 32,
   "id": "6ea7bb5d-e140-412a-955e-10e40cedd423",
   "metadata": {},
   "outputs": [],
   "source": [
    "# setting parameters\n",
    "\n",
    "pipe3_params = {\n",
    "    'rf__n_estimators': [100, 150, 200],\n",
    "    'tvec__stop_words': [None, 'english', custom_stop_words3],\n",
    "    'rf__max_depth': [None, 1, 2, 3, 4, 5]\n",
    "}"
   ]
  },
  {
   "cell_type": "code",
   "execution_count": 33,
   "id": "4e2a2974-ef2d-41b0-9742-5152473c2426",
   "metadata": {},
   "outputs": [
    {
     "data": {
      "text/html": [
       "<style>#sk-container-id-2 {color: black;background-color: white;}#sk-container-id-2 pre{padding: 0;}#sk-container-id-2 div.sk-toggleable {background-color: white;}#sk-container-id-2 label.sk-toggleable__label {cursor: pointer;display: block;width: 100%;margin-bottom: 0;padding: 0.3em;box-sizing: border-box;text-align: center;}#sk-container-id-2 label.sk-toggleable__label-arrow:before {content: \"▸\";float: left;margin-right: 0.25em;color: #696969;}#sk-container-id-2 label.sk-toggleable__label-arrow:hover:before {color: black;}#sk-container-id-2 div.sk-estimator:hover label.sk-toggleable__label-arrow:before {color: black;}#sk-container-id-2 div.sk-toggleable__content {max-height: 0;max-width: 0;overflow: hidden;text-align: left;background-color: #f0f8ff;}#sk-container-id-2 div.sk-toggleable__content pre {margin: 0.2em;color: black;border-radius: 0.25em;background-color: #f0f8ff;}#sk-container-id-2 input.sk-toggleable__control:checked~div.sk-toggleable__content {max-height: 200px;max-width: 100%;overflow: auto;}#sk-container-id-2 input.sk-toggleable__control:checked~label.sk-toggleable__label-arrow:before {content: \"▾\";}#sk-container-id-2 div.sk-estimator input.sk-toggleable__control:checked~label.sk-toggleable__label {background-color: #d4ebff;}#sk-container-id-2 div.sk-label input.sk-toggleable__control:checked~label.sk-toggleable__label {background-color: #d4ebff;}#sk-container-id-2 input.sk-hidden--visually {border: 0;clip: rect(1px 1px 1px 1px);clip: rect(1px, 1px, 1px, 1px);height: 1px;margin: -1px;overflow: hidden;padding: 0;position: absolute;width: 1px;}#sk-container-id-2 div.sk-estimator {font-family: monospace;background-color: #f0f8ff;border: 1px dotted black;border-radius: 0.25em;box-sizing: border-box;margin-bottom: 0.5em;}#sk-container-id-2 div.sk-estimator:hover {background-color: #d4ebff;}#sk-container-id-2 div.sk-parallel-item::after {content: \"\";width: 100%;border-bottom: 1px solid gray;flex-grow: 1;}#sk-container-id-2 div.sk-label:hover label.sk-toggleable__label {background-color: #d4ebff;}#sk-container-id-2 div.sk-serial::before {content: \"\";position: absolute;border-left: 1px solid gray;box-sizing: border-box;top: 0;bottom: 0;left: 50%;z-index: 0;}#sk-container-id-2 div.sk-serial {display: flex;flex-direction: column;align-items: center;background-color: white;padding-right: 0.2em;padding-left: 0.2em;position: relative;}#sk-container-id-2 div.sk-item {position: relative;z-index: 1;}#sk-container-id-2 div.sk-parallel {display: flex;align-items: stretch;justify-content: center;background-color: white;position: relative;}#sk-container-id-2 div.sk-item::before, #sk-container-id-2 div.sk-parallel-item::before {content: \"\";position: absolute;border-left: 1px solid gray;box-sizing: border-box;top: 0;bottom: 0;left: 50%;z-index: -1;}#sk-container-id-2 div.sk-parallel-item {display: flex;flex-direction: column;z-index: 1;position: relative;background-color: white;}#sk-container-id-2 div.sk-parallel-item:first-child::after {align-self: flex-end;width: 50%;}#sk-container-id-2 div.sk-parallel-item:last-child::after {align-self: flex-start;width: 50%;}#sk-container-id-2 div.sk-parallel-item:only-child::after {width: 0;}#sk-container-id-2 div.sk-dashed-wrapped {border: 1px dashed gray;margin: 0 0.4em 0.5em 0.4em;box-sizing: border-box;padding-bottom: 0.4em;background-color: white;}#sk-container-id-2 div.sk-label label {font-family: monospace;font-weight: bold;display: inline-block;line-height: 1.2em;}#sk-container-id-2 div.sk-label-container {text-align: center;}#sk-container-id-2 div.sk-container {/* jupyter's `normalize.less` sets `[hidden] { display: none; }` but bootstrap.min.css set `[hidden] { display: none !important; }` so we also need the `!important` here to be able to override the default hidden behavior on the sphinx rendered scikit-learn.org. See: https://github.com/scikit-learn/scikit-learn/issues/21755 */display: inline-block !important;position: relative;}#sk-container-id-2 div.sk-text-repr-fallback {display: none;}</style><div id=\"sk-container-id-2\" class=\"sk-top-container\"><div class=\"sk-text-repr-fallback\"><pre>GridSearchCV(cv=5,\n",
       "             estimator=Pipeline(steps=[(&#x27;tvec&#x27;, TfidfVectorizer()),\n",
       "                                       (&#x27;rf&#x27;, RandomForestClassifier())]),\n",
       "             param_grid={&#x27;rf__max_depth&#x27;: [None, 1, 2, 3, 4, 5],\n",
       "                         &#x27;rf__n_estimators&#x27;: [100, 150, 200],\n",
       "                         &#x27;tvec__stop_words&#x27;: [None, &#x27;english&#x27;,\n",
       "                                              [&#x27;nba&#x27;, &#x27;com&#x27;, &#x27;https&#x27;, &#x27;like&#x27;,\n",
       "                                               &#x27;reddit&#x27;, &#x27;amp&#x27;, &#x27;comments&#x27;,\n",
       "                                               &#x27;like&#x27;, &#x27;nfl&#x27;, &#x27;www&#x27;,\n",
       "                                               &#x27;utm_source&#x27;, &#x27;utm_medium&#x27;,\n",
       "                                               &#x27;web2x&#x27;]]})</pre><b>In a Jupyter environment, please rerun this cell to show the HTML representation or trust the notebook. <br />On GitHub, the HTML representation is unable to render, please try loading this page with nbviewer.org.</b></div><div class=\"sk-container\" hidden><div class=\"sk-item sk-dashed-wrapped\"><div class=\"sk-label-container\"><div class=\"sk-label sk-toggleable\"><input class=\"sk-toggleable__control sk-hidden--visually\" id=\"sk-estimator-id-5\" type=\"checkbox\" ><label for=\"sk-estimator-id-5\" class=\"sk-toggleable__label sk-toggleable__label-arrow\">GridSearchCV</label><div class=\"sk-toggleable__content\"><pre>GridSearchCV(cv=5,\n",
       "             estimator=Pipeline(steps=[(&#x27;tvec&#x27;, TfidfVectorizer()),\n",
       "                                       (&#x27;rf&#x27;, RandomForestClassifier())]),\n",
       "             param_grid={&#x27;rf__max_depth&#x27;: [None, 1, 2, 3, 4, 5],\n",
       "                         &#x27;rf__n_estimators&#x27;: [100, 150, 200],\n",
       "                         &#x27;tvec__stop_words&#x27;: [None, &#x27;english&#x27;,\n",
       "                                              [&#x27;nba&#x27;, &#x27;com&#x27;, &#x27;https&#x27;, &#x27;like&#x27;,\n",
       "                                               &#x27;reddit&#x27;, &#x27;amp&#x27;, &#x27;comments&#x27;,\n",
       "                                               &#x27;like&#x27;, &#x27;nfl&#x27;, &#x27;www&#x27;,\n",
       "                                               &#x27;utm_source&#x27;, &#x27;utm_medium&#x27;,\n",
       "                                               &#x27;web2x&#x27;]]})</pre></div></div></div><div class=\"sk-parallel\"><div class=\"sk-parallel-item\"><div class=\"sk-item\"><div class=\"sk-label-container\"><div class=\"sk-label sk-toggleable\"><input class=\"sk-toggleable__control sk-hidden--visually\" id=\"sk-estimator-id-6\" type=\"checkbox\" ><label for=\"sk-estimator-id-6\" class=\"sk-toggleable__label sk-toggleable__label-arrow\">estimator: Pipeline</label><div class=\"sk-toggleable__content\"><pre>Pipeline(steps=[(&#x27;tvec&#x27;, TfidfVectorizer()), (&#x27;rf&#x27;, RandomForestClassifier())])</pre></div></div></div><div class=\"sk-serial\"><div class=\"sk-item\"><div class=\"sk-serial\"><div class=\"sk-item\"><div class=\"sk-estimator sk-toggleable\"><input class=\"sk-toggleable__control sk-hidden--visually\" id=\"sk-estimator-id-7\" type=\"checkbox\" ><label for=\"sk-estimator-id-7\" class=\"sk-toggleable__label sk-toggleable__label-arrow\">TfidfVectorizer</label><div class=\"sk-toggleable__content\"><pre>TfidfVectorizer()</pre></div></div></div><div class=\"sk-item\"><div class=\"sk-estimator sk-toggleable\"><input class=\"sk-toggleable__control sk-hidden--visually\" id=\"sk-estimator-id-8\" type=\"checkbox\" ><label for=\"sk-estimator-id-8\" class=\"sk-toggleable__label sk-toggleable__label-arrow\">RandomForestClassifier</label><div class=\"sk-toggleable__content\"><pre>RandomForestClassifier()</pre></div></div></div></div></div></div></div></div></div></div></div></div>"
      ],
      "text/plain": [
       "GridSearchCV(cv=5,\n",
       "             estimator=Pipeline(steps=[('tvec', TfidfVectorizer()),\n",
       "                                       ('rf', RandomForestClassifier())]),\n",
       "             param_grid={'rf__max_depth': [None, 1, 2, 3, 4, 5],\n",
       "                         'rf__n_estimators': [100, 150, 200],\n",
       "                         'tvec__stop_words': [None, 'english',\n",
       "                                              ['nba', 'com', 'https', 'like',\n",
       "                                               'reddit', 'amp', 'comments',\n",
       "                                               'like', 'nfl', 'www',\n",
       "                                               'utm_source', 'utm_medium',\n",
       "                                               'web2x']]})"
      ]
     },
     "execution_count": 33,
     "metadata": {},
     "output_type": "execute_result"
    }
   ],
   "source": [
    "# Gridsearching\n",
    "\n",
    "gs3 = GridSearchCV(pipe3,\n",
    "                 param_grid=pipe3_params,\n",
    "                 cv = 5)\n",
    "\n",
    "gs3.fit(rf_X_train, rf_y_train)"
   ]
  },
  {
   "cell_type": "code",
   "execution_count": 34,
   "id": "5e4b33ef-7827-4cd7-846e-af4e193b6d84",
   "metadata": {},
   "outputs": [
    {
     "name": "stdout",
     "output_type": "stream",
     "text": [
      "1.0\n",
      "0.9331352154531947\n"
     ]
    }
   ],
   "source": [
    "# printing training and testing accuracy scores\n",
    "\n",
    "print(gs3.score(rf_X_train, rf_y_train))\n",
    "print(gs3.score(rf_X_test, rf_y_test))"
   ]
  },
  {
   "cell_type": "code",
   "execution_count": 41,
   "id": "3ac87edd-8148-4c4b-a72e-a3efa50202f2",
   "metadata": {
    "tags": []
   },
   "outputs": [
    {
     "data": {
      "text/plain": [
       "{'rf__max_depth': None, 'rf__n_estimators': 200, 'tvec__stop_words': 'english'}"
      ]
     },
     "execution_count": 41,
     "metadata": {},
     "output_type": "execute_result"
    }
   ],
   "source": [
    "gs3.best_params_"
   ]
  },
  {
   "cell_type": "markdown",
   "id": "06eaf25c-a44e-451c-927b-27887026e36a",
   "metadata": {},
   "source": [
    "As seem above, our Random Forests model performed perfectly on our training data (score of 1.0), but had a drop in our testing score (score of .93 after rounding). This tells us that our model might be somewhat overfit, and we would need to adjust our model if we wanted to move foward using this. This model does not meet our criteria of success."
   ]
  },
  {
   "cell_type": "code",
   "execution_count": 35,
   "id": "ee2119d7-1d28-4ef3-9e48-495a5cbe6b2a",
   "metadata": {},
   "outputs": [
    {
     "data": {
      "image/png": "[encoded data removed]",
      "text/plain": [
       "<Figure size 640x480 with 2 Axes>"
      ]
     },
     "metadata": {},
     "output_type": "display_data"
    }
   ],
   "source": [
    "# building confusion matrix\n",
    "\n",
    "ConfusionMatrixDisplay.from_estimator(gs3, rf_X_test, rf_y_test);\n",
    "\n",
    "plt.title('Random Forests Confusion Matrix');\n",
    "\n",
    "plt.tight_layout()\n",
    "plt.savefig('./../images/rf_cm.png');"
   ]
  },
  {
   "cell_type": "markdown",
   "id": "3572d9d0-7027-4dff-8732-7a58f2f11332",
   "metadata": {},
   "source": [
    "As in the above two, this confusion matrix visualizes how well our model performed in regard to accuracy, with true positive and true negative being 625 out of 673 predictions. Although, it performs the most poorly in comparision to the other two confusion matrices related to our other models."
   ]
  }
 ],
 "metadata": {
  "kernelspec": {
   "display_name": "Python 3 (ipykernel)",
   "language": "python",
   "name": "python3"
  },
  "language_info": {
   "codemirror_mode": {
    "name": "ipython",
    "version": 3
   },
   "file_extension": ".py",
   "mimetype": "text/x-python",
   "name": "python",
   "nbconvert_exporter": "python",
   "pygments_lexer": "ipython3",
   "version": "3.8.16"
  }
 },
 "nbformat": 4,
 "nbformat_minor": 5
}
