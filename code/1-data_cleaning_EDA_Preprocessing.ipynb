{
 "cells": [
  {
   "cell_type": "markdown",
   "id": "64262fda-0c59-425f-a6c2-dfcfcdfdab24",
   "metadata": {},
   "source": [
    "# Data Cleaning, EDA, and Preprocessing"
   ]
  },
  {
   "cell_type": "markdown",
   "id": "4b1387c5-7f58-4bdb-ac85-e4abaff7cafb",
   "metadata": {},
   "source": [
    "### Imports "
   ]
  },
  {
   "cell_type": "code",
   "execution_count": 1,
   "id": "28eefdd6-5b0e-4199-9a2e-be059e7fc866",
   "metadata": {},
   "outputs": [],
   "source": [
    "import pandas as pd\n",
    "import os\n",
    "import warnings\n",
    "warnings.filterwarnings(\"ignore\")\n",
    "\n",
    "import matplotlib.pyplot as plt\n",
    "from sklearn.model_selection import train_test_split\n",
    "from nltk.corpus import stopwords\n",
    "from sklearn.metrics import confusion_matrix, ConfusionMatrixDisplay\n",
    "from sklearn.feature_extraction.text import CountVectorizer, TfidfVectorizer"
   ]
  },
  {
   "cell_type": "markdown",
   "id": "90031748-38d3-4d24-8943-16981194c981",
   "metadata": {},
   "source": [
    "_____________________________\n",
    "## Combining NFL CSV Files into a Dataframe"
   ]
  },
  {
   "cell_type": "markdown",
   "id": "1ba18a1b-d619-44f3-9017-74faaac2d53b",
   "metadata": {},
   "source": [
    "In order to analyze our data from each subreddit as a whole, we need to combine the individual csv dataframes that we pulled using the scraper() function."
   ]
  },
  {
   "cell_type": "code",
   "execution_count": 2,
   "id": "b4a83c66-5730-4225-b5ef-3ba355a8a5c0",
   "metadata": {},
   "outputs": [],
   "source": [
    "# creating a list of all of the csv files from our nfl subreddit\n",
    "\n",
    "nfl_csvs = ['./../data/nfl_aug_2nd.csv', './../data/nfl_aug_7.csv', './../data/nfl_aug_8.csv', './../data/nfl_aug_9_new_tab.csv', \n",
    "            './../data/nfl_aug_10_new_tab.csv', './../data/nfl_aug_10_hot_tab.csv', './../data/nfl_aug_10_top_tab.csv', \n",
    "            './../data/nfl_aug_13_new_tab.csv']\n",
    "\n",
    "# creating a for loop to loop through all of the files in nfl_csvs, reading them in, and appending them to a new list: nfl_dfs\n",
    "\n",
    "nfl_dfs = []\n",
    "\n",
    "for nfl_file in nfl_csvs:\n",
    "    df = pd.read_csv(nfl_file)\n",
    "    nfl_dfs.append(df)"
   ]
  },
  {
   "cell_type": "code",
   "execution_count": 3,
   "id": "55413cd1-0f40-4157-9ad5-78f677fc57dc",
   "metadata": {},
   "outputs": [],
   "source": [
    "# concatenating the datasets on top of each other so that we have one large dataframe\n",
    "\n",
    "combined_nfl_df = pd.concat(nfl_dfs, ignore_index = True)"
   ]
  },
  {
   "cell_type": "code",
   "execution_count": 4,
   "id": "98a79179-69b5-4271-b458-15fcb1218240",
   "metadata": {},
   "outputs": [
    {
     "data": {
      "text/html": [
       "<div>\n",
       "<style scoped>\n",
       "    .dataframe tbody tr th:only-of-type {\n",
       "        vertical-align: middle;\n",
       "    }\n",
       "\n",
       "    .dataframe tbody tr th {\n",
       "        vertical-align: top;\n",
       "    }\n",
       "\n",
       "    .dataframe thead th {\n",
       "        text-align: right;\n",
       "    }\n",
       "</style>\n",
       "<table border=\"1\" class=\"dataframe\">\n",
       "  <thead>\n",
       "    <tr style=\"text-align: right;\">\n",
       "      <th></th>\n",
       "      <th>Unnamed: 0</th>\n",
       "      <th>title</th>\n",
       "      <th>subreddit</th>\n",
       "      <th>selftext</th>\n",
       "      <th>subreddit_id</th>\n",
       "      <th>name</th>\n",
       "      <th>upvote_ratio</th>\n",
       "      <th>media</th>\n",
       "      <th>is_video</th>\n",
       "      <th>created_utc</th>\n",
       "    </tr>\n",
       "  </thead>\n",
       "  <tbody>\n",
       "    <tr>\n",
       "      <th>0</th>\n",
       "      <td>0</td>\n",
       "      <td>2023 Offseason Review: Minnesota Vikings</td>\n",
       "      <td>nfl</td>\n",
       "      <td># [Series Hub](https://www.reddit.com/r/nfl/co...</td>\n",
       "      <td>t5_2qmg3</td>\n",
       "      <td>NaN</td>\n",
       "      <td>NaN</td>\n",
       "      <td>NaN</td>\n",
       "      <td>NaN</td>\n",
       "      <td>NaN</td>\n",
       "    </tr>\n",
       "    <tr>\n",
       "      <th>1</th>\n",
       "      <td>1</td>\n",
       "      <td>2023 Offseason Review: San Francisco 49ers</td>\n",
       "      <td>nfl</td>\n",
       "      <td>#San Francisco 49ers Offseason Review\\n\\n##[Se...</td>\n",
       "      <td>t5_2qmg3</td>\n",
       "      <td>NaN</td>\n",
       "      <td>NaN</td>\n",
       "      <td>NaN</td>\n",
       "      <td>NaN</td>\n",
       "      <td>NaN</td>\n",
       "    </tr>\n",
       "    <tr>\n",
       "      <th>2</th>\n",
       "      <td>2</td>\n",
       "      <td>Tua Tagovailoa says everything he did this off...</td>\n",
       "      <td>nfl</td>\n",
       "      <td>&amp;gt;Tagovailoa also talked about choosing a ne...</td>\n",
       "      <td>t5_2qmg3</td>\n",
       "      <td>NaN</td>\n",
       "      <td>NaN</td>\n",
       "      <td>NaN</td>\n",
       "      <td>NaN</td>\n",
       "      <td>NaN</td>\n",
       "    </tr>\n",
       "    <tr>\n",
       "      <th>3</th>\n",
       "      <td>3</td>\n",
       "      <td>[Glaser] “Zach Wilson has played really well i...</td>\n",
       "      <td>nfl</td>\n",
       "      <td>NaN</td>\n",
       "      <td>t5_2qmg3</td>\n",
       "      <td>NaN</td>\n",
       "      <td>NaN</td>\n",
       "      <td>NaN</td>\n",
       "      <td>NaN</td>\n",
       "      <td>NaN</td>\n",
       "    </tr>\n",
       "    <tr>\n",
       "      <th>4</th>\n",
       "      <td>4</td>\n",
       "      <td>[JacobWestendorf] #Broncos RB Terrell Davis pl...</td>\n",
       "      <td>nfl</td>\n",
       "      <td>NaN</td>\n",
       "      <td>t5_2qmg3</td>\n",
       "      <td>NaN</td>\n",
       "      <td>NaN</td>\n",
       "      <td>NaN</td>\n",
       "      <td>NaN</td>\n",
       "      <td>NaN</td>\n",
       "    </tr>\n",
       "  </tbody>\n",
       "</table>\n",
       "</div>"
      ],
      "text/plain": [
       "   Unnamed: 0                                              title subreddit  \\\n",
       "0           0           2023 Offseason Review: Minnesota Vikings       nfl   \n",
       "1           1         2023 Offseason Review: San Francisco 49ers       nfl   \n",
       "2           2  Tua Tagovailoa says everything he did this off...       nfl   \n",
       "3           3  [Glaser] “Zach Wilson has played really well i...       nfl   \n",
       "4           4  [JacobWestendorf] #Broncos RB Terrell Davis pl...       nfl   \n",
       "\n",
       "                                            selftext subreddit_id name  \\\n",
       "0  # [Series Hub](https://www.reddit.com/r/nfl/co...     t5_2qmg3  NaN   \n",
       "1  #San Francisco 49ers Offseason Review\\n\\n##[Se...     t5_2qmg3  NaN   \n",
       "2  &gt;Tagovailoa also talked about choosing a ne...     t5_2qmg3  NaN   \n",
       "3                                                NaN     t5_2qmg3  NaN   \n",
       "4                                                NaN     t5_2qmg3  NaN   \n",
       "\n",
       "   upvote_ratio media is_video  created_utc  \n",
       "0           NaN   NaN      NaN          NaN  \n",
       "1           NaN   NaN      NaN          NaN  \n",
       "2           NaN   NaN      NaN          NaN  \n",
       "3           NaN   NaN      NaN          NaN  \n",
       "4           NaN   NaN      NaN          NaN  "
      ]
     },
     "execution_count": 4,
     "metadata": {},
     "output_type": "execute_result"
    }
   ],
   "source": [
    "# making sure the above few cells worked\n",
    "\n",
    "combined_nfl_df.head()"
   ]
  },
  {
   "cell_type": "code",
   "execution_count": 5,
   "id": "02f0eedb-7b13-47d4-8918-1250190f00f1",
   "metadata": {},
   "outputs": [
    {
     "data": {
      "text/plain": [
       "(6735, 10)"
      ]
     },
     "execution_count": 5,
     "metadata": {},
     "output_type": "execute_result"
    }
   ],
   "source": [
    "# checking the shape of the new dataframe\n",
    "\n",
    "combined_nfl_df.shape"
   ]
  },
  {
   "cell_type": "code",
   "execution_count": 6,
   "id": "097b001e-cca3-41b2-b1d2-edd0b47cc9dc",
   "metadata": {},
   "outputs": [
    {
     "data": {
      "text/plain": [
       "1272"
      ]
     },
     "execution_count": 6,
     "metadata": {},
     "output_type": "execute_result"
    }
   ],
   "source": [
    "# seeing how many observations within the new dataframe are unique\n",
    "\n",
    "combined_nfl_df['title'].nunique()"
   ]
  },
  {
   "cell_type": "code",
   "execution_count": 7,
   "id": "65e6c65b-c7a2-4c9e-8c07-e5b0a0616f3e",
   "metadata": {},
   "outputs": [],
   "source": [
    "# dropping all duplicated observations\n",
    "\n",
    "combined_nfl_df = combined_nfl_df.drop_duplicates(subset = 'title')"
   ]
  },
  {
   "cell_type": "code",
   "execution_count": 8,
   "id": "f2edfc0d-1658-4c67-a043-46bb801b51db",
   "metadata": {},
   "outputs": [
    {
     "data": {
      "text/plain": [
       "(1272, 10)"
      ]
     },
     "execution_count": 8,
     "metadata": {},
     "output_type": "execute_result"
    }
   ],
   "source": [
    "# checking shape after previous cell\n",
    "\n",
    "combined_nfl_df.shape"
   ]
  },
  {
   "cell_type": "code",
   "execution_count": 9,
   "id": "ec766495-67e4-4c32-9b47-8b5bbc4c5433",
   "metadata": {},
   "outputs": [
    {
     "data": {
      "text/plain": [
       "Unnamed: 0         0\n",
       "title              0\n",
       "subreddit          0\n",
       "selftext        1048\n",
       "subreddit_id       0\n",
       "name             100\n",
       "upvote_ratio     351\n",
       "media            810\n",
       "is_video         351\n",
       "created_utc      351\n",
       "dtype: int64"
      ]
     },
     "execution_count": 9,
     "metadata": {},
     "output_type": "execute_result"
    }
   ],
   "source": [
    "# checking to see how many null values we have in our new dataframe\n",
    "\n",
    "combined_nfl_df.isnull().sum()"
   ]
  },
  {
   "cell_type": "code",
   "execution_count": 10,
   "id": "81eee3c9-80dd-4ed5-9e68-e15397da62a7",
   "metadata": {},
   "outputs": [],
   "source": [
    "# filling the null values within our dataframe with an empty string - since we end up dropping every feature below `subreddit_id` below, \n",
    "# this code will only have an effect on the null values in `selftext` \n",
    "# I chose to fill the null values in `selftext` because I am projecting that the majority of those observations don't have any self text, and only have a title, based on observing the subreddit\n",
    "\n",
    "combined_nfl_df.fillna('', inplace = True)"
   ]
  },
  {
   "cell_type": "code",
   "execution_count": 11,
   "id": "1b30d010-b35c-460d-9458-9dfdd2bb26aa",
   "metadata": {},
   "outputs": [
    {
     "data": {
      "text/plain": [
       "Unnamed: 0      0\n",
       "title           0\n",
       "subreddit       0\n",
       "selftext        0\n",
       "subreddit_id    0\n",
       "name            0\n",
       "upvote_ratio    0\n",
       "media           0\n",
       "is_video        0\n",
       "created_utc     0\n",
       "dtype: int64"
      ]
     },
     "execution_count": 11,
     "metadata": {},
     "output_type": "execute_result"
    }
   ],
   "source": [
    "combined_nfl_df.isnull().sum()"
   ]
  },
  {
   "cell_type": "code",
   "execution_count": 12,
   "id": "0fdaed20-7e68-495e-915f-50214ce72664",
   "metadata": {},
   "outputs": [],
   "source": [
    "# dropping the below columns because some of the csv files have the below columns as features, and some did not, so those columns were incomplete\n",
    "\n",
    "combined_nfl_df = combined_nfl_df.drop(columns = ['Unnamed: 0', 'name', 'upvote_ratio', 'media', 'is_video', 'created_utc'])"
   ]
  },
  {
   "cell_type": "code",
   "execution_count": 13,
   "id": "e14583f2-51f3-47c8-aac5-b6dc91c05d38",
   "metadata": {},
   "outputs": [
    {
     "data": {
      "text/html": [
       "<div>\n",
       "<style scoped>\n",
       "    .dataframe tbody tr th:only-of-type {\n",
       "        vertical-align: middle;\n",
       "    }\n",
       "\n",
       "    .dataframe tbody tr th {\n",
       "        vertical-align: top;\n",
       "    }\n",
       "\n",
       "    .dataframe thead th {\n",
       "        text-align: right;\n",
       "    }\n",
       "</style>\n",
       "<table border=\"1\" class=\"dataframe\">\n",
       "  <thead>\n",
       "    <tr style=\"text-align: right;\">\n",
       "      <th></th>\n",
       "      <th>title</th>\n",
       "      <th>subreddit</th>\n",
       "      <th>selftext</th>\n",
       "      <th>subreddit_id</th>\n",
       "    </tr>\n",
       "  </thead>\n",
       "  <tbody>\n",
       "    <tr>\n",
       "      <th>0</th>\n",
       "      <td>2023 Offseason Review: Minnesota Vikings</td>\n",
       "      <td>nfl</td>\n",
       "      <td># [Series Hub](https://www.reddit.com/r/nfl/co...</td>\n",
       "      <td>t5_2qmg3</td>\n",
       "    </tr>\n",
       "    <tr>\n",
       "      <th>1</th>\n",
       "      <td>2023 Offseason Review: San Francisco 49ers</td>\n",
       "      <td>nfl</td>\n",
       "      <td>#San Francisco 49ers Offseason Review\\n\\n##[Se...</td>\n",
       "      <td>t5_2qmg3</td>\n",
       "    </tr>\n",
       "    <tr>\n",
       "      <th>2</th>\n",
       "      <td>Tua Tagovailoa says everything he did this off...</td>\n",
       "      <td>nfl</td>\n",
       "      <td>&amp;gt;Tagovailoa also talked about choosing a ne...</td>\n",
       "      <td>t5_2qmg3</td>\n",
       "    </tr>\n",
       "    <tr>\n",
       "      <th>3</th>\n",
       "      <td>[Glaser] “Zach Wilson has played really well i...</td>\n",
       "      <td>nfl</td>\n",
       "      <td></td>\n",
       "      <td>t5_2qmg3</td>\n",
       "    </tr>\n",
       "    <tr>\n",
       "      <th>4</th>\n",
       "      <td>[JacobWestendorf] #Broncos RB Terrell Davis pl...</td>\n",
       "      <td>nfl</td>\n",
       "      <td></td>\n",
       "      <td>t5_2qmg3</td>\n",
       "    </tr>\n",
       "  </tbody>\n",
       "</table>\n",
       "</div>"
      ],
      "text/plain": [
       "                                               title subreddit  \\\n",
       "0           2023 Offseason Review: Minnesota Vikings       nfl   \n",
       "1         2023 Offseason Review: San Francisco 49ers       nfl   \n",
       "2  Tua Tagovailoa says everything he did this off...       nfl   \n",
       "3  [Glaser] “Zach Wilson has played really well i...       nfl   \n",
       "4  [JacobWestendorf] #Broncos RB Terrell Davis pl...       nfl   \n",
       "\n",
       "                                            selftext subreddit_id  \n",
       "0  # [Series Hub](https://www.reddit.com/r/nfl/co...     t5_2qmg3  \n",
       "1  #San Francisco 49ers Offseason Review\\n\\n##[Se...     t5_2qmg3  \n",
       "2  &gt;Tagovailoa also talked about choosing a ne...     t5_2qmg3  \n",
       "3                                                        t5_2qmg3  \n",
       "4                                                        t5_2qmg3  "
      ]
     },
     "execution_count": 13,
     "metadata": {},
     "output_type": "execute_result"
    }
   ],
   "source": [
    "# checking to see if the above few cells worked\n",
    "\n",
    "combined_nfl_df.head()"
   ]
  },
  {
   "cell_type": "markdown",
   "id": "f558c13b-3d81-4031-b1fb-8dcf8939b66a",
   "metadata": {},
   "source": [
    "### Saving new combined NFL dataframe"
   ]
  },
  {
   "cell_type": "code",
   "execution_count": 14,
   "id": "6490c7ae-843d-4292-9580-bccbc47b68aa",
   "metadata": {},
   "outputs": [],
   "source": [
    "# saving the new dataframe to a csv after data cleaning\n",
    "\n",
    "combined_nfl_df.to_csv('./../data/combined_nfl_df.csv', index = False)"
   ]
  },
  {
   "cell_type": "markdown",
   "id": "930624eb-9b39-4c9b-acea-09716ec00a56",
   "metadata": {},
   "source": [
    "## Combining NBA CSV Files into a Dataframe"
   ]
  },
  {
   "cell_type": "markdown",
   "id": "d13f31c9-984e-4b67-9515-bfb0fe5e8b30",
   "metadata": {},
   "source": [
    "The cells within this section are performing the exact same function on the data from the NBA subreddit as they did above for the NFL data. Please see comments within the cells in the above section if explanation for each cell is needed."
   ]
  },
  {
   "cell_type": "code",
   "execution_count": 15,
   "id": "d487bb0b-ae22-4891-bfd2-209e43cdadd2",
   "metadata": {},
   "outputs": [],
   "source": [
    "nba_csvs = ['./../data/nba_aug_2nd.csv', './../data/nba_aug_7.csv', './../data/nba_aug_9_new_tab.csv', \n",
    "            './../data/nba_aug_10_new_tab.csv','./../data/nba_aug_13_new_tab.csv']"
   ]
  },
  {
   "cell_type": "code",
   "execution_count": 16,
   "id": "87418ba4-3a38-4533-9778-ffcb58237730",
   "metadata": {},
   "outputs": [],
   "source": [
    "nba_dfs = []\n",
    "\n",
    "for nba_file in nba_csvs:\n",
    "    df = pd.read_csv(nba_file)\n",
    "    nba_dfs.append(df)"
   ]
  },
  {
   "cell_type": "code",
   "execution_count": 17,
   "id": "d836409f-0458-4e99-a85e-0e32347cb747",
   "metadata": {},
   "outputs": [],
   "source": [
    "combined_nba_df = pd.concat(nba_dfs, ignore_index = True)"
   ]
  },
  {
   "cell_type": "code",
   "execution_count": 18,
   "id": "b608dbf5-6f18-4876-ac2b-0ba5c5d2f51d",
   "metadata": {},
   "outputs": [
    {
     "data": {
      "text/html": [
       "<div>\n",
       "<style scoped>\n",
       "    .dataframe tbody tr th:only-of-type {\n",
       "        vertical-align: middle;\n",
       "    }\n",
       "\n",
       "    .dataframe tbody tr th {\n",
       "        vertical-align: top;\n",
       "    }\n",
       "\n",
       "    .dataframe thead th {\n",
       "        text-align: right;\n",
       "    }\n",
       "</style>\n",
       "<table border=\"1\" class=\"dataframe\">\n",
       "  <thead>\n",
       "    <tr style=\"text-align: right;\">\n",
       "      <th></th>\n",
       "      <th>Unnamed: 0</th>\n",
       "      <th>title</th>\n",
       "      <th>subreddit</th>\n",
       "      <th>selftext</th>\n",
       "      <th>subreddit_id</th>\n",
       "      <th>name</th>\n",
       "      <th>upvote_ratio</th>\n",
       "      <th>media</th>\n",
       "      <th>is_video</th>\n",
       "      <th>created_utc</th>\n",
       "    </tr>\n",
       "  </thead>\n",
       "  <tbody>\n",
       "    <tr>\n",
       "      <th>0</th>\n",
       "      <td>0</td>\n",
       "      <td>2023-24 NBA Free Agent Tracker</td>\n",
       "      <td>nba</td>\n",
       "      <td>Very basic tool I made. Hope this helps and fe...</td>\n",
       "      <td>t5_2qo4s</td>\n",
       "      <td>NaN</td>\n",
       "      <td>NaN</td>\n",
       "      <td>NaN</td>\n",
       "      <td>NaN</td>\n",
       "      <td>NaN</td>\n",
       "    </tr>\n",
       "    <tr>\n",
       "      <th>1</th>\n",
       "      <td>1</td>\n",
       "      <td>[Larry Nance Jr.] So the @OrlandoMagic who hav...</td>\n",
       "      <td>nba</td>\n",
       "      <td>[Tweet](https://twitter.com/larrydn22/status/1...</td>\n",
       "      <td>t5_2qo4s</td>\n",
       "      <td>NaN</td>\n",
       "      <td>NaN</td>\n",
       "      <td>NaN</td>\n",
       "      <td>NaN</td>\n",
       "      <td>NaN</td>\n",
       "    </tr>\n",
       "    <tr>\n",
       "      <th>2</th>\n",
       "      <td>2</td>\n",
       "      <td>Cooper Flagg was allegedly “cooking” Bradley B...</td>\n",
       "      <td>nba</td>\n",
       "      <td>“I heard that my boy Cooper Flagg was at Jayso...</td>\n",
       "      <td>t5_2qo4s</td>\n",
       "      <td>NaN</td>\n",
       "      <td>NaN</td>\n",
       "      <td>NaN</td>\n",
       "      <td>NaN</td>\n",
       "      <td>NaN</td>\n",
       "    </tr>\n",
       "    <tr>\n",
       "      <th>3</th>\n",
       "      <td>3</td>\n",
       "      <td>Which players legacy is most impacted if their...</td>\n",
       "      <td>nba</td>\n",
       "      <td>Off-season post obviously, some I thought of:\\...</td>\n",
       "      <td>t5_2qo4s</td>\n",
       "      <td>NaN</td>\n",
       "      <td>NaN</td>\n",
       "      <td>NaN</td>\n",
       "      <td>NaN</td>\n",
       "      <td>NaN</td>\n",
       "    </tr>\n",
       "    <tr>\n",
       "      <th>4</th>\n",
       "      <td>4</td>\n",
       "      <td>[Charania] A month after Damian Lillard reques...</td>\n",
       "      <td>nba</td>\n",
       "      <td>&amp;gt;There remains no shift in Lillard’s mindse...</td>\n",
       "      <td>t5_2qo4s</td>\n",
       "      <td>NaN</td>\n",
       "      <td>NaN</td>\n",
       "      <td>NaN</td>\n",
       "      <td>NaN</td>\n",
       "      <td>NaN</td>\n",
       "    </tr>\n",
       "  </tbody>\n",
       "</table>\n",
       "</div>"
      ],
      "text/plain": [
       "   Unnamed: 0                                              title subreddit  \\\n",
       "0           0                     2023-24 NBA Free Agent Tracker       nba   \n",
       "1           1  [Larry Nance Jr.] So the @OrlandoMagic who hav...       nba   \n",
       "2           2  Cooper Flagg was allegedly “cooking” Bradley B...       nba   \n",
       "3           3  Which players legacy is most impacted if their...       nba   \n",
       "4           4  [Charania] A month after Damian Lillard reques...       nba   \n",
       "\n",
       "                                            selftext subreddit_id name  \\\n",
       "0  Very basic tool I made. Hope this helps and fe...     t5_2qo4s  NaN   \n",
       "1  [Tweet](https://twitter.com/larrydn22/status/1...     t5_2qo4s  NaN   \n",
       "2  “I heard that my boy Cooper Flagg was at Jayso...     t5_2qo4s  NaN   \n",
       "3  Off-season post obviously, some I thought of:\\...     t5_2qo4s  NaN   \n",
       "4  &gt;There remains no shift in Lillard’s mindse...     t5_2qo4s  NaN   \n",
       "\n",
       "   upvote_ratio media is_video  created_utc  \n",
       "0           NaN   NaN      NaN          NaN  \n",
       "1           NaN   NaN      NaN          NaN  \n",
       "2           NaN   NaN      NaN          NaN  \n",
       "3           NaN   NaN      NaN          NaN  \n",
       "4           NaN   NaN      NaN          NaN  "
      ]
     },
     "execution_count": 18,
     "metadata": {},
     "output_type": "execute_result"
    }
   ],
   "source": [
    "combined_nba_df.head()"
   ]
  },
  {
   "cell_type": "code",
   "execution_count": 19,
   "id": "d6766f04-79fe-4548-8e91-4d3f3b895a04",
   "metadata": {},
   "outputs": [
    {
     "data": {
      "text/plain": [
       "(4955, 10)"
      ]
     },
     "execution_count": 19,
     "metadata": {},
     "output_type": "execute_result"
    }
   ],
   "source": [
    "combined_nba_df.shape"
   ]
  },
  {
   "cell_type": "code",
   "execution_count": 20,
   "id": "b27f8249-82bc-45f2-8566-eb602de3964e",
   "metadata": {},
   "outputs": [
    {
     "data": {
      "text/plain": [
       "1420"
      ]
     },
     "execution_count": 20,
     "metadata": {},
     "output_type": "execute_result"
    }
   ],
   "source": [
    "combined_nba_df['title'].nunique()"
   ]
  },
  {
   "cell_type": "code",
   "execution_count": 21,
   "id": "71d83741-b978-4c03-9d77-8424a11f069f",
   "metadata": {},
   "outputs": [],
   "source": [
    "combined_nba_df = combined_nba_df.drop(columns = ['Unnamed: 0', 'name', 'upvote_ratio', 'media', 'is_video', 'created_utc'])"
   ]
  },
  {
   "cell_type": "code",
   "execution_count": 22,
   "id": "9b4aa4c2-7591-4cf6-9818-231ceabb6525",
   "metadata": {},
   "outputs": [
    {
     "data": {
      "text/html": [
       "<div>\n",
       "<style scoped>\n",
       "    .dataframe tbody tr th:only-of-type {\n",
       "        vertical-align: middle;\n",
       "    }\n",
       "\n",
       "    .dataframe tbody tr th {\n",
       "        vertical-align: top;\n",
       "    }\n",
       "\n",
       "    .dataframe thead th {\n",
       "        text-align: right;\n",
       "    }\n",
       "</style>\n",
       "<table border=\"1\" class=\"dataframe\">\n",
       "  <thead>\n",
       "    <tr style=\"text-align: right;\">\n",
       "      <th></th>\n",
       "      <th>title</th>\n",
       "      <th>subreddit</th>\n",
       "      <th>selftext</th>\n",
       "      <th>subreddit_id</th>\n",
       "    </tr>\n",
       "  </thead>\n",
       "  <tbody>\n",
       "    <tr>\n",
       "      <th>0</th>\n",
       "      <td>2023-24 NBA Free Agent Tracker</td>\n",
       "      <td>nba</td>\n",
       "      <td>Very basic tool I made. Hope this helps and fe...</td>\n",
       "      <td>t5_2qo4s</td>\n",
       "    </tr>\n",
       "    <tr>\n",
       "      <th>1</th>\n",
       "      <td>[Larry Nance Jr.] So the @OrlandoMagic who hav...</td>\n",
       "      <td>nba</td>\n",
       "      <td>[Tweet](https://twitter.com/larrydn22/status/1...</td>\n",
       "      <td>t5_2qo4s</td>\n",
       "    </tr>\n",
       "    <tr>\n",
       "      <th>2</th>\n",
       "      <td>Cooper Flagg was allegedly “cooking” Bradley B...</td>\n",
       "      <td>nba</td>\n",
       "      <td>“I heard that my boy Cooper Flagg was at Jayso...</td>\n",
       "      <td>t5_2qo4s</td>\n",
       "    </tr>\n",
       "    <tr>\n",
       "      <th>3</th>\n",
       "      <td>Which players legacy is most impacted if their...</td>\n",
       "      <td>nba</td>\n",
       "      <td>Off-season post obviously, some I thought of:\\...</td>\n",
       "      <td>t5_2qo4s</td>\n",
       "    </tr>\n",
       "    <tr>\n",
       "      <th>4</th>\n",
       "      <td>[Charania] A month after Damian Lillard reques...</td>\n",
       "      <td>nba</td>\n",
       "      <td>&amp;gt;There remains no shift in Lillard’s mindse...</td>\n",
       "      <td>t5_2qo4s</td>\n",
       "    </tr>\n",
       "  </tbody>\n",
       "</table>\n",
       "</div>"
      ],
      "text/plain": [
       "                                               title subreddit  \\\n",
       "0                     2023-24 NBA Free Agent Tracker       nba   \n",
       "1  [Larry Nance Jr.] So the @OrlandoMagic who hav...       nba   \n",
       "2  Cooper Flagg was allegedly “cooking” Bradley B...       nba   \n",
       "3  Which players legacy is most impacted if their...       nba   \n",
       "4  [Charania] A month after Damian Lillard reques...       nba   \n",
       "\n",
       "                                            selftext subreddit_id  \n",
       "0  Very basic tool I made. Hope this helps and fe...     t5_2qo4s  \n",
       "1  [Tweet](https://twitter.com/larrydn22/status/1...     t5_2qo4s  \n",
       "2  “I heard that my boy Cooper Flagg was at Jayso...     t5_2qo4s  \n",
       "3  Off-season post obviously, some I thought of:\\...     t5_2qo4s  \n",
       "4  &gt;There remains no shift in Lillard’s mindse...     t5_2qo4s  "
      ]
     },
     "execution_count": 22,
     "metadata": {},
     "output_type": "execute_result"
    }
   ],
   "source": [
    "combined_nba_df.head()"
   ]
  },
  {
   "cell_type": "code",
   "execution_count": 23,
   "id": "4a61d116-5387-4c02-8292-d0ec0943c726",
   "metadata": {},
   "outputs": [
    {
     "data": {
      "text/plain": [
       "title              0\n",
       "subreddit          0\n",
       "selftext        2277\n",
       "subreddit_id       0\n",
       "dtype: int64"
      ]
     },
     "execution_count": 23,
     "metadata": {},
     "output_type": "execute_result"
    }
   ],
   "source": [
    "combined_nba_df.isnull().sum()"
   ]
  },
  {
   "cell_type": "code",
   "execution_count": 24,
   "id": "003b0292-f6d6-46d3-8172-dff74514d308",
   "metadata": {},
   "outputs": [],
   "source": [
    "combined_nba_df.fillna('', inplace = True)"
   ]
  },
  {
   "cell_type": "code",
   "execution_count": 25,
   "id": "6d056b31-8a12-4a36-87c3-22dc33bad12b",
   "metadata": {},
   "outputs": [
    {
     "data": {
      "text/plain": [
       "title           0\n",
       "subreddit       0\n",
       "selftext        0\n",
       "subreddit_id    0\n",
       "dtype: int64"
      ]
     },
     "execution_count": 25,
     "metadata": {},
     "output_type": "execute_result"
    }
   ],
   "source": [
    "combined_nba_df.isnull().sum()"
   ]
  },
  {
   "cell_type": "code",
   "execution_count": 26,
   "id": "834e4baa-9b04-4ec5-917e-3f8d9c756b83",
   "metadata": {},
   "outputs": [],
   "source": [
    "combined_nba_df = combined_nba_df.drop_duplicates(subset = 'title')"
   ]
  },
  {
   "cell_type": "code",
   "execution_count": 27,
   "id": "2dc2f19f-da6e-4938-a71a-fad97310b74c",
   "metadata": {},
   "outputs": [
    {
     "data": {
      "text/plain": [
       "(1420, 4)"
      ]
     },
     "execution_count": 27,
     "metadata": {},
     "output_type": "execute_result"
    }
   ],
   "source": [
    "combined_nba_df.shape"
   ]
  },
  {
   "cell_type": "markdown",
   "id": "97f91e19-ac2e-4ba2-add7-ba5f1fa3fd74",
   "metadata": {},
   "source": [
    "### Saving new combined NBA dataframe"
   ]
  },
  {
   "cell_type": "code",
   "execution_count": 28,
   "id": "a4481e2a-4d2c-47f0-9f29-754823c07c67",
   "metadata": {},
   "outputs": [],
   "source": [
    "combined_nba_df.to_csv('./../data/combined_nba_df.csv', index = False)"
   ]
  },
  {
   "cell_type": "markdown",
   "id": "9b61c93d-c188-4e2d-9f85-ff4673b5dbad",
   "metadata": {},
   "source": [
    "___________________\n",
    "## Finding text length and word count in posts within each subreddit"
   ]
  },
  {
   "cell_type": "code",
   "execution_count": 29,
   "id": "ef0f32d7-9f17-498c-bc6d-0b24645634d0",
   "metadata": {
    "tags": []
   },
   "outputs": [],
   "source": [
    "# Creating new features using list comprehension to find text length in 'selftext' feature\n",
    "\n",
    "combined_nfl_df['text_length'] = [len(i) for i in combined_nfl_df['selftext']]\n",
    "combined_nba_df['text_length'] = [len(i) for i in combined_nba_df['selftext']]"
   ]
  },
  {
   "cell_type": "code",
   "execution_count": 30,
   "id": "1ac04205-f24c-4731-8529-72673b23e4e8",
   "metadata": {
    "tags": []
   },
   "outputs": [],
   "source": [
    "# Creating new features list comprehension to find word count in 'selftext' feature\n",
    "\n",
    "combined_nfl_df['word_count'] = [len(i.split(' ')) for i in combined_nfl_df['selftext']]\n",
    "combined_nba_df['word_count'] = [len(i.split(' ')) for i in combined_nba_df['selftext']]"
   ]
  },
  {
   "cell_type": "code",
   "execution_count": 31,
   "id": "6d8527fd-c3cb-462f-8239-07503a278136",
   "metadata": {
    "tags": []
   },
   "outputs": [
    {
     "data": {
      "text/html": [
       "<div>\n",
       "<style scoped>\n",
       "    .dataframe tbody tr th:only-of-type {\n",
       "        vertical-align: middle;\n",
       "    }\n",
       "\n",
       "    .dataframe tbody tr th {\n",
       "        vertical-align: top;\n",
       "    }\n",
       "\n",
       "    .dataframe thead th {\n",
       "        text-align: right;\n",
       "    }\n",
       "</style>\n",
       "<table border=\"1\" class=\"dataframe\">\n",
       "  <thead>\n",
       "    <tr style=\"text-align: right;\">\n",
       "      <th></th>\n",
       "      <th>title</th>\n",
       "      <th>subreddit</th>\n",
       "      <th>selftext</th>\n",
       "      <th>subreddit_id</th>\n",
       "      <th>text_length</th>\n",
       "      <th>word_count</th>\n",
       "    </tr>\n",
       "  </thead>\n",
       "  <tbody>\n",
       "    <tr>\n",
       "      <th>0</th>\n",
       "      <td>2023 Offseason Review: Minnesota Vikings</td>\n",
       "      <td>nfl</td>\n",
       "      <td># [Series Hub](https://www.reddit.com/r/nfl/co...</td>\n",
       "      <td>t5_2qmg3</td>\n",
       "      <td>12954</td>\n",
       "      <td>1676</td>\n",
       "    </tr>\n",
       "    <tr>\n",
       "      <th>1</th>\n",
       "      <td>2023 Offseason Review: San Francisco 49ers</td>\n",
       "      <td>nfl</td>\n",
       "      <td>#San Francisco 49ers Offseason Review\\n\\n##[Se...</td>\n",
       "      <td>t5_2qmg3</td>\n",
       "      <td>39725</td>\n",
       "      <td>6053</td>\n",
       "    </tr>\n",
       "    <tr>\n",
       "      <th>2</th>\n",
       "      <td>Tua Tagovailoa says everything he did this off...</td>\n",
       "      <td>nfl</td>\n",
       "      <td>&amp;gt;Tagovailoa also talked about choosing a ne...</td>\n",
       "      <td>t5_2qmg3</td>\n",
       "      <td>249</td>\n",
       "      <td>43</td>\n",
       "    </tr>\n",
       "    <tr>\n",
       "      <th>3</th>\n",
       "      <td>[Glaser] “Zach Wilson has played really well i...</td>\n",
       "      <td>nfl</td>\n",
       "      <td></td>\n",
       "      <td>t5_2qmg3</td>\n",
       "      <td>0</td>\n",
       "      <td>1</td>\n",
       "    </tr>\n",
       "    <tr>\n",
       "      <th>4</th>\n",
       "      <td>[JacobWestendorf] #Broncos RB Terrell Davis pl...</td>\n",
       "      <td>nfl</td>\n",
       "      <td></td>\n",
       "      <td>t5_2qmg3</td>\n",
       "      <td>0</td>\n",
       "      <td>1</td>\n",
       "    </tr>\n",
       "  </tbody>\n",
       "</table>\n",
       "</div>"
      ],
      "text/plain": [
       "                                               title subreddit  \\\n",
       "0           2023 Offseason Review: Minnesota Vikings       nfl   \n",
       "1         2023 Offseason Review: San Francisco 49ers       nfl   \n",
       "2  Tua Tagovailoa says everything he did this off...       nfl   \n",
       "3  [Glaser] “Zach Wilson has played really well i...       nfl   \n",
       "4  [JacobWestendorf] #Broncos RB Terrell Davis pl...       nfl   \n",
       "\n",
       "                                            selftext subreddit_id  \\\n",
       "0  # [Series Hub](https://www.reddit.com/r/nfl/co...     t5_2qmg3   \n",
       "1  #San Francisco 49ers Offseason Review\\n\\n##[Se...     t5_2qmg3   \n",
       "2  &gt;Tagovailoa also talked about choosing a ne...     t5_2qmg3   \n",
       "3                                                        t5_2qmg3   \n",
       "4                                                        t5_2qmg3   \n",
       "\n",
       "   text_length  word_count  \n",
       "0        12954        1676  \n",
       "1        39725        6053  \n",
       "2          249          43  \n",
       "3            0           1  \n",
       "4            0           1  "
      ]
     },
     "execution_count": 31,
     "metadata": {},
     "output_type": "execute_result"
    }
   ],
   "source": [
    "# Confirming that the above cells worked\n",
    "\n",
    "combined_nfl_df.head()"
   ]
  },
  {
   "cell_type": "code",
   "execution_count": 32,
   "id": "7c546ead-43ad-4dd5-819d-b79773a4912d",
   "metadata": {
    "tags": []
   },
   "outputs": [
    {
     "data": {
      "text/html": [
       "<div>\n",
       "<style scoped>\n",
       "    .dataframe tbody tr th:only-of-type {\n",
       "        vertical-align: middle;\n",
       "    }\n",
       "\n",
       "    .dataframe tbody tr th {\n",
       "        vertical-align: top;\n",
       "    }\n",
       "\n",
       "    .dataframe thead th {\n",
       "        text-align: right;\n",
       "    }\n",
       "</style>\n",
       "<table border=\"1\" class=\"dataframe\">\n",
       "  <thead>\n",
       "    <tr style=\"text-align: right;\">\n",
       "      <th></th>\n",
       "      <th>title</th>\n",
       "      <th>subreddit</th>\n",
       "      <th>selftext</th>\n",
       "      <th>subreddit_id</th>\n",
       "      <th>text_length</th>\n",
       "      <th>word_count</th>\n",
       "    </tr>\n",
       "  </thead>\n",
       "  <tbody>\n",
       "    <tr>\n",
       "      <th>0</th>\n",
       "      <td>2023-24 NBA Free Agent Tracker</td>\n",
       "      <td>nba</td>\n",
       "      <td>Very basic tool I made. Hope this helps and fe...</td>\n",
       "      <td>t5_2qo4s</td>\n",
       "      <td>24012</td>\n",
       "      <td>1580</td>\n",
       "    </tr>\n",
       "    <tr>\n",
       "      <th>1</th>\n",
       "      <td>[Larry Nance Jr.] So the @OrlandoMagic who hav...</td>\n",
       "      <td>nba</td>\n",
       "      <td>[Tweet](https://twitter.com/larrydn22/status/1...</td>\n",
       "      <td>t5_2qo4s</td>\n",
       "      <td>304</td>\n",
       "      <td>38</td>\n",
       "    </tr>\n",
       "    <tr>\n",
       "      <th>2</th>\n",
       "      <td>Cooper Flagg was allegedly “cooking” Bradley B...</td>\n",
       "      <td>nba</td>\n",
       "      <td>“I heard that my boy Cooper Flagg was at Jayso...</td>\n",
       "      <td>t5_2qo4s</td>\n",
       "      <td>453</td>\n",
       "      <td>87</td>\n",
       "    </tr>\n",
       "    <tr>\n",
       "      <th>3</th>\n",
       "      <td>Which players legacy is most impacted if their...</td>\n",
       "      <td>nba</td>\n",
       "      <td>Off-season post obviously, some I thought of:\\...</td>\n",
       "      <td>t5_2qo4s</td>\n",
       "      <td>650</td>\n",
       "      <td>123</td>\n",
       "    </tr>\n",
       "    <tr>\n",
       "      <th>4</th>\n",
       "      <td>[Charania] A month after Damian Lillard reques...</td>\n",
       "      <td>nba</td>\n",
       "      <td>&amp;gt;There remains no shift in Lillard’s mindse...</td>\n",
       "      <td>t5_2qo4s</td>\n",
       "      <td>785</td>\n",
       "      <td>117</td>\n",
       "    </tr>\n",
       "  </tbody>\n",
       "</table>\n",
       "</div>"
      ],
      "text/plain": [
       "                                               title subreddit  \\\n",
       "0                     2023-24 NBA Free Agent Tracker       nba   \n",
       "1  [Larry Nance Jr.] So the @OrlandoMagic who hav...       nba   \n",
       "2  Cooper Flagg was allegedly “cooking” Bradley B...       nba   \n",
       "3  Which players legacy is most impacted if their...       nba   \n",
       "4  [Charania] A month after Damian Lillard reques...       nba   \n",
       "\n",
       "                                            selftext subreddit_id  \\\n",
       "0  Very basic tool I made. Hope this helps and fe...     t5_2qo4s   \n",
       "1  [Tweet](https://twitter.com/larrydn22/status/1...     t5_2qo4s   \n",
       "2  “I heard that my boy Cooper Flagg was at Jayso...     t5_2qo4s   \n",
       "3  Off-season post obviously, some I thought of:\\...     t5_2qo4s   \n",
       "4  &gt;There remains no shift in Lillard’s mindse...     t5_2qo4s   \n",
       "\n",
       "   text_length  word_count  \n",
       "0        24012        1580  \n",
       "1          304          38  \n",
       "2          453          87  \n",
       "3          650         123  \n",
       "4          785         117  "
      ]
     },
     "execution_count": 32,
     "metadata": {},
     "output_type": "execute_result"
    }
   ],
   "source": [
    "# Confirming that the above cells worked\n",
    "\n",
    "combined_nba_df.head()"
   ]
  },
  {
   "cell_type": "code",
   "execution_count": 108,
   "id": "8c5d0994-67df-4a40-903d-cbac62b20e7d",
   "metadata": {
    "tags": []
   },
   "outputs": [
    {
     "data": {
      "image/png": "[encoded data removed]",
      "text/plain": [
       "<Figure size 1400x900 with 2 Axes>"
      ]
     },
     "metadata": {},
     "output_type": "display_data"
    }
   ],
   "source": [
    "# Plotting 'text_length' and 'word count' features\n",
    "\n",
    "fig, (ax0, ax1) = plt.subplots(nrows = 1, ncols = 2, figsize = (14,9))\n",
    "fig.suptitle('Visualizing word count of posts within each subreddit', fontsize=16)\n",
    "xmax = 2000\n",
    "ymax = 800\n",
    "ax0.set_xlim(0, xmax)\n",
    "ax0.set_ylim(0, ymax)\n",
    "ax1.set_xlim(0, xmax)\n",
    "ax1.set_ylim(0, ymax)\n",
    "\n",
    "ax0.hist(combined_nfl_df['word_count'][combined_nfl_df['text_length'] < 2000])\n",
    "ax0.set_xlabel('Word Count in combined_nfl_df', fontsize=10)\n",
    "\n",
    "ax1.hist(combined_nba_df['text_length'][combined_nba_df['text_length'] < 2000])\n",
    "ax1.set_xlabel('Word Count in combined_nba_df', fontsize=10);\n",
    "\n",
    "plt.tight_layout()\n",
    "plt.savefig('./../images/word_count_each_subreddit.png');"
   ]
  },
  {
   "cell_type": "code",
   "execution_count": 34,
   "id": "059b7497-729d-4b84-8a04-4869fa658321",
   "metadata": {
    "tags": []
   },
   "outputs": [
    {
     "data": {
      "text/plain": [
       "count     1272.000000\n",
       "mean       432.936321\n",
       "std       2853.706243\n",
       "min          0.000000\n",
       "25%          0.000000\n",
       "50%          0.000000\n",
       "75%          0.000000\n",
       "max      39725.000000\n",
       "Name: text_length, dtype: float64"
      ]
     },
     "execution_count": 34,
     "metadata": {},
     "output_type": "execute_result"
    }
   ],
   "source": [
    "# getting summary statistics for 'text_length' feature on combined_nfl_df\n",
    "\n",
    "combined_nfl_df['text_length'].describe()"
   ]
  },
  {
   "cell_type": "code",
   "execution_count": 35,
   "id": "cff92842-7e5e-47d0-99cf-f83edae66036",
   "metadata": {
    "tags": []
   },
   "outputs": [
    {
     "data": {
      "text/plain": [
       "0       1048\n",
       "855        6\n",
       "551        4\n",
       "533        4\n",
       "530        3\n",
       "        ... \n",
       "1272       1\n",
       "536        1\n",
       "186        1\n",
       "1643       1\n",
       "24         1\n",
       "Name: text_length, Length: 196, dtype: int64"
      ]
     },
     "execution_count": 35,
     "metadata": {},
     "output_type": "execute_result"
    }
   ],
   "source": [
    "# Finding value_counts for 'text_length' feature on combined_nfl_df\n",
    "\n",
    "combined_nfl_df['text_length'].value_counts()"
   ]
  },
  {
   "cell_type": "code",
   "execution_count": 36,
   "id": "478b5ed1-50a6-4357-8f10-e8ad29265f1d",
   "metadata": {
    "tags": []
   },
   "outputs": [
    {
     "data": {
      "text/plain": [
       "count     1420.000000\n",
       "mean       508.373944\n",
       "std       1528.502411\n",
       "min          0.000000\n",
       "25%          0.000000\n",
       "50%        175.500000\n",
       "75%        482.000000\n",
       "max      24169.000000\n",
       "Name: text_length, dtype: float64"
      ]
     },
     "execution_count": 36,
     "metadata": {},
     "output_type": "execute_result"
    }
   ],
   "source": [
    "# getting summary statistics for 'text_length' feature on combined_nba_df\n",
    "\n",
    "combined_nba_df['text_length'].describe()"
   ]
  },
  {
   "cell_type": "code",
   "execution_count": 37,
   "id": "0d9bc794-914b-46d3-9f1f-826c2bb80d7d",
   "metadata": {
    "tags": []
   },
   "outputs": [
    {
     "data": {
      "text/plain": [
       "0       595\n",
       "162       6\n",
       "163       5\n",
       "116       5\n",
       "327       5\n",
       "       ... \n",
       "1216      1\n",
       "346       1\n",
       "1203      1\n",
       "463       1\n",
       "133       1\n",
       "Name: text_length, Length: 589, dtype: int64"
      ]
     },
     "execution_count": 37,
     "metadata": {},
     "output_type": "execute_result"
    }
   ],
   "source": [
    "# Finding value_counts for 'text_length' feature on combined_nba_df\n",
    "\n",
    "combined_nba_df['text_length'].value_counts()"
   ]
  },
  {
   "cell_type": "markdown",
   "id": "b4688f95-46d9-4d58-b03c-94cb3bb819c1",
   "metadata": {},
   "source": [
    "__________________________________\n",
    "## Count Vectorization"
   ]
  },
  {
   "cell_type": "markdown",
   "id": "b31fdbf9-fdd8-4af6-b048-8b58940b0a9c",
   "metadata": {},
   "source": [
    "Now that we have cleaned dataframes for both the data from the NFL and NBA subreddits, let's perform some EDA to explore what parameters might be best for our modeling in the modeling notebook. We will start by performing count vectorization, to transform our text into vectors so that we can continue with EDA, and model this text data."
   ]
  },
  {
   "cell_type": "markdown",
   "id": "2742994a-e5f0-43f9-b725-c99d35e72052",
   "metadata": {},
   "source": [
    "### combined_nfl_df:"
   ]
  },
  {
   "cell_type": "code",
   "execution_count": 38,
   "id": "308ed9be-fbf8-4d5b-992b-823bd4dbf198",
   "metadata": {},
   "outputs": [
    {
     "data": {
      "text/html": [
       "<div>\n",
       "<style scoped>\n",
       "    .dataframe tbody tr th:only-of-type {\n",
       "        vertical-align: middle;\n",
       "    }\n",
       "\n",
       "    .dataframe tbody tr th {\n",
       "        vertical-align: top;\n",
       "    }\n",
       "\n",
       "    .dataframe thead th {\n",
       "        text-align: right;\n",
       "    }\n",
       "</style>\n",
       "<table border=\"1\" class=\"dataframe\">\n",
       "  <thead>\n",
       "    <tr style=\"text-align: right;\">\n",
       "      <th></th>\n",
       "      <th>title</th>\n",
       "      <th>subreddit</th>\n",
       "      <th>selftext</th>\n",
       "      <th>subreddit_id</th>\n",
       "      <th>text_length</th>\n",
       "      <th>word_count</th>\n",
       "      <th>title_plus_selftext</th>\n",
       "    </tr>\n",
       "  </thead>\n",
       "  <tbody>\n",
       "    <tr>\n",
       "      <th>0</th>\n",
       "      <td>2023 Offseason Review: Minnesota Vikings</td>\n",
       "      <td>nfl</td>\n",
       "      <td># [Series Hub](https://www.reddit.com/r/nfl/co...</td>\n",
       "      <td>t5_2qmg3</td>\n",
       "      <td>12954</td>\n",
       "      <td>1676</td>\n",
       "      <td>2023 Offseason Review: Minnesota Vikings# [Ser...</td>\n",
       "    </tr>\n",
       "    <tr>\n",
       "      <th>1</th>\n",
       "      <td>2023 Offseason Review: San Francisco 49ers</td>\n",
       "      <td>nfl</td>\n",
       "      <td>#San Francisco 49ers Offseason Review\\n\\n##[Se...</td>\n",
       "      <td>t5_2qmg3</td>\n",
       "      <td>39725</td>\n",
       "      <td>6053</td>\n",
       "      <td>2023 Offseason Review: San Francisco 49ers#San...</td>\n",
       "    </tr>\n",
       "    <tr>\n",
       "      <th>2</th>\n",
       "      <td>Tua Tagovailoa says everything he did this off...</td>\n",
       "      <td>nfl</td>\n",
       "      <td>&amp;gt;Tagovailoa also talked about choosing a ne...</td>\n",
       "      <td>t5_2qmg3</td>\n",
       "      <td>249</td>\n",
       "      <td>43</td>\n",
       "      <td>Tua Tagovailoa says everything he did this off...</td>\n",
       "    </tr>\n",
       "    <tr>\n",
       "      <th>3</th>\n",
       "      <td>[Glaser] “Zach Wilson has played really well i...</td>\n",
       "      <td>nfl</td>\n",
       "      <td></td>\n",
       "      <td>t5_2qmg3</td>\n",
       "      <td>0</td>\n",
       "      <td>1</td>\n",
       "      <td>[Glaser] “Zach Wilson has played really well i...</td>\n",
       "    </tr>\n",
       "    <tr>\n",
       "      <th>4</th>\n",
       "      <td>[JacobWestendorf] #Broncos RB Terrell Davis pl...</td>\n",
       "      <td>nfl</td>\n",
       "      <td></td>\n",
       "      <td>t5_2qmg3</td>\n",
       "      <td>0</td>\n",
       "      <td>1</td>\n",
       "      <td>[JacobWestendorf] #Broncos RB Terrell Davis pl...</td>\n",
       "    </tr>\n",
       "  </tbody>\n",
       "</table>\n",
       "</div>"
      ],
      "text/plain": [
       "                                               title subreddit  \\\n",
       "0           2023 Offseason Review: Minnesota Vikings       nfl   \n",
       "1         2023 Offseason Review: San Francisco 49ers       nfl   \n",
       "2  Tua Tagovailoa says everything he did this off...       nfl   \n",
       "3  [Glaser] “Zach Wilson has played really well i...       nfl   \n",
       "4  [JacobWestendorf] #Broncos RB Terrell Davis pl...       nfl   \n",
       "\n",
       "                                            selftext subreddit_id  \\\n",
       "0  # [Series Hub](https://www.reddit.com/r/nfl/co...     t5_2qmg3   \n",
       "1  #San Francisco 49ers Offseason Review\\n\\n##[Se...     t5_2qmg3   \n",
       "2  &gt;Tagovailoa also talked about choosing a ne...     t5_2qmg3   \n",
       "3                                                        t5_2qmg3   \n",
       "4                                                        t5_2qmg3   \n",
       "\n",
       "   text_length  word_count                                title_plus_selftext  \n",
       "0        12954        1676  2023 Offseason Review: Minnesota Vikings# [Ser...  \n",
       "1        39725        6053  2023 Offseason Review: San Francisco 49ers#San...  \n",
       "2          249          43  Tua Tagovailoa says everything he did this off...  \n",
       "3            0           1  [Glaser] “Zach Wilson has played really well i...  \n",
       "4            0           1  [JacobWestendorf] #Broncos RB Terrell Davis pl...  "
      ]
     },
     "execution_count": 38,
     "metadata": {},
     "output_type": "execute_result"
    }
   ],
   "source": [
    "# combining `title` feature with `selftext` feature so that we have more text to examine\n",
    "\n",
    "combined_nfl_df['title_plus_selftext'] = combined_nfl_df['title'] + combined_nfl_df['selftext']\n",
    "\n",
    "combined_nfl_df.head()"
   ]
  },
  {
   "cell_type": "code",
   "execution_count": 39,
   "id": "efe60e37-b232-4568-8dad-53ba873f023a",
   "metadata": {},
   "outputs": [],
   "source": [
    "# Setting up our X and y for combined_nfl_df\n",
    "\n",
    "nfl_X = combined_nfl_df['title_plus_selftext']\n",
    "nfl_y = combined_nfl_df['subreddit']"
   ]
  },
  {
   "cell_type": "code",
   "execution_count": 40,
   "id": "6d11f4ab-5744-4738-87b2-67e5e6804540",
   "metadata": {},
   "outputs": [
    {
     "data": {
      "text/plain": [
       "nfl    1.0\n",
       "Name: subreddit, dtype: float64"
      ]
     },
     "execution_count": 40,
     "metadata": {},
     "output_type": "execute_result"
    }
   ],
   "source": [
    "# Checking our baseline\n",
    "\n",
    "nfl_y.value_counts(normalize= True)"
   ]
  },
  {
   "cell_type": "code",
   "execution_count": 41,
   "id": "c0c79bfc-3ec1-4e1f-b2dd-ea32408fe6fd",
   "metadata": {},
   "outputs": [],
   "source": [
    "# splitting our data into training and testing sets\n",
    "\n",
    "X_train_nfl, X_test_nfl, y_train_nfl, y_test_nfl = train_test_split(nfl_X, nfl_y, stratify = nfl_y, random_state= 42)"
   ]
  },
  {
   "cell_type": "code",
   "execution_count": 42,
   "id": "2ce8d19e-6f95-4220-8eac-fd3e3f1126b0",
   "metadata": {},
   "outputs": [],
   "source": [
    "#Instantiating CountVectorizer\n",
    "\n",
    "cvec_nfl = CountVectorizer(stop_words= 'english')"
   ]
  },
  {
   "cell_type": "code",
   "execution_count": 43,
   "id": "e8d0128e-1275-49e0-9f22-d92225d29fb2",
   "metadata": {},
   "outputs": [
    {
     "data": {
      "text/html": [
       "<style>#sk-container-id-1 {color: black;background-color: white;}#sk-container-id-1 pre{padding: 0;}#sk-container-id-1 div.sk-toggleable {background-color: white;}#sk-container-id-1 label.sk-toggleable__label {cursor: pointer;display: block;width: 100%;margin-bottom: 0;padding: 0.3em;box-sizing: border-box;text-align: center;}#sk-container-id-1 label.sk-toggleable__label-arrow:before {content: \"▸\";float: left;margin-right: 0.25em;color: #696969;}#sk-container-id-1 label.sk-toggleable__label-arrow:hover:before {color: black;}#sk-container-id-1 div.sk-estimator:hover label.sk-toggleable__label-arrow:before {color: black;}#sk-container-id-1 div.sk-toggleable__content {max-height: 0;max-width: 0;overflow: hidden;text-align: left;background-color: #f0f8ff;}#sk-container-id-1 div.sk-toggleable__content pre {margin: 0.2em;color: black;border-radius: 0.25em;background-color: #f0f8ff;}#sk-container-id-1 input.sk-toggleable__control:checked~div.sk-toggleable__content {max-height: 200px;max-width: 100%;overflow: auto;}#sk-container-id-1 input.sk-toggleable__control:checked~label.sk-toggleable__label-arrow:before {content: \"▾\";}#sk-container-id-1 div.sk-estimator input.sk-toggleable__control:checked~label.sk-toggleable__label {background-color: #d4ebff;}#sk-container-id-1 div.sk-label input.sk-toggleable__control:checked~label.sk-toggleable__label {background-color: #d4ebff;}#sk-container-id-1 input.sk-hidden--visually {border: 0;clip: rect(1px 1px 1px 1px);clip: rect(1px, 1px, 1px, 1px);height: 1px;margin: -1px;overflow: hidden;padding: 0;position: absolute;width: 1px;}#sk-container-id-1 div.sk-estimator {font-family: monospace;background-color: #f0f8ff;border: 1px dotted black;border-radius: 0.25em;box-sizing: border-box;margin-bottom: 0.5em;}#sk-container-id-1 div.sk-estimator:hover {background-color: #d4ebff;}#sk-container-id-1 div.sk-parallel-item::after {content: \"\";width: 100%;border-bottom: 1px solid gray;flex-grow: 1;}#sk-container-id-1 div.sk-label:hover label.sk-toggleable__label {background-color: #d4ebff;}#sk-container-id-1 div.sk-serial::before {content: \"\";position: absolute;border-left: 1px solid gray;box-sizing: border-box;top: 0;bottom: 0;left: 50%;z-index: 0;}#sk-container-id-1 div.sk-serial {display: flex;flex-direction: column;align-items: center;background-color: white;padding-right: 0.2em;padding-left: 0.2em;position: relative;}#sk-container-id-1 div.sk-item {position: relative;z-index: 1;}#sk-container-id-1 div.sk-parallel {display: flex;align-items: stretch;justify-content: center;background-color: white;position: relative;}#sk-container-id-1 div.sk-item::before, #sk-container-id-1 div.sk-parallel-item::before {content: \"\";position: absolute;border-left: 1px solid gray;box-sizing: border-box;top: 0;bottom: 0;left: 50%;z-index: -1;}#sk-container-id-1 div.sk-parallel-item {display: flex;flex-direction: column;z-index: 1;position: relative;background-color: white;}#sk-container-id-1 div.sk-parallel-item:first-child::after {align-self: flex-end;width: 50%;}#sk-container-id-1 div.sk-parallel-item:last-child::after {align-self: flex-start;width: 50%;}#sk-container-id-1 div.sk-parallel-item:only-child::after {width: 0;}#sk-container-id-1 div.sk-dashed-wrapped {border: 1px dashed gray;margin: 0 0.4em 0.5em 0.4em;box-sizing: border-box;padding-bottom: 0.4em;background-color: white;}#sk-container-id-1 div.sk-label label {font-family: monospace;font-weight: bold;display: inline-block;line-height: 1.2em;}#sk-container-id-1 div.sk-label-container {text-align: center;}#sk-container-id-1 div.sk-container {/* jupyter's `normalize.less` sets `[hidden] { display: none; }` but bootstrap.min.css set `[hidden] { display: none !important; }` so we also need the `!important` here to be able to override the default hidden behavior on the sphinx rendered scikit-learn.org. See: https://github.com/scikit-learn/scikit-learn/issues/21755 */display: inline-block !important;position: relative;}#sk-container-id-1 div.sk-text-repr-fallback {display: none;}</style><div id=\"sk-container-id-1\" class=\"sk-top-container\"><div class=\"sk-text-repr-fallback\"><pre>CountVectorizer(stop_words=&#x27;english&#x27;)</pre><b>In a Jupyter environment, please rerun this cell to show the HTML representation or trust the notebook. <br />On GitHub, the HTML representation is unable to render, please try loading this page with nbviewer.org.</b></div><div class=\"sk-container\" hidden><div class=\"sk-item\"><div class=\"sk-estimator sk-toggleable\"><input class=\"sk-toggleable__control sk-hidden--visually\" id=\"sk-estimator-id-1\" type=\"checkbox\" checked><label for=\"sk-estimator-id-1\" class=\"sk-toggleable__label sk-toggleable__label-arrow\">CountVectorizer</label><div class=\"sk-toggleable__content\"><pre>CountVectorizer(stop_words=&#x27;english&#x27;)</pre></div></div></div></div></div>"
      ],
      "text/plain": [
       "CountVectorizer(stop_words='english')"
      ]
     },
     "execution_count": 43,
     "metadata": {},
     "output_type": "execute_result"
    }
   ],
   "source": [
    "# Fitting the vectorizer on our corpus\n",
    "\n",
    "cvec_nfl.fit(X_train_nfl)"
   ]
  },
  {
   "cell_type": "code",
   "execution_count": 44,
   "id": "34728252-a404-406c-874f-52cb143024a4",
   "metadata": {},
   "outputs": [],
   "source": [
    "# Transforming our X_train corpus\n",
    "\n",
    "X_train_nfl = cvec_nfl.transform(X_train_nfl)"
   ]
  },
  {
   "cell_type": "code",
   "execution_count": 45,
   "id": "f9ecf795-ea76-4003-90ba-1cd762e3c829",
   "metadata": {},
   "outputs": [
    {
     "data": {
      "text/plain": [
       "(954, 8143)"
      ]
     },
     "execution_count": 45,
     "metadata": {},
     "output_type": "execute_result"
    }
   ],
   "source": [
    "# checking the shape of our transformed corpus\n",
    "\n",
    "X_train_nfl.shape"
   ]
  },
  {
   "cell_type": "code",
   "execution_count": 46,
   "id": "2f55eced-b4d8-4cce-a167-c8a02463629c",
   "metadata": {},
   "outputs": [],
   "source": [
    "# convert training data to dataframe\n",
    "\n",
    "X_train_nfl_df = pd.DataFrame(X_train_nfl.todense(), \n",
    "                          columns=cvec_nfl.get_feature_names_out())"
   ]
  },
  {
   "cell_type": "code",
   "execution_count": 110,
   "id": "1d990714-4c7b-4c1b-a603-ff15b8203d35",
   "metadata": {},
   "outputs": [
    {
     "data": {
      "image/png": "[encoded data removed]",
      "text/plain": [
       "<Figure size 640x480 with 1 Axes>"
      ]
     },
     "metadata": {},
     "output_type": "display_data"
    }
   ],
   "source": [
    "# plotting top occuring words\n",
    "\n",
    "X_train_nfl_df.sum().sort_values(ascending = False).head(10).plot(kind = 'barh');\n",
    "\n",
    "plt.xlabel('Frequency')\n",
    "plt.ylabel('Word')\n",
    "plt.title('Most Frequent Words in r/nfl Before Customizing Stopwords');\n",
    "\n",
    "plt.tight_layout()\n",
    "plt.savefig('./../images/rnfl_high_frequency_words_pre_stopword_cleaning.png');"
   ]
  },
  {
   "cell_type": "code",
   "execution_count": 48,
   "id": "82fe1915-f8d0-4ec1-a202-c5958caceb31",
   "metadata": {},
   "outputs": [],
   "source": [
    "# print(CountVectorizer(stop_words = 'english').get_stop_words())"
   ]
  },
  {
   "cell_type": "markdown",
   "id": "0eff4400-5d38-4c63-a868-03bb0d35873a",
   "metadata": {},
   "source": [
    "### Count vectorizing on combined_nfl_data with added stop words"
   ]
  },
  {
   "cell_type": "markdown",
   "id": "553fb352-e28b-4825-84cc-22247998a079",
   "metadata": {},
   "source": [
    "Some of the top occuring words displayed above, such as and https, seem to not have much significance when it comes to the topics I am analyzing(NFL and NBA). In the section below, I will add any words that seem to be nonsensical to my list of stop words when I instantiate the count vectorizer."
   ]
  },
  {
   "cell_type": "code",
   "execution_count": 49,
   "id": "66683cb2-205f-4b34-9ed3-2e010da57063",
   "metadata": {},
   "outputs": [],
   "source": [
    "# Setting up our X and y for combined_nfl_df\n",
    "\n",
    "nfl_X2 = combined_nfl_df['title_plus_selftext']\n",
    "nfl_y2 = combined_nfl_df['subreddit']"
   ]
  },
  {
   "cell_type": "code",
   "execution_count": 50,
   "id": "23c5619e-25bd-4e52-bad0-fbc8c8b48b77",
   "metadata": {},
   "outputs": [],
   "source": [
    "# splitting our data into training and testing sets\n",
    "\n",
    "X_train_nfl2, X_test_nfl2, y_train_nfl2, y_test_nfl2 = train_test_split(nfl_X2, nfl_y2, stratify = nfl_y2, random_state= 42)"
   ]
  },
  {
   "cell_type": "code",
   "execution_count": 51,
   "id": "9a6abcd6-6117-49e2-88da-6ffa1b1b4d74",
   "metadata": {},
   "outputs": [],
   "source": [
    "#Instantiating CountVectorizer and adding in additional stop words \n",
    "\n",
    "default_stop_words = CountVectorizer(stop_words='english').get_stop_words()\n",
    "\n",
    "custom_stop_words = ['like', 'nfl', 'https']\n",
    "\n",
    "cvec_nfl2_stop_words = list(default_stop_words) + custom_stop_words\n",
    "\n",
    "cvec_nfl2 = CountVectorizer(stop_words= cvec_nfl2_stop_words)"
   ]
  },
  {
   "cell_type": "code",
   "execution_count": 52,
   "id": "f728dbd0-15eb-463a-9ae7-96e84bef5bb4",
   "metadata": {},
   "outputs": [
    {
     "data": {
      "text/html": [
       "<style>#sk-container-id-2 {color: black;background-color: white;}#sk-container-id-2 pre{padding: 0;}#sk-container-id-2 div.sk-toggleable {background-color: white;}#sk-container-id-2 label.sk-toggleable__label {cursor: pointer;display: block;width: 100%;margin-bottom: 0;padding: 0.3em;box-sizing: border-box;text-align: center;}#sk-container-id-2 label.sk-toggleable__label-arrow:before {content: \"▸\";float: left;margin-right: 0.25em;color: #696969;}#sk-container-id-2 label.sk-toggleable__label-arrow:hover:before {color: black;}#sk-container-id-2 div.sk-estimator:hover label.sk-toggleable__label-arrow:before {color: black;}#sk-container-id-2 div.sk-toggleable__content {max-height: 0;max-width: 0;overflow: hidden;text-align: left;background-color: #f0f8ff;}#sk-container-id-2 div.sk-toggleable__content pre {margin: 0.2em;color: black;border-radius: 0.25em;background-color: #f0f8ff;}#sk-container-id-2 input.sk-toggleable__control:checked~div.sk-toggleable__content {max-height: 200px;max-width: 100%;overflow: auto;}#sk-container-id-2 input.sk-toggleable__control:checked~label.sk-toggleable__label-arrow:before {content: \"▾\";}#sk-container-id-2 div.sk-estimator input.sk-toggleable__control:checked~label.sk-toggleable__label {background-color: #d4ebff;}#sk-container-id-2 div.sk-label input.sk-toggleable__control:checked~label.sk-toggleable__label {background-color: #d4ebff;}#sk-container-id-2 input.sk-hidden--visually {border: 0;clip: rect(1px 1px 1px 1px);clip: rect(1px, 1px, 1px, 1px);height: 1px;margin: -1px;overflow: hidden;padding: 0;position: absolute;width: 1px;}#sk-container-id-2 div.sk-estimator {font-family: monospace;background-color: #f0f8ff;border: 1px dotted black;border-radius: 0.25em;box-sizing: border-box;margin-bottom: 0.5em;}#sk-container-id-2 div.sk-estimator:hover {background-color: #d4ebff;}#sk-container-id-2 div.sk-parallel-item::after {content: \"\";width: 100%;border-bottom: 1px solid gray;flex-grow: 1;}#sk-container-id-2 div.sk-label:hover label.sk-toggleable__label {background-color: #d4ebff;}#sk-container-id-2 div.sk-serial::before {content: \"\";position: absolute;border-left: 1px solid gray;box-sizing: border-box;top: 0;bottom: 0;left: 50%;z-index: 0;}#sk-container-id-2 div.sk-serial {display: flex;flex-direction: column;align-items: center;background-color: white;padding-right: 0.2em;padding-left: 0.2em;position: relative;}#sk-container-id-2 div.sk-item {position: relative;z-index: 1;}#sk-container-id-2 div.sk-parallel {display: flex;align-items: stretch;justify-content: center;background-color: white;position: relative;}#sk-container-id-2 div.sk-item::before, #sk-container-id-2 div.sk-parallel-item::before {content: \"\";position: absolute;border-left: 1px solid gray;box-sizing: border-box;top: 0;bottom: 0;left: 50%;z-index: -1;}#sk-container-id-2 div.sk-parallel-item {display: flex;flex-direction: column;z-index: 1;position: relative;background-color: white;}#sk-container-id-2 div.sk-parallel-item:first-child::after {align-self: flex-end;width: 50%;}#sk-container-id-2 div.sk-parallel-item:last-child::after {align-self: flex-start;width: 50%;}#sk-container-id-2 div.sk-parallel-item:only-child::after {width: 0;}#sk-container-id-2 div.sk-dashed-wrapped {border: 1px dashed gray;margin: 0 0.4em 0.5em 0.4em;box-sizing: border-box;padding-bottom: 0.4em;background-color: white;}#sk-container-id-2 div.sk-label label {font-family: monospace;font-weight: bold;display: inline-block;line-height: 1.2em;}#sk-container-id-2 div.sk-label-container {text-align: center;}#sk-container-id-2 div.sk-container {/* jupyter's `normalize.less` sets `[hidden] { display: none; }` but bootstrap.min.css set `[hidden] { display: none !important; }` so we also need the `!important` here to be able to override the default hidden behavior on the sphinx rendered scikit-learn.org. See: https://github.com/scikit-learn/scikit-learn/issues/21755 */display: inline-block !important;position: relative;}#sk-container-id-2 div.sk-text-repr-fallback {display: none;}</style><div id=\"sk-container-id-2\" class=\"sk-top-container\"><div class=\"sk-text-repr-fallback\"><pre>CountVectorizer(stop_words=[&#x27;she&#x27;, &#x27;with&#x27;, &#x27;you&#x27;, &#x27;otherwise&#x27;, &#x27;they&#x27;, &#x27;almost&#x27;,\n",
       "                            &#x27;whence&#x27;, &#x27;although&#x27;, &#x27;get&#x27;, &#x27;nevertheless&#x27;,\n",
       "                            &#x27;alone&#x27;, &#x27;eleven&#x27;, &#x27;both&#x27;, &#x27;indeed&#x27;, &#x27;every&#x27;, &#x27;had&#x27;,\n",
       "                            &#x27;that&#x27;, &#x27;whereafter&#x27;, &#x27;first&#x27;, &#x27;already&#x27;, &#x27;through&#x27;,\n",
       "                            &#x27;yet&#x27;, &#x27;put&#x27;, &#x27;others&#x27;, &#x27;ten&#x27;, &#x27;whoever&#x27;, &#x27;often&#x27;,\n",
       "                            &#x27;while&#x27;, &#x27;will&#x27;, &#x27;whose&#x27;, ...])</pre><b>In a Jupyter environment, please rerun this cell to show the HTML representation or trust the notebook. <br />On GitHub, the HTML representation is unable to render, please try loading this page with nbviewer.org.</b></div><div class=\"sk-container\" hidden><div class=\"sk-item\"><div class=\"sk-estimator sk-toggleable\"><input class=\"sk-toggleable__control sk-hidden--visually\" id=\"sk-estimator-id-2\" type=\"checkbox\" checked><label for=\"sk-estimator-id-2\" class=\"sk-toggleable__label sk-toggleable__label-arrow\">CountVectorizer</label><div class=\"sk-toggleable__content\"><pre>CountVectorizer(stop_words=[&#x27;she&#x27;, &#x27;with&#x27;, &#x27;you&#x27;, &#x27;otherwise&#x27;, &#x27;they&#x27;, &#x27;almost&#x27;,\n",
       "                            &#x27;whence&#x27;, &#x27;although&#x27;, &#x27;get&#x27;, &#x27;nevertheless&#x27;,\n",
       "                            &#x27;alone&#x27;, &#x27;eleven&#x27;, &#x27;both&#x27;, &#x27;indeed&#x27;, &#x27;every&#x27;, &#x27;had&#x27;,\n",
       "                            &#x27;that&#x27;, &#x27;whereafter&#x27;, &#x27;first&#x27;, &#x27;already&#x27;, &#x27;through&#x27;,\n",
       "                            &#x27;yet&#x27;, &#x27;put&#x27;, &#x27;others&#x27;, &#x27;ten&#x27;, &#x27;whoever&#x27;, &#x27;often&#x27;,\n",
       "                            &#x27;while&#x27;, &#x27;will&#x27;, &#x27;whose&#x27;, ...])</pre></div></div></div></div></div>"
      ],
      "text/plain": [
       "CountVectorizer(stop_words=['she', 'with', 'you', 'otherwise', 'they', 'almost',\n",
       "                            'whence', 'although', 'get', 'nevertheless',\n",
       "                            'alone', 'eleven', 'both', 'indeed', 'every', 'had',\n",
       "                            'that', 'whereafter', 'first', 'already', 'through',\n",
       "                            'yet', 'put', 'others', 'ten', 'whoever', 'often',\n",
       "                            'while', 'will', 'whose', ...])"
      ]
     },
     "execution_count": 52,
     "metadata": {},
     "output_type": "execute_result"
    }
   ],
   "source": [
    "# Fitting the vectorizer on my corpus\n",
    "\n",
    "cvec_nfl2.fit(X_train_nfl2)"
   ]
  },
  {
   "cell_type": "code",
   "execution_count": 53,
   "id": "ccc7b457-b8d3-4306-b4e6-3ddad5ec65d2",
   "metadata": {},
   "outputs": [],
   "source": [
    "# Transforming our X_train corpus\n",
    "\n",
    "X_train_nfl2 = cvec_nfl2.transform(X_train_nfl2)"
   ]
  },
  {
   "cell_type": "code",
   "execution_count": 54,
   "id": "ae6eaedc-e6cf-4d38-8f8c-925a1af08c40",
   "metadata": {},
   "outputs": [
    {
     "data": {
      "text/plain": [
       "(954, 8140)"
      ]
     },
     "execution_count": 54,
     "metadata": {},
     "output_type": "execute_result"
    }
   ],
   "source": [
    "# checking the shape of our transformed corpus\n",
    "\n",
    "X_train_nfl2.shape"
   ]
  },
  {
   "cell_type": "code",
   "execution_count": 55,
   "id": "7ecb9df8-726c-4961-bbd8-72bd79735f6d",
   "metadata": {},
   "outputs": [],
   "source": [
    "# convert training data to dataframe\n",
    "\n",
    "X_train_nfl_df2 = pd.DataFrame(X_train_nfl2.todense(), \n",
    "                          columns=cvec_nfl2.get_feature_names_out())"
   ]
  },
  {
   "cell_type": "code",
   "execution_count": 111,
   "id": "0a903d38-5f81-4933-bae8-584ec7008d87",
   "metadata": {},
   "outputs": [
    {
     "data": {
      "image/png": "[encoded data removed]",
      "text/plain": [
       "<Figure size 640x480 with 1 Axes>"
      ]
     },
     "metadata": {},
     "output_type": "display_data"
    }
   ],
   "source": [
    "# plotting top occuring words\n",
    "\n",
    "X_train_nfl_df2.sum().sort_values(ascending = False).head(10).plot(kind = 'barh');\n",
    "\n",
    "plt.xlabel('Frequency')\n",
    "plt.ylabel('Word')\n",
    "plt.title('Most Frequent Words in r/nfl After Customizing Stopwords');\n",
    "\n",
    "plt.tight_layout()\n",
    "plt.savefig('./../images/rnfl_high_frequency_words_post_stopword_cleaning.png');"
   ]
  },
  {
   "cell_type": "markdown",
   "id": "72ac09c2-7611-4d28-bd4d-2a76fefb06d6",
   "metadata": {},
   "source": [
    "### combined_nba_df:"
   ]
  },
  {
   "cell_type": "markdown",
   "id": "6e3b0884-a029-49b7-850c-798ecfcb7cdd",
   "metadata": {},
   "source": [
    "The cells within this section are performing the exact same function on the data from the NBA subreddit as they did above for the NFL data. Please see comments within the cells in the above section if explanation for each cell is needed."
   ]
  },
  {
   "cell_type": "code",
   "execution_count": 57,
   "id": "5c2c379d-c2f2-4717-8438-61ecd71100bb",
   "metadata": {},
   "outputs": [
    {
     "data": {
      "text/html": [
       "<div>\n",
       "<style scoped>\n",
       "    .dataframe tbody tr th:only-of-type {\n",
       "        vertical-align: middle;\n",
       "    }\n",
       "\n",
       "    .dataframe tbody tr th {\n",
       "        vertical-align: top;\n",
       "    }\n",
       "\n",
       "    .dataframe thead th {\n",
       "        text-align: right;\n",
       "    }\n",
       "</style>\n",
       "<table border=\"1\" class=\"dataframe\">\n",
       "  <thead>\n",
       "    <tr style=\"text-align: right;\">\n",
       "      <th></th>\n",
       "      <th>title</th>\n",
       "      <th>subreddit</th>\n",
       "      <th>selftext</th>\n",
       "      <th>subreddit_id</th>\n",
       "      <th>text_length</th>\n",
       "      <th>word_count</th>\n",
       "      <th>title_plus_selftext</th>\n",
       "    </tr>\n",
       "  </thead>\n",
       "  <tbody>\n",
       "    <tr>\n",
       "      <th>0</th>\n",
       "      <td>2023-24 NBA Free Agent Tracker</td>\n",
       "      <td>nba</td>\n",
       "      <td>Very basic tool I made. Hope this helps and fe...</td>\n",
       "      <td>t5_2qo4s</td>\n",
       "      <td>24012</td>\n",
       "      <td>1580</td>\n",
       "      <td>2023-24 NBA Free Agent TrackerVery basic tool ...</td>\n",
       "    </tr>\n",
       "    <tr>\n",
       "      <th>1</th>\n",
       "      <td>[Larry Nance Jr.] So the @OrlandoMagic who hav...</td>\n",
       "      <td>nba</td>\n",
       "      <td>[Tweet](https://twitter.com/larrydn22/status/1...</td>\n",
       "      <td>t5_2qo4s</td>\n",
       "      <td>304</td>\n",
       "      <td>38</td>\n",
       "      <td>[Larry Nance Jr.] So the @OrlandoMagic who hav...</td>\n",
       "    </tr>\n",
       "    <tr>\n",
       "      <th>2</th>\n",
       "      <td>Cooper Flagg was allegedly “cooking” Bradley B...</td>\n",
       "      <td>nba</td>\n",
       "      <td>“I heard that my boy Cooper Flagg was at Jayso...</td>\n",
       "      <td>t5_2qo4s</td>\n",
       "      <td>453</td>\n",
       "      <td>87</td>\n",
       "      <td>Cooper Flagg was allegedly “cooking” Bradley B...</td>\n",
       "    </tr>\n",
       "    <tr>\n",
       "      <th>3</th>\n",
       "      <td>Which players legacy is most impacted if their...</td>\n",
       "      <td>nba</td>\n",
       "      <td>Off-season post obviously, some I thought of:\\...</td>\n",
       "      <td>t5_2qo4s</td>\n",
       "      <td>650</td>\n",
       "      <td>123</td>\n",
       "      <td>Which players legacy is most impacted if their...</td>\n",
       "    </tr>\n",
       "    <tr>\n",
       "      <th>4</th>\n",
       "      <td>[Charania] A month after Damian Lillard reques...</td>\n",
       "      <td>nba</td>\n",
       "      <td>&amp;gt;There remains no shift in Lillard’s mindse...</td>\n",
       "      <td>t5_2qo4s</td>\n",
       "      <td>785</td>\n",
       "      <td>117</td>\n",
       "      <td>[Charania] A month after Damian Lillard reques...</td>\n",
       "    </tr>\n",
       "  </tbody>\n",
       "</table>\n",
       "</div>"
      ],
      "text/plain": [
       "                                               title subreddit  \\\n",
       "0                     2023-24 NBA Free Agent Tracker       nba   \n",
       "1  [Larry Nance Jr.] So the @OrlandoMagic who hav...       nba   \n",
       "2  Cooper Flagg was allegedly “cooking” Bradley B...       nba   \n",
       "3  Which players legacy is most impacted if their...       nba   \n",
       "4  [Charania] A month after Damian Lillard reques...       nba   \n",
       "\n",
       "                                            selftext subreddit_id  \\\n",
       "0  Very basic tool I made. Hope this helps and fe...     t5_2qo4s   \n",
       "1  [Tweet](https://twitter.com/larrydn22/status/1...     t5_2qo4s   \n",
       "2  “I heard that my boy Cooper Flagg was at Jayso...     t5_2qo4s   \n",
       "3  Off-season post obviously, some I thought of:\\...     t5_2qo4s   \n",
       "4  &gt;There remains no shift in Lillard’s mindse...     t5_2qo4s   \n",
       "\n",
       "   text_length  word_count                                title_plus_selftext  \n",
       "0        24012        1580  2023-24 NBA Free Agent TrackerVery basic tool ...  \n",
       "1          304          38  [Larry Nance Jr.] So the @OrlandoMagic who hav...  \n",
       "2          453          87  Cooper Flagg was allegedly “cooking” Bradley B...  \n",
       "3          650         123  Which players legacy is most impacted if their...  \n",
       "4          785         117  [Charania] A month after Damian Lillard reques...  "
      ]
     },
     "execution_count": 57,
     "metadata": {},
     "output_type": "execute_result"
    }
   ],
   "source": [
    "combined_nba_df['title_plus_selftext'] = combined_nba_df['title'] + combined_nba_df['selftext']\n",
    "\n",
    "combined_nba_df.head()"
   ]
  },
  {
   "cell_type": "code",
   "execution_count": 58,
   "id": "9ff08011-47a3-4b78-b1f2-3796771c5699",
   "metadata": {},
   "outputs": [],
   "source": [
    "# Setting up our X and y for combined_nba_df\n",
    "\n",
    "nba_X = combined_nba_df['title_plus_selftext']\n",
    "nba_y = combined_nba_df['subreddit']"
   ]
  },
  {
   "cell_type": "code",
   "execution_count": 59,
   "id": "2a3aa1f5-aa79-47bf-9421-58fe53a37a04",
   "metadata": {},
   "outputs": [],
   "source": [
    "# splitting our data into training and testing sets\n",
    "\n",
    "X_train_nba, X_test_nba, y_train_nba, y_test_nba = train_test_split(nba_X, nba_y, stratify = nba_y, random_state= 42)"
   ]
  },
  {
   "cell_type": "code",
   "execution_count": 60,
   "id": "3f85177e-e4dd-4033-bc9e-43b8dd581696",
   "metadata": {},
   "outputs": [],
   "source": [
    "#Instantiating CountVectorizer\n",
    "\n",
    "cvec_nba = CountVectorizer(stop_words= 'english')"
   ]
  },
  {
   "cell_type": "code",
   "execution_count": 61,
   "id": "a8fd2248-a85e-4e41-9a18-efb85a51f415",
   "metadata": {},
   "outputs": [
    {
     "data": {
      "text/html": [
       "<style>#sk-container-id-3 {color: black;background-color: white;}#sk-container-id-3 pre{padding: 0;}#sk-container-id-3 div.sk-toggleable {background-color: white;}#sk-container-id-3 label.sk-toggleable__label {cursor: pointer;display: block;width: 100%;margin-bottom: 0;padding: 0.3em;box-sizing: border-box;text-align: center;}#sk-container-id-3 label.sk-toggleable__label-arrow:before {content: \"▸\";float: left;margin-right: 0.25em;color: #696969;}#sk-container-id-3 label.sk-toggleable__label-arrow:hover:before {color: black;}#sk-container-id-3 div.sk-estimator:hover label.sk-toggleable__label-arrow:before {color: black;}#sk-container-id-3 div.sk-toggleable__content {max-height: 0;max-width: 0;overflow: hidden;text-align: left;background-color: #f0f8ff;}#sk-container-id-3 div.sk-toggleable__content pre {margin: 0.2em;color: black;border-radius: 0.25em;background-color: #f0f8ff;}#sk-container-id-3 input.sk-toggleable__control:checked~div.sk-toggleable__content {max-height: 200px;max-width: 100%;overflow: auto;}#sk-container-id-3 input.sk-toggleable__control:checked~label.sk-toggleable__label-arrow:before {content: \"▾\";}#sk-container-id-3 div.sk-estimator input.sk-toggleable__control:checked~label.sk-toggleable__label {background-color: #d4ebff;}#sk-container-id-3 div.sk-label input.sk-toggleable__control:checked~label.sk-toggleable__label {background-color: #d4ebff;}#sk-container-id-3 input.sk-hidden--visually {border: 0;clip: rect(1px 1px 1px 1px);clip: rect(1px, 1px, 1px, 1px);height: 1px;margin: -1px;overflow: hidden;padding: 0;position: absolute;width: 1px;}#sk-container-id-3 div.sk-estimator {font-family: monospace;background-color: #f0f8ff;border: 1px dotted black;border-radius: 0.25em;box-sizing: border-box;margin-bottom: 0.5em;}#sk-container-id-3 div.sk-estimator:hover {background-color: #d4ebff;}#sk-container-id-3 div.sk-parallel-item::after {content: \"\";width: 100%;border-bottom: 1px solid gray;flex-grow: 1;}#sk-container-id-3 div.sk-label:hover label.sk-toggleable__label {background-color: #d4ebff;}#sk-container-id-3 div.sk-serial::before {content: \"\";position: absolute;border-left: 1px solid gray;box-sizing: border-box;top: 0;bottom: 0;left: 50%;z-index: 0;}#sk-container-id-3 div.sk-serial {display: flex;flex-direction: column;align-items: center;background-color: white;padding-right: 0.2em;padding-left: 0.2em;position: relative;}#sk-container-id-3 div.sk-item {position: relative;z-index: 1;}#sk-container-id-3 div.sk-parallel {display: flex;align-items: stretch;justify-content: center;background-color: white;position: relative;}#sk-container-id-3 div.sk-item::before, #sk-container-id-3 div.sk-parallel-item::before {content: \"\";position: absolute;border-left: 1px solid gray;box-sizing: border-box;top: 0;bottom: 0;left: 50%;z-index: -1;}#sk-container-id-3 div.sk-parallel-item {display: flex;flex-direction: column;z-index: 1;position: relative;background-color: white;}#sk-container-id-3 div.sk-parallel-item:first-child::after {align-self: flex-end;width: 50%;}#sk-container-id-3 div.sk-parallel-item:last-child::after {align-self: flex-start;width: 50%;}#sk-container-id-3 div.sk-parallel-item:only-child::after {width: 0;}#sk-container-id-3 div.sk-dashed-wrapped {border: 1px dashed gray;margin: 0 0.4em 0.5em 0.4em;box-sizing: border-box;padding-bottom: 0.4em;background-color: white;}#sk-container-id-3 div.sk-label label {font-family: monospace;font-weight: bold;display: inline-block;line-height: 1.2em;}#sk-container-id-3 div.sk-label-container {text-align: center;}#sk-container-id-3 div.sk-container {/* jupyter's `normalize.less` sets `[hidden] { display: none; }` but bootstrap.min.css set `[hidden] { display: none !important; }` so we also need the `!important` here to be able to override the default hidden behavior on the sphinx rendered scikit-learn.org. See: https://github.com/scikit-learn/scikit-learn/issues/21755 */display: inline-block !important;position: relative;}#sk-container-id-3 div.sk-text-repr-fallback {display: none;}</style><div id=\"sk-container-id-3\" class=\"sk-top-container\"><div class=\"sk-text-repr-fallback\"><pre>CountVectorizer(stop_words=&#x27;english&#x27;)</pre><b>In a Jupyter environment, please rerun this cell to show the HTML representation or trust the notebook. <br />On GitHub, the HTML representation is unable to render, please try loading this page with nbviewer.org.</b></div><div class=\"sk-container\" hidden><div class=\"sk-item\"><div class=\"sk-estimator sk-toggleable\"><input class=\"sk-toggleable__control sk-hidden--visually\" id=\"sk-estimator-id-3\" type=\"checkbox\" checked><label for=\"sk-estimator-id-3\" class=\"sk-toggleable__label sk-toggleable__label-arrow\">CountVectorizer</label><div class=\"sk-toggleable__content\"><pre>CountVectorizer(stop_words=&#x27;english&#x27;)</pre></div></div></div></div></div>"
      ],
      "text/plain": [
       "CountVectorizer(stop_words='english')"
      ]
     },
     "execution_count": 61,
     "metadata": {},
     "output_type": "execute_result"
    }
   ],
   "source": [
    "# Fitting the vectorizer on my corpus\n",
    "\n",
    "cvec_nba.fit(X_train_nba)"
   ]
  },
  {
   "cell_type": "code",
   "execution_count": 62,
   "id": "7773d154-ba51-40c8-b401-e8e1f008775c",
   "metadata": {},
   "outputs": [],
   "source": [
    "# Transforming our corpus\n",
    "\n",
    "X_train_nba = cvec_nba.transform(X_train_nba)"
   ]
  },
  {
   "cell_type": "code",
   "execution_count": 63,
   "id": "5f7a040a-acb9-45c6-ad4a-541ae6e3775f",
   "metadata": {},
   "outputs": [
    {
     "data": {
      "text/plain": [
       "(1065, 9838)"
      ]
     },
     "execution_count": 63,
     "metadata": {},
     "output_type": "execute_result"
    }
   ],
   "source": [
    "# checking the shape of our transformed corpus\n",
    "\n",
    "X_train_nba.shape"
   ]
  },
  {
   "cell_type": "code",
   "execution_count": 64,
   "id": "4003b289-10b7-415a-b52d-346a0d4eb45d",
   "metadata": {},
   "outputs": [],
   "source": [
    "# convert training data to dataframe\n",
    "\n",
    "X_train_nba_df = pd.DataFrame(X_train_nba.todense(), \n",
    "                          columns=cvec_nba.get_feature_names_out())"
   ]
  },
  {
   "cell_type": "code",
   "execution_count": 112,
   "id": "7d1b6412-93be-4d50-b47c-93d427845ffc",
   "metadata": {},
   "outputs": [
    {
     "data": {
      "image/png": "[encoded data removed]",
      "text/plain": [
       "<Figure size 640x480 with 1 Axes>"
      ]
     },
     "metadata": {},
     "output_type": "display_data"
    }
   ],
   "source": [
    "# plot top occuring words\n",
    "\n",
    "X_train_nba_df.sum().sort_values(ascending = False).head(10).plot(kind = 'barh');\n",
    "\n",
    "plt.xlabel('Frequency')\n",
    "plt.ylabel('Word')\n",
    "plt.title('Most Frequent Words in r/nba Before Customizing Stopwords');\n",
    "\n",
    "plt.tight_layout()\n",
    "plt.savefig('./../images/rnba_high_frequency_words_pre_stopword_cleaning.png');"
   ]
  },
  {
   "cell_type": "markdown",
   "id": "e8ee5f01-5fec-4990-a122-d20a0bb6bcd9",
   "metadata": {},
   "source": [
    "### Count vectorizing on combined_nba_data with added stop words"
   ]
  },
  {
   "cell_type": "code",
   "execution_count": 66,
   "id": "f81241a2-7aaf-4844-bac2-02f0fd66a47e",
   "metadata": {},
   "outputs": [],
   "source": [
    "# Setting up our X and y for combined_nba_df\n",
    "\n",
    "nba_X2 = combined_nba_df['title_plus_selftext']\n",
    "nba_y2 = combined_nba_df['subreddit']"
   ]
  },
  {
   "cell_type": "code",
   "execution_count": 67,
   "id": "5ce1143f-a458-45e8-b96d-4ab1e921a77d",
   "metadata": {},
   "outputs": [],
   "source": [
    "# splitting our data into training and testing sets\n",
    "\n",
    "X_train_nba2, X_test_nba2, y_train_nba2, y_test_nba2 = train_test_split(nba_X2, nba_y2, stratify = nba_y2, random_state= 42)"
   ]
  },
  {
   "cell_type": "code",
   "execution_count": 68,
   "id": "1889f8cd-8c85-4702-a636-6b0bb27f99e5",
   "metadata": {},
   "outputs": [],
   "source": [
    "#Instantiating CountVectorizer\n",
    "\n",
    "default_stop_words2 = CountVectorizer(stop_words='english').get_stop_words()\n",
    "\n",
    "custom_stop_words2 = ['nba', 'com', 'https', 'like']\n",
    "\n",
    "cvec_nba2_stop_words = list(default_stop_words2) + custom_stop_words2\n",
    "\n",
    "cvec_nba2 = CountVectorizer(stop_words= cvec_nba2_stop_words)"
   ]
  },
  {
   "cell_type": "code",
   "execution_count": 69,
   "id": "bdb395bc-3145-4ddb-af30-bc7fd6251d34",
   "metadata": {},
   "outputs": [
    {
     "data": {
      "text/html": [
       "<style>#sk-container-id-4 {color: black;background-color: white;}#sk-container-id-4 pre{padding: 0;}#sk-container-id-4 div.sk-toggleable {background-color: white;}#sk-container-id-4 label.sk-toggleable__label {cursor: pointer;display: block;width: 100%;margin-bottom: 0;padding: 0.3em;box-sizing: border-box;text-align: center;}#sk-container-id-4 label.sk-toggleable__label-arrow:before {content: \"▸\";float: left;margin-right: 0.25em;color: #696969;}#sk-container-id-4 label.sk-toggleable__label-arrow:hover:before {color: black;}#sk-container-id-4 div.sk-estimator:hover label.sk-toggleable__label-arrow:before {color: black;}#sk-container-id-4 div.sk-toggleable__content {max-height: 0;max-width: 0;overflow: hidden;text-align: left;background-color: #f0f8ff;}#sk-container-id-4 div.sk-toggleable__content pre {margin: 0.2em;color: black;border-radius: 0.25em;background-color: #f0f8ff;}#sk-container-id-4 input.sk-toggleable__control:checked~div.sk-toggleable__content {max-height: 200px;max-width: 100%;overflow: auto;}#sk-container-id-4 input.sk-toggleable__control:checked~label.sk-toggleable__label-arrow:before {content: \"▾\";}#sk-container-id-4 div.sk-estimator input.sk-toggleable__control:checked~label.sk-toggleable__label {background-color: #d4ebff;}#sk-container-id-4 div.sk-label input.sk-toggleable__control:checked~label.sk-toggleable__label {background-color: #d4ebff;}#sk-container-id-4 input.sk-hidden--visually {border: 0;clip: rect(1px 1px 1px 1px);clip: rect(1px, 1px, 1px, 1px);height: 1px;margin: -1px;overflow: hidden;padding: 0;position: absolute;width: 1px;}#sk-container-id-4 div.sk-estimator {font-family: monospace;background-color: #f0f8ff;border: 1px dotted black;border-radius: 0.25em;box-sizing: border-box;margin-bottom: 0.5em;}#sk-container-id-4 div.sk-estimator:hover {background-color: #d4ebff;}#sk-container-id-4 div.sk-parallel-item::after {content: \"\";width: 100%;border-bottom: 1px solid gray;flex-grow: 1;}#sk-container-id-4 div.sk-label:hover label.sk-toggleable__label {background-color: #d4ebff;}#sk-container-id-4 div.sk-serial::before {content: \"\";position: absolute;border-left: 1px solid gray;box-sizing: border-box;top: 0;bottom: 0;left: 50%;z-index: 0;}#sk-container-id-4 div.sk-serial {display: flex;flex-direction: column;align-items: center;background-color: white;padding-right: 0.2em;padding-left: 0.2em;position: relative;}#sk-container-id-4 div.sk-item {position: relative;z-index: 1;}#sk-container-id-4 div.sk-parallel {display: flex;align-items: stretch;justify-content: center;background-color: white;position: relative;}#sk-container-id-4 div.sk-item::before, #sk-container-id-4 div.sk-parallel-item::before {content: \"\";position: absolute;border-left: 1px solid gray;box-sizing: border-box;top: 0;bottom: 0;left: 50%;z-index: -1;}#sk-container-id-4 div.sk-parallel-item {display: flex;flex-direction: column;z-index: 1;position: relative;background-color: white;}#sk-container-id-4 div.sk-parallel-item:first-child::after {align-self: flex-end;width: 50%;}#sk-container-id-4 div.sk-parallel-item:last-child::after {align-self: flex-start;width: 50%;}#sk-container-id-4 div.sk-parallel-item:only-child::after {width: 0;}#sk-container-id-4 div.sk-dashed-wrapped {border: 1px dashed gray;margin: 0 0.4em 0.5em 0.4em;box-sizing: border-box;padding-bottom: 0.4em;background-color: white;}#sk-container-id-4 div.sk-label label {font-family: monospace;font-weight: bold;display: inline-block;line-height: 1.2em;}#sk-container-id-4 div.sk-label-container {text-align: center;}#sk-container-id-4 div.sk-container {/* jupyter's `normalize.less` sets `[hidden] { display: none; }` but bootstrap.min.css set `[hidden] { display: none !important; }` so we also need the `!important` here to be able to override the default hidden behavior on the sphinx rendered scikit-learn.org. See: https://github.com/scikit-learn/scikit-learn/issues/21755 */display: inline-block !important;position: relative;}#sk-container-id-4 div.sk-text-repr-fallback {display: none;}</style><div id=\"sk-container-id-4\" class=\"sk-top-container\"><div class=\"sk-text-repr-fallback\"><pre>CountVectorizer(stop_words=[&#x27;she&#x27;, &#x27;with&#x27;, &#x27;you&#x27;, &#x27;otherwise&#x27;, &#x27;they&#x27;, &#x27;almost&#x27;,\n",
       "                            &#x27;whence&#x27;, &#x27;although&#x27;, &#x27;get&#x27;, &#x27;nevertheless&#x27;,\n",
       "                            &#x27;alone&#x27;, &#x27;eleven&#x27;, &#x27;both&#x27;, &#x27;indeed&#x27;, &#x27;every&#x27;, &#x27;had&#x27;,\n",
       "                            &#x27;that&#x27;, &#x27;whereafter&#x27;, &#x27;first&#x27;, &#x27;already&#x27;, &#x27;through&#x27;,\n",
       "                            &#x27;yet&#x27;, &#x27;put&#x27;, &#x27;others&#x27;, &#x27;ten&#x27;, &#x27;whoever&#x27;, &#x27;often&#x27;,\n",
       "                            &#x27;while&#x27;, &#x27;will&#x27;, &#x27;whose&#x27;, ...])</pre><b>In a Jupyter environment, please rerun this cell to show the HTML representation or trust the notebook. <br />On GitHub, the HTML representation is unable to render, please try loading this page with nbviewer.org.</b></div><div class=\"sk-container\" hidden><div class=\"sk-item\"><div class=\"sk-estimator sk-toggleable\"><input class=\"sk-toggleable__control sk-hidden--visually\" id=\"sk-estimator-id-4\" type=\"checkbox\" checked><label for=\"sk-estimator-id-4\" class=\"sk-toggleable__label sk-toggleable__label-arrow\">CountVectorizer</label><div class=\"sk-toggleable__content\"><pre>CountVectorizer(stop_words=[&#x27;she&#x27;, &#x27;with&#x27;, &#x27;you&#x27;, &#x27;otherwise&#x27;, &#x27;they&#x27;, &#x27;almost&#x27;,\n",
       "                            &#x27;whence&#x27;, &#x27;although&#x27;, &#x27;get&#x27;, &#x27;nevertheless&#x27;,\n",
       "                            &#x27;alone&#x27;, &#x27;eleven&#x27;, &#x27;both&#x27;, &#x27;indeed&#x27;, &#x27;every&#x27;, &#x27;had&#x27;,\n",
       "                            &#x27;that&#x27;, &#x27;whereafter&#x27;, &#x27;first&#x27;, &#x27;already&#x27;, &#x27;through&#x27;,\n",
       "                            &#x27;yet&#x27;, &#x27;put&#x27;, &#x27;others&#x27;, &#x27;ten&#x27;, &#x27;whoever&#x27;, &#x27;often&#x27;,\n",
       "                            &#x27;while&#x27;, &#x27;will&#x27;, &#x27;whose&#x27;, ...])</pre></div></div></div></div></div>"
      ],
      "text/plain": [
       "CountVectorizer(stop_words=['she', 'with', 'you', 'otherwise', 'they', 'almost',\n",
       "                            'whence', 'although', 'get', 'nevertheless',\n",
       "                            'alone', 'eleven', 'both', 'indeed', 'every', 'had',\n",
       "                            'that', 'whereafter', 'first', 'already', 'through',\n",
       "                            'yet', 'put', 'others', 'ten', 'whoever', 'often',\n",
       "                            'while', 'will', 'whose', ...])"
      ]
     },
     "execution_count": 69,
     "metadata": {},
     "output_type": "execute_result"
    }
   ],
   "source": [
    "# Fitting the vectorizer on my corpus\n",
    "\n",
    "cvec_nba2.fit(X_train_nba2)"
   ]
  },
  {
   "cell_type": "code",
   "execution_count": 70,
   "id": "6084ab57-d94a-4b26-ad87-f39a6ff38517",
   "metadata": {},
   "outputs": [],
   "source": [
    "# Transforming our corpus\n",
    "\n",
    "X_train_nba2 = cvec_nba2.transform(X_train_nba2)"
   ]
  },
  {
   "cell_type": "code",
   "execution_count": 71,
   "id": "7d4d0ae6-f143-46f2-a733-2e79ebdf33ae",
   "metadata": {},
   "outputs": [
    {
     "data": {
      "text/plain": [
       "(1065, 9834)"
      ]
     },
     "execution_count": 71,
     "metadata": {},
     "output_type": "execute_result"
    }
   ],
   "source": [
    "# checking the shape of our transformed corpus\n",
    "\n",
    "X_train_nba2.shape"
   ]
  },
  {
   "cell_type": "code",
   "execution_count": 72,
   "id": "0c9a03dd-d3e9-4fab-b749-6e2239eb0702",
   "metadata": {},
   "outputs": [],
   "source": [
    "# convert training data to dataframe\n",
    "\n",
    "X_train_nba_df2 = pd.DataFrame(X_train_nba2.todense(), \n",
    "                          columns=cvec_nba2.get_feature_names_out())"
   ]
  },
  {
   "cell_type": "code",
   "execution_count": 113,
   "id": "4a7f9db8-a257-43ad-b8e0-28a461268329",
   "metadata": {},
   "outputs": [
    {
     "data": {
      "image/png": "[encoded data removed]",
      "text/plain": [
       "<Figure size 640x480 with 1 Axes>"
      ]
     },
     "metadata": {},
     "output_type": "display_data"
    }
   ],
   "source": [
    "# plot top occuring words\n",
    "\n",
    "X_train_nba_df2.sum().sort_values(ascending = False).head(10).plot(kind = 'barh');\n",
    "\n",
    "plt.xlabel('Frequency')\n",
    "plt.ylabel('Word')\n",
    "plt.title('Most Frequent Words in r/nba After Customizing Stopwords');\n",
    "\n",
    "plt.tight_layout()\n",
    "plt.savefig('./../images/rnba_high_frequency_words_post_stopword_cleaning.png');"
   ]
  },
  {
   "cell_type": "markdown",
   "id": "969e38d0-3049-4f56-84b7-ec32a5a1937a",
   "metadata": {},
   "source": [
    "Even after adding in additional stop words to the count vectorizers on both the NFL and NBA dataframes, I still feel that the top occuring words are not very indicative of the subreddits they came from. \n",
    "\n",
    "Below, I decided to utilize bi-grams to see if those will produce better results when it comes to more a hopeful indication of the correct subreddit."
   ]
  },
  {
   "cell_type": "markdown",
   "id": "aa881d2f-4f31-43a4-858b-be0458a0118d",
   "metadata": {},
   "source": [
    "____________________________\n",
    "## Bi-Grams"
   ]
  },
  {
   "cell_type": "markdown",
   "id": "2271e8bc-8f39-4ed1-bb27-c2cfea50e3d7",
   "metadata": {},
   "source": [
    "### NFL Subreddit"
   ]
  },
  {
   "cell_type": "code",
   "execution_count": 74,
   "id": "54af7077-1bbe-42ce-947c-0edf4cbb316e",
   "metadata": {},
   "outputs": [],
   "source": [
    "# Setting up our X and y for combined_nfl_df\n",
    "\n",
    "ngrams_nfl_X = combined_nfl_df['title_plus_selftext']\n",
    "ngrams_nfl_y = combined_nfl_df['subreddit']"
   ]
  },
  {
   "cell_type": "code",
   "execution_count": 75,
   "id": "106e941a-da4c-409c-a7da-a17155f8dcfe",
   "metadata": {},
   "outputs": [
    {
     "data": {
      "text/plain": [
       "nfl    1.0\n",
       "Name: subreddit, dtype: float64"
      ]
     },
     "execution_count": 75,
     "metadata": {},
     "output_type": "execute_result"
    }
   ],
   "source": [
    "# Checking our baseline\n",
    "\n",
    "ngrams_nfl_y.value_counts(normalize= True)"
   ]
  },
  {
   "cell_type": "code",
   "execution_count": 76,
   "id": "699bba9e-7240-4bbb-b673-a69679744bdc",
   "metadata": {},
   "outputs": [],
   "source": [
    "# splitting our data into training and testing sets\n",
    "\n",
    "ngrams_X_train_nfl, ngrams_X_test_nfl, ngrams_y_train_nfl, ngrams_y_test_nfl = train_test_split(ngrams_nfl_X, ngrams_nfl_y, stratify = ngrams_nfl_y, random_state= 42)"
   ]
  },
  {
   "cell_type": "code",
   "execution_count": 77,
   "id": "70a001c2-9513-45d0-b619-9c746ce0f202",
   "metadata": {},
   "outputs": [],
   "source": [
    "#Instantiating CountVectorizer looking for bi-grams with multitude of stop words, in addition to `english`\n",
    "\n",
    "default_stop_words = CountVectorizer(stop_words='english').get_stop_words()\n",
    "\n",
    "custom_stop_words = ['like', 'nfl', 'https', 'amp', 'www', 'reddit', 'com', 'utm_source', 'utm_medium', 'web2x']\n",
    "\n",
    "ngram_stop_words = list(default_stop_words) + custom_stop_words\n",
    "\n",
    "cvec_nfl_ngrams = CountVectorizer(ngram_range= (2,2), stop_words= ngram_stop_words)"
   ]
  },
  {
   "cell_type": "code",
   "execution_count": 78,
   "id": "6e4e490e-8376-452d-a695-e005db3b02ab",
   "metadata": {},
   "outputs": [
    {
     "data": {
      "text/html": [
       "<style>#sk-container-id-5 {color: black;background-color: white;}#sk-container-id-5 pre{padding: 0;}#sk-container-id-5 div.sk-toggleable {background-color: white;}#sk-container-id-5 label.sk-toggleable__label {cursor: pointer;display: block;width: 100%;margin-bottom: 0;padding: 0.3em;box-sizing: border-box;text-align: center;}#sk-container-id-5 label.sk-toggleable__label-arrow:before {content: \"▸\";float: left;margin-right: 0.25em;color: #696969;}#sk-container-id-5 label.sk-toggleable__label-arrow:hover:before {color: black;}#sk-container-id-5 div.sk-estimator:hover label.sk-toggleable__label-arrow:before {color: black;}#sk-container-id-5 div.sk-toggleable__content {max-height: 0;max-width: 0;overflow: hidden;text-align: left;background-color: #f0f8ff;}#sk-container-id-5 div.sk-toggleable__content pre {margin: 0.2em;color: black;border-radius: 0.25em;background-color: #f0f8ff;}#sk-container-id-5 input.sk-toggleable__control:checked~div.sk-toggleable__content {max-height: 200px;max-width: 100%;overflow: auto;}#sk-container-id-5 input.sk-toggleable__control:checked~label.sk-toggleable__label-arrow:before {content: \"▾\";}#sk-container-id-5 div.sk-estimator input.sk-toggleable__control:checked~label.sk-toggleable__label {background-color: #d4ebff;}#sk-container-id-5 div.sk-label input.sk-toggleable__control:checked~label.sk-toggleable__label {background-color: #d4ebff;}#sk-container-id-5 input.sk-hidden--visually {border: 0;clip: rect(1px 1px 1px 1px);clip: rect(1px, 1px, 1px, 1px);height: 1px;margin: -1px;overflow: hidden;padding: 0;position: absolute;width: 1px;}#sk-container-id-5 div.sk-estimator {font-family: monospace;background-color: #f0f8ff;border: 1px dotted black;border-radius: 0.25em;box-sizing: border-box;margin-bottom: 0.5em;}#sk-container-id-5 div.sk-estimator:hover {background-color: #d4ebff;}#sk-container-id-5 div.sk-parallel-item::after {content: \"\";width: 100%;border-bottom: 1px solid gray;flex-grow: 1;}#sk-container-id-5 div.sk-label:hover label.sk-toggleable__label {background-color: #d4ebff;}#sk-container-id-5 div.sk-serial::before {content: \"\";position: absolute;border-left: 1px solid gray;box-sizing: border-box;top: 0;bottom: 0;left: 50%;z-index: 0;}#sk-container-id-5 div.sk-serial {display: flex;flex-direction: column;align-items: center;background-color: white;padding-right: 0.2em;padding-left: 0.2em;position: relative;}#sk-container-id-5 div.sk-item {position: relative;z-index: 1;}#sk-container-id-5 div.sk-parallel {display: flex;align-items: stretch;justify-content: center;background-color: white;position: relative;}#sk-container-id-5 div.sk-item::before, #sk-container-id-5 div.sk-parallel-item::before {content: \"\";position: absolute;border-left: 1px solid gray;box-sizing: border-box;top: 0;bottom: 0;left: 50%;z-index: -1;}#sk-container-id-5 div.sk-parallel-item {display: flex;flex-direction: column;z-index: 1;position: relative;background-color: white;}#sk-container-id-5 div.sk-parallel-item:first-child::after {align-self: flex-end;width: 50%;}#sk-container-id-5 div.sk-parallel-item:last-child::after {align-self: flex-start;width: 50%;}#sk-container-id-5 div.sk-parallel-item:only-child::after {width: 0;}#sk-container-id-5 div.sk-dashed-wrapped {border: 1px dashed gray;margin: 0 0.4em 0.5em 0.4em;box-sizing: border-box;padding-bottom: 0.4em;background-color: white;}#sk-container-id-5 div.sk-label label {font-family: monospace;font-weight: bold;display: inline-block;line-height: 1.2em;}#sk-container-id-5 div.sk-label-container {text-align: center;}#sk-container-id-5 div.sk-container {/* jupyter's `normalize.less` sets `[hidden] { display: none; }` but bootstrap.min.css set `[hidden] { display: none !important; }` so we also need the `!important` here to be able to override the default hidden behavior on the sphinx rendered scikit-learn.org. See: https://github.com/scikit-learn/scikit-learn/issues/21755 */display: inline-block !important;position: relative;}#sk-container-id-5 div.sk-text-repr-fallback {display: none;}</style><div id=\"sk-container-id-5\" class=\"sk-top-container\"><div class=\"sk-text-repr-fallback\"><pre>CountVectorizer(ngram_range=(2, 2),\n",
       "                stop_words=[&#x27;she&#x27;, &#x27;with&#x27;, &#x27;you&#x27;, &#x27;otherwise&#x27;, &#x27;they&#x27;, &#x27;almost&#x27;,\n",
       "                            &#x27;whence&#x27;, &#x27;although&#x27;, &#x27;get&#x27;, &#x27;nevertheless&#x27;,\n",
       "                            &#x27;alone&#x27;, &#x27;eleven&#x27;, &#x27;both&#x27;, &#x27;indeed&#x27;, &#x27;every&#x27;, &#x27;had&#x27;,\n",
       "                            &#x27;that&#x27;, &#x27;whereafter&#x27;, &#x27;first&#x27;, &#x27;already&#x27;, &#x27;through&#x27;,\n",
       "                            &#x27;yet&#x27;, &#x27;put&#x27;, &#x27;others&#x27;, &#x27;ten&#x27;, &#x27;whoever&#x27;, &#x27;often&#x27;,\n",
       "                            &#x27;while&#x27;, &#x27;will&#x27;, &#x27;whose&#x27;, ...])</pre><b>In a Jupyter environment, please rerun this cell to show the HTML representation or trust the notebook. <br />On GitHub, the HTML representation is unable to render, please try loading this page with nbviewer.org.</b></div><div class=\"sk-container\" hidden><div class=\"sk-item\"><div class=\"sk-estimator sk-toggleable\"><input class=\"sk-toggleable__control sk-hidden--visually\" id=\"sk-estimator-id-5\" type=\"checkbox\" checked><label for=\"sk-estimator-id-5\" class=\"sk-toggleable__label sk-toggleable__label-arrow\">CountVectorizer</label><div class=\"sk-toggleable__content\"><pre>CountVectorizer(ngram_range=(2, 2),\n",
       "                stop_words=[&#x27;she&#x27;, &#x27;with&#x27;, &#x27;you&#x27;, &#x27;otherwise&#x27;, &#x27;they&#x27;, &#x27;almost&#x27;,\n",
       "                            &#x27;whence&#x27;, &#x27;although&#x27;, &#x27;get&#x27;, &#x27;nevertheless&#x27;,\n",
       "                            &#x27;alone&#x27;, &#x27;eleven&#x27;, &#x27;both&#x27;, &#x27;indeed&#x27;, &#x27;every&#x27;, &#x27;had&#x27;,\n",
       "                            &#x27;that&#x27;, &#x27;whereafter&#x27;, &#x27;first&#x27;, &#x27;already&#x27;, &#x27;through&#x27;,\n",
       "                            &#x27;yet&#x27;, &#x27;put&#x27;, &#x27;others&#x27;, &#x27;ten&#x27;, &#x27;whoever&#x27;, &#x27;often&#x27;,\n",
       "                            &#x27;while&#x27;, &#x27;will&#x27;, &#x27;whose&#x27;, ...])</pre></div></div></div></div></div>"
      ],
      "text/plain": [
       "CountVectorizer(ngram_range=(2, 2),\n",
       "                stop_words=['she', 'with', 'you', 'otherwise', 'they', 'almost',\n",
       "                            'whence', 'although', 'get', 'nevertheless',\n",
       "                            'alone', 'eleven', 'both', 'indeed', 'every', 'had',\n",
       "                            'that', 'whereafter', 'first', 'already', 'through',\n",
       "                            'yet', 'put', 'others', 'ten', 'whoever', 'often',\n",
       "                            'while', 'will', 'whose', ...])"
      ]
     },
     "execution_count": 78,
     "metadata": {},
     "output_type": "execute_result"
    }
   ],
   "source": [
    "# Fitting the vectorizer on my corpus\n",
    "\n",
    "cvec_nfl_ngrams.fit(ngrams_X_train_nfl)"
   ]
  },
  {
   "cell_type": "code",
   "execution_count": 79,
   "id": "77d5621e-dc3f-41e2-bc3d-050913ca7ba0",
   "metadata": {},
   "outputs": [],
   "source": [
    "# Transforming our corpus\n",
    "\n",
    "ngrams_X_train_nfl = cvec_nfl_ngrams.fit_transform(ngrams_X_train_nfl)"
   ]
  },
  {
   "cell_type": "code",
   "execution_count": 80,
   "id": "9afaf186-f976-486e-a466-17da5d42522c",
   "metadata": {},
   "outputs": [
    {
     "data": {
      "text/plain": [
       "(954, 36863)"
      ]
     },
     "execution_count": 80,
     "metadata": {},
     "output_type": "execute_result"
    }
   ],
   "source": [
    "# checking the shape of our transformed corpus\n",
    "\n",
    "ngrams_X_train_nfl.shape"
   ]
  },
  {
   "cell_type": "code",
   "execution_count": 81,
   "id": "f5932c92-dfd3-48e4-b522-556c69f6ce96",
   "metadata": {},
   "outputs": [],
   "source": [
    "# convert training data to dataframe\n",
    "\n",
    "ngrams_X_train_nfl_df = pd.DataFrame(ngrams_X_train_nfl.todense(), \n",
    "                          columns=cvec_nfl_ngrams.get_feature_names_out())"
   ]
  },
  {
   "cell_type": "code",
   "execution_count": 117,
   "id": "be591882-1b92-44c1-9e92-60aa2cf150df",
   "metadata": {},
   "outputs": [
    {
     "data": {
      "image/png": "[encoded data removed]",
      "text/plain": [
       "<Figure size 640x480 with 1 Axes>"
      ]
     },
     "metadata": {},
     "output_type": "display_data"
    }
   ],
   "source": [
    "# plot top occuring bi-grams\n",
    "\n",
    "ngrams_X_train_nfl_df.sum().sort_values(ascending = False).head(10).plot(kind = 'barh');\n",
    "\n",
    "plt.xlabel('Frequency')\n",
    "plt.ylabel('Bi-Gram')\n",
    "plt.title('Most Frequent Bi-Grams in r/nfl with Customized Stopwords');\n",
    "\n",
    "plt.tight_layout()\n",
    "plt.savefig('./../images/rnfl_high_frequency_bigrams_with_stopword_cleaning.png');"
   ]
  },
  {
   "cell_type": "markdown",
   "id": "b00e20c4-0c50-41a8-a085-50856630902a",
   "metadata": {},
   "source": [
    "### NBA Subreddit"
   ]
  },
  {
   "cell_type": "code",
   "execution_count": 83,
   "id": "f18463aa-702c-4f24-9f9c-ebafa0883b53",
   "metadata": {},
   "outputs": [],
   "source": [
    "# Setting up our X and y for combined_nba_df\n",
    "\n",
    "ngrams_nba_X = combined_nba_df['title_plus_selftext']\n",
    "ngrams_nba_y = combined_nba_df['subreddit']"
   ]
  },
  {
   "cell_type": "code",
   "execution_count": 84,
   "id": "9a20c295-7b2e-48f2-a542-3bc76072e7cf",
   "metadata": {},
   "outputs": [
    {
     "data": {
      "text/plain": [
       "nba    1.0\n",
       "Name: subreddit, dtype: float64"
      ]
     },
     "execution_count": 84,
     "metadata": {},
     "output_type": "execute_result"
    }
   ],
   "source": [
    "# Checking our baseline\n",
    "\n",
    "ngrams_nba_y.value_counts(normalize= True)"
   ]
  },
  {
   "cell_type": "code",
   "execution_count": 85,
   "id": "be425401-2fcf-4445-8edd-c7cc9aad6315",
   "metadata": {},
   "outputs": [],
   "source": [
    "# splitting our data into training and testing sets\n",
    "\n",
    "ngrams_X_train_nba, ngrams_X_test_nba, ngrams_y_train_nba, ngrams_y_test_nba = train_test_split(ngrams_nba_X, ngrams_nba_y, stratify = ngrams_nba_y, random_state= 42)"
   ]
  },
  {
   "cell_type": "code",
   "execution_count": 86,
   "id": "3ec50256-2454-40c9-b59d-20b3ce488c3b",
   "metadata": {},
   "outputs": [],
   "source": [
    "#Instantiating CountVectorizer looking for bi-grams with multitude of stop words, in addition to `english`\n",
    "\n",
    "default_stop_words2 = CountVectorizer(stop_words='english').get_stop_words()\n",
    "\n",
    "custom_stop_words2 = ['nba', 'com', 'https', 'like', 'reddit', 'amp', 'comments']\n",
    "\n",
    "ngram_stop_words_nba = list(default_stop_words2) + custom_stop_words2\n",
    "\n",
    "cvec_nba_ngrams = CountVectorizer(ngram_range= (2,2), stop_words= ngram_stop_words_nba)"
   ]
  },
  {
   "cell_type": "code",
   "execution_count": 87,
   "id": "d3bd2fbf-5071-4697-9388-7ae8f599fa18",
   "metadata": {},
   "outputs": [
    {
     "data": {
      "text/html": [
       "<style>#sk-container-id-6 {color: black;background-color: white;}#sk-container-id-6 pre{padding: 0;}#sk-container-id-6 div.sk-toggleable {background-color: white;}#sk-container-id-6 label.sk-toggleable__label {cursor: pointer;display: block;width: 100%;margin-bottom: 0;padding: 0.3em;box-sizing: border-box;text-align: center;}#sk-container-id-6 label.sk-toggleable__label-arrow:before {content: \"▸\";float: left;margin-right: 0.25em;color: #696969;}#sk-container-id-6 label.sk-toggleable__label-arrow:hover:before {color: black;}#sk-container-id-6 div.sk-estimator:hover label.sk-toggleable__label-arrow:before {color: black;}#sk-container-id-6 div.sk-toggleable__content {max-height: 0;max-width: 0;overflow: hidden;text-align: left;background-color: #f0f8ff;}#sk-container-id-6 div.sk-toggleable__content pre {margin: 0.2em;color: black;border-radius: 0.25em;background-color: #f0f8ff;}#sk-container-id-6 input.sk-toggleable__control:checked~div.sk-toggleable__content {max-height: 200px;max-width: 100%;overflow: auto;}#sk-container-id-6 input.sk-toggleable__control:checked~label.sk-toggleable__label-arrow:before {content: \"▾\";}#sk-container-id-6 div.sk-estimator input.sk-toggleable__control:checked~label.sk-toggleable__label {background-color: #d4ebff;}#sk-container-id-6 div.sk-label input.sk-toggleable__control:checked~label.sk-toggleable__label {background-color: #d4ebff;}#sk-container-id-6 input.sk-hidden--visually {border: 0;clip: rect(1px 1px 1px 1px);clip: rect(1px, 1px, 1px, 1px);height: 1px;margin: -1px;overflow: hidden;padding: 0;position: absolute;width: 1px;}#sk-container-id-6 div.sk-estimator {font-family: monospace;background-color: #f0f8ff;border: 1px dotted black;border-radius: 0.25em;box-sizing: border-box;margin-bottom: 0.5em;}#sk-container-id-6 div.sk-estimator:hover {background-color: #d4ebff;}#sk-container-id-6 div.sk-parallel-item::after {content: \"\";width: 100%;border-bottom: 1px solid gray;flex-grow: 1;}#sk-container-id-6 div.sk-label:hover label.sk-toggleable__label {background-color: #d4ebff;}#sk-container-id-6 div.sk-serial::before {content: \"\";position: absolute;border-left: 1px solid gray;box-sizing: border-box;top: 0;bottom: 0;left: 50%;z-index: 0;}#sk-container-id-6 div.sk-serial {display: flex;flex-direction: column;align-items: center;background-color: white;padding-right: 0.2em;padding-left: 0.2em;position: relative;}#sk-container-id-6 div.sk-item {position: relative;z-index: 1;}#sk-container-id-6 div.sk-parallel {display: flex;align-items: stretch;justify-content: center;background-color: white;position: relative;}#sk-container-id-6 div.sk-item::before, #sk-container-id-6 div.sk-parallel-item::before {content: \"\";position: absolute;border-left: 1px solid gray;box-sizing: border-box;top: 0;bottom: 0;left: 50%;z-index: -1;}#sk-container-id-6 div.sk-parallel-item {display: flex;flex-direction: column;z-index: 1;position: relative;background-color: white;}#sk-container-id-6 div.sk-parallel-item:first-child::after {align-self: flex-end;width: 50%;}#sk-container-id-6 div.sk-parallel-item:last-child::after {align-self: flex-start;width: 50%;}#sk-container-id-6 div.sk-parallel-item:only-child::after {width: 0;}#sk-container-id-6 div.sk-dashed-wrapped {border: 1px dashed gray;margin: 0 0.4em 0.5em 0.4em;box-sizing: border-box;padding-bottom: 0.4em;background-color: white;}#sk-container-id-6 div.sk-label label {font-family: monospace;font-weight: bold;display: inline-block;line-height: 1.2em;}#sk-container-id-6 div.sk-label-container {text-align: center;}#sk-container-id-6 div.sk-container {/* jupyter's `normalize.less` sets `[hidden] { display: none; }` but bootstrap.min.css set `[hidden] { display: none !important; }` so we also need the `!important` here to be able to override the default hidden behavior on the sphinx rendered scikit-learn.org. See: https://github.com/scikit-learn/scikit-learn/issues/21755 */display: inline-block !important;position: relative;}#sk-container-id-6 div.sk-text-repr-fallback {display: none;}</style><div id=\"sk-container-id-6\" class=\"sk-top-container\"><div class=\"sk-text-repr-fallback\"><pre>CountVectorizer(ngram_range=(2, 2),\n",
       "                stop_words=[&#x27;she&#x27;, &#x27;with&#x27;, &#x27;you&#x27;, &#x27;otherwise&#x27;, &#x27;they&#x27;, &#x27;almost&#x27;,\n",
       "                            &#x27;whence&#x27;, &#x27;although&#x27;, &#x27;get&#x27;, &#x27;nevertheless&#x27;,\n",
       "                            &#x27;alone&#x27;, &#x27;eleven&#x27;, &#x27;both&#x27;, &#x27;indeed&#x27;, &#x27;every&#x27;, &#x27;had&#x27;,\n",
       "                            &#x27;that&#x27;, &#x27;whereafter&#x27;, &#x27;first&#x27;, &#x27;already&#x27;, &#x27;through&#x27;,\n",
       "                            &#x27;yet&#x27;, &#x27;put&#x27;, &#x27;others&#x27;, &#x27;ten&#x27;, &#x27;whoever&#x27;, &#x27;often&#x27;,\n",
       "                            &#x27;while&#x27;, &#x27;will&#x27;, &#x27;whose&#x27;, ...])</pre><b>In a Jupyter environment, please rerun this cell to show the HTML representation or trust the notebook. <br />On GitHub, the HTML representation is unable to render, please try loading this page with nbviewer.org.</b></div><div class=\"sk-container\" hidden><div class=\"sk-item\"><div class=\"sk-estimator sk-toggleable\"><input class=\"sk-toggleable__control sk-hidden--visually\" id=\"sk-estimator-id-6\" type=\"checkbox\" checked><label for=\"sk-estimator-id-6\" class=\"sk-toggleable__label sk-toggleable__label-arrow\">CountVectorizer</label><div class=\"sk-toggleable__content\"><pre>CountVectorizer(ngram_range=(2, 2),\n",
       "                stop_words=[&#x27;she&#x27;, &#x27;with&#x27;, &#x27;you&#x27;, &#x27;otherwise&#x27;, &#x27;they&#x27;, &#x27;almost&#x27;,\n",
       "                            &#x27;whence&#x27;, &#x27;although&#x27;, &#x27;get&#x27;, &#x27;nevertheless&#x27;,\n",
       "                            &#x27;alone&#x27;, &#x27;eleven&#x27;, &#x27;both&#x27;, &#x27;indeed&#x27;, &#x27;every&#x27;, &#x27;had&#x27;,\n",
       "                            &#x27;that&#x27;, &#x27;whereafter&#x27;, &#x27;first&#x27;, &#x27;already&#x27;, &#x27;through&#x27;,\n",
       "                            &#x27;yet&#x27;, &#x27;put&#x27;, &#x27;others&#x27;, &#x27;ten&#x27;, &#x27;whoever&#x27;, &#x27;often&#x27;,\n",
       "                            &#x27;while&#x27;, &#x27;will&#x27;, &#x27;whose&#x27;, ...])</pre></div></div></div></div></div>"
      ],
      "text/plain": [
       "CountVectorizer(ngram_range=(2, 2),\n",
       "                stop_words=['she', 'with', 'you', 'otherwise', 'they', 'almost',\n",
       "                            'whence', 'although', 'get', 'nevertheless',\n",
       "                            'alone', 'eleven', 'both', 'indeed', 'every', 'had',\n",
       "                            'that', 'whereafter', 'first', 'already', 'through',\n",
       "                            'yet', 'put', 'others', 'ten', 'whoever', 'often',\n",
       "                            'while', 'will', 'whose', ...])"
      ]
     },
     "execution_count": 87,
     "metadata": {},
     "output_type": "execute_result"
    }
   ],
   "source": [
    "# Fitting the vectorizer on my corpus\n",
    "\n",
    "cvec_nba_ngrams.fit(ngrams_X_train_nba)"
   ]
  },
  {
   "cell_type": "code",
   "execution_count": 88,
   "id": "27a783b8-655e-4cda-9171-d299003b2170",
   "metadata": {},
   "outputs": [],
   "source": [
    "# Transforming our corpus\n",
    "\n",
    "ngrams_X_train_nba = cvec_nba_ngrams.fit_transform(ngrams_X_train_nba)"
   ]
  },
  {
   "cell_type": "code",
   "execution_count": 89,
   "id": "02f13a3c-6b22-42c2-a2da-78fdbb7828ff",
   "metadata": {},
   "outputs": [
    {
     "data": {
      "text/plain": [
       "(1065, 47447)"
      ]
     },
     "execution_count": 89,
     "metadata": {},
     "output_type": "execute_result"
    }
   ],
   "source": [
    "# checking the shape of our transformed corpus\n",
    "\n",
    "ngrams_X_train_nba.shape"
   ]
  },
  {
   "cell_type": "code",
   "execution_count": 90,
   "id": "ed349332-1703-4ee3-ace3-d76ab972e486",
   "metadata": {},
   "outputs": [],
   "source": [
    "# convert training data to dataframe\n",
    "\n",
    "ngrams_X_train_nba_df = pd.DataFrame(ngrams_X_train_nba.todense(), \n",
    "                          columns=cvec_nba_ngrams.get_feature_names_out())"
   ]
  },
  {
   "cell_type": "code",
   "execution_count": 115,
   "id": "a1c659da-b159-45c9-be63-cb59f64eaf0b",
   "metadata": {},
   "outputs": [
    {
     "data": {
      "image/png": "[encoded data removed]",
      "text/plain": [
       "<Figure size 640x480 with 1 Axes>"
      ]
     },
     "metadata": {},
     "output_type": "display_data"
    }
   ],
   "source": [
    "# plot top occuring bi-grams\n",
    "\n",
    "ngrams_X_train_nba_df.sum().sort_values(ascending = False).head(10).plot(kind = 'barh');\n",
    "\n",
    "plt.xlabel('Frequency')\n",
    "plt.ylabel('Bi-Gram')\n",
    "plt.title('Most Frequent Bi-Grams in r/nba with Customized Stopwords');\n",
    "\n",
    "plt.tight_layout()\n",
    "plt.savefig('./../images/rnba_high_frequency_bigrams_with_stopword_cleaning.png');"
   ]
  },
  {
   "cell_type": "markdown",
   "id": "6f375d2e-5c4c-4cce-931f-eec2455dffec",
   "metadata": {},
   "source": [
    "_____________________________________\n",
    "## Concatenating both combined dataframes"
   ]
  },
  {
   "cell_type": "markdown",
   "id": "7437788d-7b75-473c-809c-c937a4a9b7a1",
   "metadata": {},
   "source": [
    "Now that we have individually explored both dataframes for top occuring words and bi-grams, it is time to combine/concatenate the dataframes and explore the top occuring words and bi-grams in the total combined dataframe."
   ]
  },
  {
   "cell_type": "code",
   "execution_count": 92,
   "id": "87bfb5be-6a0d-46d3-9603-a2f02698331e",
   "metadata": {},
   "outputs": [],
   "source": [
    "total_combined_dfs = pd.concat([combined_nfl_df, combined_nba_df], ignore_index = True)"
   ]
  },
  {
   "cell_type": "code",
   "execution_count": 93,
   "id": "82b72c89-1b2a-4215-adb5-8e02b64e5425",
   "metadata": {},
   "outputs": [
    {
     "data": {
      "text/html": [
       "<div>\n",
       "<style scoped>\n",
       "    .dataframe tbody tr th:only-of-type {\n",
       "        vertical-align: middle;\n",
       "    }\n",
       "\n",
       "    .dataframe tbody tr th {\n",
       "        vertical-align: top;\n",
       "    }\n",
       "\n",
       "    .dataframe thead th {\n",
       "        text-align: right;\n",
       "    }\n",
       "</style>\n",
       "<table border=\"1\" class=\"dataframe\">\n",
       "  <thead>\n",
       "    <tr style=\"text-align: right;\">\n",
       "      <th></th>\n",
       "      <th>title</th>\n",
       "      <th>subreddit</th>\n",
       "      <th>selftext</th>\n",
       "      <th>subreddit_id</th>\n",
       "      <th>text_length</th>\n",
       "      <th>word_count</th>\n",
       "      <th>title_plus_selftext</th>\n",
       "    </tr>\n",
       "  </thead>\n",
       "  <tbody>\n",
       "    <tr>\n",
       "      <th>0</th>\n",
       "      <td>2023 Offseason Review: Minnesota Vikings</td>\n",
       "      <td>nfl</td>\n",
       "      <td># [Series Hub](https://www.reddit.com/r/nfl/co...</td>\n",
       "      <td>t5_2qmg3</td>\n",
       "      <td>12954</td>\n",
       "      <td>1676</td>\n",
       "      <td>2023 Offseason Review: Minnesota Vikings# [Ser...</td>\n",
       "    </tr>\n",
       "    <tr>\n",
       "      <th>1</th>\n",
       "      <td>2023 Offseason Review: San Francisco 49ers</td>\n",
       "      <td>nfl</td>\n",
       "      <td>#San Francisco 49ers Offseason Review\\n\\n##[Se...</td>\n",
       "      <td>t5_2qmg3</td>\n",
       "      <td>39725</td>\n",
       "      <td>6053</td>\n",
       "      <td>2023 Offseason Review: San Francisco 49ers#San...</td>\n",
       "    </tr>\n",
       "    <tr>\n",
       "      <th>2</th>\n",
       "      <td>Tua Tagovailoa says everything he did this off...</td>\n",
       "      <td>nfl</td>\n",
       "      <td>&amp;gt;Tagovailoa also talked about choosing a ne...</td>\n",
       "      <td>t5_2qmg3</td>\n",
       "      <td>249</td>\n",
       "      <td>43</td>\n",
       "      <td>Tua Tagovailoa says everything he did this off...</td>\n",
       "    </tr>\n",
       "    <tr>\n",
       "      <th>3</th>\n",
       "      <td>[Glaser] “Zach Wilson has played really well i...</td>\n",
       "      <td>nfl</td>\n",
       "      <td></td>\n",
       "      <td>t5_2qmg3</td>\n",
       "      <td>0</td>\n",
       "      <td>1</td>\n",
       "      <td>[Glaser] “Zach Wilson has played really well i...</td>\n",
       "    </tr>\n",
       "    <tr>\n",
       "      <th>4</th>\n",
       "      <td>[JacobWestendorf] #Broncos RB Terrell Davis pl...</td>\n",
       "      <td>nfl</td>\n",
       "      <td></td>\n",
       "      <td>t5_2qmg3</td>\n",
       "      <td>0</td>\n",
       "      <td>1</td>\n",
       "      <td>[JacobWestendorf] #Broncos RB Terrell Davis pl...</td>\n",
       "    </tr>\n",
       "  </tbody>\n",
       "</table>\n",
       "</div>"
      ],
      "text/plain": [
       "                                               title subreddit  \\\n",
       "0           2023 Offseason Review: Minnesota Vikings       nfl   \n",
       "1         2023 Offseason Review: San Francisco 49ers       nfl   \n",
       "2  Tua Tagovailoa says everything he did this off...       nfl   \n",
       "3  [Glaser] “Zach Wilson has played really well i...       nfl   \n",
       "4  [JacobWestendorf] #Broncos RB Terrell Davis pl...       nfl   \n",
       "\n",
       "                                            selftext subreddit_id  \\\n",
       "0  # [Series Hub](https://www.reddit.com/r/nfl/co...     t5_2qmg3   \n",
       "1  #San Francisco 49ers Offseason Review\\n\\n##[Se...     t5_2qmg3   \n",
       "2  &gt;Tagovailoa also talked about choosing a ne...     t5_2qmg3   \n",
       "3                                                        t5_2qmg3   \n",
       "4                                                        t5_2qmg3   \n",
       "\n",
       "   text_length  word_count                                title_plus_selftext  \n",
       "0        12954        1676  2023 Offseason Review: Minnesota Vikings# [Ser...  \n",
       "1        39725        6053  2023 Offseason Review: San Francisco 49ers#San...  \n",
       "2          249          43  Tua Tagovailoa says everything he did this off...  \n",
       "3            0           1  [Glaser] “Zach Wilson has played really well i...  \n",
       "4            0           1  [JacobWestendorf] #Broncos RB Terrell Davis pl...  "
      ]
     },
     "execution_count": 93,
     "metadata": {},
     "output_type": "execute_result"
    }
   ],
   "source": [
    "total_combined_dfs.head()"
   ]
  },
  {
   "cell_type": "code",
   "execution_count": 94,
   "id": "5bc4cf55-4ac3-4896-8978-48adf6fdba4b",
   "metadata": {},
   "outputs": [
    {
     "data": {
      "text/plain": [
       "(2692, 7)"
      ]
     },
     "execution_count": 94,
     "metadata": {},
     "output_type": "execute_result"
    }
   ],
   "source": [
    "total_combined_dfs.shape"
   ]
  },
  {
   "cell_type": "code",
   "execution_count": 95,
   "id": "f975d560-79bb-42db-ac2d-82c80554b92e",
   "metadata": {},
   "outputs": [
    {
     "data": {
      "text/plain": [
       "nba    1420\n",
       "nfl    1272\n",
       "Name: subreddit, dtype: int64"
      ]
     },
     "execution_count": 95,
     "metadata": {},
     "output_type": "execute_result"
    }
   ],
   "source": [
    "total_combined_dfs['subreddit'].value_counts()"
   ]
  },
  {
   "cell_type": "code",
   "execution_count": 96,
   "id": "cafda0b0-136f-4e4d-86d7-3be29b5ee8ca",
   "metadata": {},
   "outputs": [
    {
     "data": {
      "text/plain": [
       "title                  0\n",
       "subreddit              0\n",
       "selftext               0\n",
       "subreddit_id           0\n",
       "text_length            0\n",
       "word_count             0\n",
       "title_plus_selftext    0\n",
       "dtype: int64"
      ]
     },
     "execution_count": 96,
     "metadata": {},
     "output_type": "execute_result"
    }
   ],
   "source": [
    "total_combined_dfs.isnull().sum()"
   ]
  },
  {
   "cell_type": "markdown",
   "id": "b9f70c48-99c6-48e2-a066-e3645c80699b",
   "metadata": {},
   "source": [
    "### saving total_combined_dfs"
   ]
  },
  {
   "cell_type": "code",
   "execution_count": 98,
   "id": "8a7e682e-4d64-4f40-b620-4571e74c0ad5",
   "metadata": {},
   "outputs": [],
   "source": [
    "total_combined_dfs.to_csv('./../data/total_combined_dfs.csv', index = False)"
   ]
  },
  {
   "cell_type": "markdown",
   "id": "f172dad8-2f3b-41d9-b9b5-cc38cb12c475",
   "metadata": {},
   "source": [
    "## N-grams for total_combined_dfs"
   ]
  },
  {
   "cell_type": "code",
   "execution_count": 99,
   "id": "73699ee1-3246-467e-8c1d-2ffc84bb867c",
   "metadata": {},
   "outputs": [],
   "source": [
    "# Setting up our X and y for total_combined_dfs\n",
    "\n",
    "ngrams_total_X = total_combined_dfs['title_plus_selftext']\n",
    "ngrams_total_y = total_combined_dfs['subreddit']"
   ]
  },
  {
   "cell_type": "code",
   "execution_count": 100,
   "id": "29008383-5e56-4f8f-8928-fbba84c9fe5f",
   "metadata": {},
   "outputs": [],
   "source": [
    "# splitting our data into training and testing sets\n",
    "\n",
    "ngrams_X_train_total, ngrams_X_test_total, ngrams_y_train_total, ngrams_y_test_total = train_test_split(ngrams_total_X, ngrams_total_y, stratify = ngrams_total_y, random_state= 42)"
   ]
  },
  {
   "cell_type": "code",
   "execution_count": 101,
   "id": "aeebdd95-f72c-4ae2-9022-ece6a17e3755",
   "metadata": {},
   "outputs": [],
   "source": [
    "#Instantiating CountVectorizer looking for bi-grams with multitude of stop words, in addition to `english`\n",
    "\n",
    "default_stop_words3 = CountVectorizer(stop_words='english').get_stop_words()\n",
    "\n",
    "custom_stop_words3 = ['nba', 'com', 'https', 'like', 'reddit', 'amp', 'comments', 'the', 'to', 'of', 'this', 'was', 'is', 'has', 'have', 'been', 'if', 'be', 'he', 'his', 'in']\n",
    "\n",
    "ngram_stop_words_total = list(default_stop_words3) + custom_stop_words3\n",
    "\n",
    "cvec_total_ngrams = CountVectorizer(ngram_range= (2,2), stop_words= custom_stop_words3, max_features=500, min_df=3, max_df=.95)"
   ]
  },
  {
   "cell_type": "code",
   "execution_count": 102,
   "id": "d4b50bcc-39ed-4021-a93b-de7423370660",
   "metadata": {},
   "outputs": [
    {
     "data": {
      "text/html": [
       "<style>#sk-container-id-7 {color: black;background-color: white;}#sk-container-id-7 pre{padding: 0;}#sk-container-id-7 div.sk-toggleable {background-color: white;}#sk-container-id-7 label.sk-toggleable__label {cursor: pointer;display: block;width: 100%;margin-bottom: 0;padding: 0.3em;box-sizing: border-box;text-align: center;}#sk-container-id-7 label.sk-toggleable__label-arrow:before {content: \"▸\";float: left;margin-right: 0.25em;color: #696969;}#sk-container-id-7 label.sk-toggleable__label-arrow:hover:before {color: black;}#sk-container-id-7 div.sk-estimator:hover label.sk-toggleable__label-arrow:before {color: black;}#sk-container-id-7 div.sk-toggleable__content {max-height: 0;max-width: 0;overflow: hidden;text-align: left;background-color: #f0f8ff;}#sk-container-id-7 div.sk-toggleable__content pre {margin: 0.2em;color: black;border-radius: 0.25em;background-color: #f0f8ff;}#sk-container-id-7 input.sk-toggleable__control:checked~div.sk-toggleable__content {max-height: 200px;max-width: 100%;overflow: auto;}#sk-container-id-7 input.sk-toggleable__control:checked~label.sk-toggleable__label-arrow:before {content: \"▾\";}#sk-container-id-7 div.sk-estimator input.sk-toggleable__control:checked~label.sk-toggleable__label {background-color: #d4ebff;}#sk-container-id-7 div.sk-label input.sk-toggleable__control:checked~label.sk-toggleable__label {background-color: #d4ebff;}#sk-container-id-7 input.sk-hidden--visually {border: 0;clip: rect(1px 1px 1px 1px);clip: rect(1px, 1px, 1px, 1px);height: 1px;margin: -1px;overflow: hidden;padding: 0;position: absolute;width: 1px;}#sk-container-id-7 div.sk-estimator {font-family: monospace;background-color: #f0f8ff;border: 1px dotted black;border-radius: 0.25em;box-sizing: border-box;margin-bottom: 0.5em;}#sk-container-id-7 div.sk-estimator:hover {background-color: #d4ebff;}#sk-container-id-7 div.sk-parallel-item::after {content: \"\";width: 100%;border-bottom: 1px solid gray;flex-grow: 1;}#sk-container-id-7 div.sk-label:hover label.sk-toggleable__label {background-color: #d4ebff;}#sk-container-id-7 div.sk-serial::before {content: \"\";position: absolute;border-left: 1px solid gray;box-sizing: border-box;top: 0;bottom: 0;left: 50%;z-index: 0;}#sk-container-id-7 div.sk-serial {display: flex;flex-direction: column;align-items: center;background-color: white;padding-right: 0.2em;padding-left: 0.2em;position: relative;}#sk-container-id-7 div.sk-item {position: relative;z-index: 1;}#sk-container-id-7 div.sk-parallel {display: flex;align-items: stretch;justify-content: center;background-color: white;position: relative;}#sk-container-id-7 div.sk-item::before, #sk-container-id-7 div.sk-parallel-item::before {content: \"\";position: absolute;border-left: 1px solid gray;box-sizing: border-box;top: 0;bottom: 0;left: 50%;z-index: -1;}#sk-container-id-7 div.sk-parallel-item {display: flex;flex-direction: column;z-index: 1;position: relative;background-color: white;}#sk-container-id-7 div.sk-parallel-item:first-child::after {align-self: flex-end;width: 50%;}#sk-container-id-7 div.sk-parallel-item:last-child::after {align-self: flex-start;width: 50%;}#sk-container-id-7 div.sk-parallel-item:only-child::after {width: 0;}#sk-container-id-7 div.sk-dashed-wrapped {border: 1px dashed gray;margin: 0 0.4em 0.5em 0.4em;box-sizing: border-box;padding-bottom: 0.4em;background-color: white;}#sk-container-id-7 div.sk-label label {font-family: monospace;font-weight: bold;display: inline-block;line-height: 1.2em;}#sk-container-id-7 div.sk-label-container {text-align: center;}#sk-container-id-7 div.sk-container {/* jupyter's `normalize.less` sets `[hidden] { display: none; }` but bootstrap.min.css set `[hidden] { display: none !important; }` so we also need the `!important` here to be able to override the default hidden behavior on the sphinx rendered scikit-learn.org. See: https://github.com/scikit-learn/scikit-learn/issues/21755 */display: inline-block !important;position: relative;}#sk-container-id-7 div.sk-text-repr-fallback {display: none;}</style><div id=\"sk-container-id-7\" class=\"sk-top-container\"><div class=\"sk-text-repr-fallback\"><pre>CountVectorizer(max_df=0.95, max_features=500, min_df=3, ngram_range=(2, 2),\n",
       "                stop_words=[&#x27;nba&#x27;, &#x27;com&#x27;, &#x27;https&#x27;, &#x27;like&#x27;, &#x27;reddit&#x27;, &#x27;amp&#x27;,\n",
       "                            &#x27;comments&#x27;, &#x27;the&#x27;, &#x27;to&#x27;, &#x27;of&#x27;, &#x27;this&#x27;, &#x27;was&#x27;, &#x27;is&#x27;,\n",
       "                            &#x27;has&#x27;, &#x27;have&#x27;, &#x27;been&#x27;, &#x27;if&#x27;, &#x27;be&#x27;, &#x27;he&#x27;, &#x27;his&#x27;,\n",
       "                            &#x27;in&#x27;])</pre><b>In a Jupyter environment, please rerun this cell to show the HTML representation or trust the notebook. <br />On GitHub, the HTML representation is unable to render, please try loading this page with nbviewer.org.</b></div><div class=\"sk-container\" hidden><div class=\"sk-item\"><div class=\"sk-estimator sk-toggleable\"><input class=\"sk-toggleable__control sk-hidden--visually\" id=\"sk-estimator-id-7\" type=\"checkbox\" checked><label for=\"sk-estimator-id-7\" class=\"sk-toggleable__label sk-toggleable__label-arrow\">CountVectorizer</label><div class=\"sk-toggleable__content\"><pre>CountVectorizer(max_df=0.95, max_features=500, min_df=3, ngram_range=(2, 2),\n",
       "                stop_words=[&#x27;nba&#x27;, &#x27;com&#x27;, &#x27;https&#x27;, &#x27;like&#x27;, &#x27;reddit&#x27;, &#x27;amp&#x27;,\n",
       "                            &#x27;comments&#x27;, &#x27;the&#x27;, &#x27;to&#x27;, &#x27;of&#x27;, &#x27;this&#x27;, &#x27;was&#x27;, &#x27;is&#x27;,\n",
       "                            &#x27;has&#x27;, &#x27;have&#x27;, &#x27;been&#x27;, &#x27;if&#x27;, &#x27;be&#x27;, &#x27;he&#x27;, &#x27;his&#x27;,\n",
       "                            &#x27;in&#x27;])</pre></div></div></div></div></div>"
      ],
      "text/plain": [
       "CountVectorizer(max_df=0.95, max_features=500, min_df=3, ngram_range=(2, 2),\n",
       "                stop_words=['nba', 'com', 'https', 'like', 'reddit', 'amp',\n",
       "                            'comments', 'the', 'to', 'of', 'this', 'was', 'is',\n",
       "                            'has', 'have', 'been', 'if', 'be', 'he', 'his',\n",
       "                            'in'])"
      ]
     },
     "execution_count": 102,
     "metadata": {},
     "output_type": "execute_result"
    }
   ],
   "source": [
    "# Fitting the vectorizer on my corpus\n",
    "\n",
    "cvec_total_ngrams.fit(ngrams_X_train_total)"
   ]
  },
  {
   "cell_type": "code",
   "execution_count": 103,
   "id": "f7be987d-7a30-4929-8cdf-2564ed143ff7",
   "metadata": {},
   "outputs": [],
   "source": [
    "# Transforming our corpus\n",
    "\n",
    "ngrams_X_train_total = cvec_total_ngrams.fit_transform(ngrams_X_train_total)"
   ]
  },
  {
   "cell_type": "code",
   "execution_count": 104,
   "id": "85c41485-c8cd-4b63-a0fd-290981bd7dca",
   "metadata": {},
   "outputs": [
    {
     "data": {
      "text/plain": [
       "(2019, 500)"
      ]
     },
     "execution_count": 104,
     "metadata": {},
     "output_type": "execute_result"
    }
   ],
   "source": [
    "ngrams_X_train_total.shape"
   ]
  },
  {
   "cell_type": "code",
   "execution_count": 105,
   "id": "9c9fc2a5-205d-4bb9-9ddd-81acfa1a1e71",
   "metadata": {},
   "outputs": [],
   "source": [
    "ngrams_X_train_total_df = pd.DataFrame(ngrams_X_train_total.todense(), \n",
    "                          columns=cvec_total_ngrams.get_feature_names_out())"
   ]
  },
  {
   "cell_type": "code",
   "execution_count": 116,
   "id": "799744be-678a-411f-9c79-3454d9fb284e",
   "metadata": {},
   "outputs": [
    {
     "data": {
      "image/png": "[encoded data removed]",
      "text/plain": [
       "<Figure size 640x480 with 1 Axes>"
      ]
     },
     "metadata": {},
     "output_type": "display_data"
    }
   ],
   "source": [
    "ngrams_X_train_total_df.sum().sort_values(ascending = False).head(10).plot(kind = 'barh');\n",
    "\n",
    "plt.xlabel('Frequency')\n",
    "plt.ylabel('Bi-Gram')\n",
    "plt.title('Most Frequent Bi-Grams in Both Subreddits with Customized Stopwords');\n",
    "\n",
    "plt.tight_layout()\n",
    "plt.savefig('./../images/both_subreddits_high_frequency_bigrams_with_stopword_cleaning.png');"
   ]
  },
  {
   "cell_type": "markdown",
   "id": "46ad7497-43cb-4d73-a8d3-2302ff983406",
   "metadata": {},
   "source": [
    "Although the top bi-grams outputted from the total_combined_dfs don't seem to be as indicative of the correct subreddit as the bi-grams outputted from the individual dataframes for NFL and NBA, there still seems to be some bi-grams (such as 'training camp' and 'all star') that should help our model perform better at determining the correct subreddit when new data is passed in. \n",
    "\n",
    "These findings from EDA will help me decide what parameters to use during the modeling phase.\n",
    "\n",
    "Additionally, at this point, we have reached the second measure of success of my problem statement, being: \"are we able to pull at least 5 clear topics from each subreddit dataframe using bi-grams, in order to help understand what topics might be good for upcoming segments on the show\"."
   ]
  }
 ],
 "metadata": {
  "kernelspec": {
   "display_name": "Python 3 (ipykernel)",
   "language": "python",
   "name": "python3"
  },
  "language_info": {
   "codemirror_mode": {
    "name": "ipython",
    "version": 3
   },
   "file_extension": ".py",
   "mimetype": "text/x-python",
   "name": "python",
   "nbconvert_exporter": "python",
   "pygments_lexer": "ipython3",
   "version": "3.8.16"
  }
 },
 "nbformat": 4,
 "nbformat_minor": 5
}
