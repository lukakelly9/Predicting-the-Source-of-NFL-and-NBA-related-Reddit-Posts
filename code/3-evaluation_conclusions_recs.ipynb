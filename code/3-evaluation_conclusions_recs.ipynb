{
 "cells": [
  {
   "cell_type": "markdown",
   "id": "a1be1b20-1fe6-4604-b69a-c6d88406f13b",
   "metadata": {},
   "source": [
    "# Evaluation, Conclusions, and Recommendations"
   ]
  },
  {
   "cell_type": "markdown",
   "id": "0bd752ff-f963-4835-837e-af7874b9534c",
   "metadata": {},
   "source": [
    "### Evaluation and Recommendations:"
   ]
  },
  {
   "cell_type": "markdown",
   "id": "8a03e6f1-18b1-426a-93d3-9d115169fda1",
   "metadata": {},
   "source": [
    "- In consideration of our baseline of 0.53 (rounded), all three of our models significantly outperformed. All three of our models also scored either extremely high (Naive Bayes: 0.98, Logistic Regression: 0.99) or perfect (Random Forests: 1.0) on our testing data. All of our models were not underfit(high bias) and only Random Forests was overfit(high variance), as displayed in the table below:\n",
    "\n",
    "\n",
    "|Model|Train Accuracy|Test Accuracy|\n",
    "|---|---|---|\n",
    "|Naive Bayes|0.98|0.96|\n",
    "|Logistic Regression|0.99|0.96|\n",
    "|Random Forests|1.0|.93|\n",
    "\n",
    "\n",
    "\n",
    "\n",
    "- The metric most relevant to our first problem objective is accuracy - we want to be as correct as possible when interpreting if new data falls under the NFL or NBA subreddits. Our first measure of success was if our model(s) would exceed 95% accuracy, which all of them did on both the training and testing score, with exception to Random Forest on our training score, as mentioned above. \n",
    "\n",
    "- After cleaning the data, conducting EDA, preprocessing, and filtering noise out of the top most-occuring bigrams we were able to meet our second measure of success: finding at least 5 clear topics from each subreddit dataframe using bi-grams, in order to help understand what topics might be favorable for upcoming segments on the show. As a data scientist in the sports media industry, my domain knowledge tells me that the clearest of those topics are as follows, along with a description of why these topics might be trending on reddit currently, and recommendations of how they can be discussed by Skip and Shannon:\n",
    "    - NFL:\n",
    "        - Super Bowl (maybe the topic is around predicting which teams will make it to the super bowl this year?)\n",
    "        - Training Camp (report on the events and happenings of training camps currently being held around the NFL?)\n",
    "        - Free Agent (reporting on big news in regards to free agency recently, which is typically a big topic during this point in the NFL off-season?)\n",
    "        - Regular Season (predicting how the NFL regular season will pan out for certain teams?)\n",
    "        - Jonathan Taylor (reporting on any news regarding the Indianapolis Colts running back who recently requested a trade from the team?)\n",
    "    - NBA: \n",
    "        - Twitter Wojespn (Adrian Wojnarowski is the 'hottest' reporter in the NBA when it comes to top news, especially regarding trades and free agency - is there anything big he's reported on recently?)\n",
    "        - James Harden (James Harden recently requested a trade from the Philadelphia 76ers - maybe report on any new updates from that situation?)\n",
    "        - Michael Jordan (Jordan recently finalized a deal to sell the Charlotte Hornets, any updates on that topic?)\n",
    "        - Lebron James (After losing in the Western Conference Finals this past season, Lebron is reportedly considering retirement - any new information on that?)\n",
    "        - Round Pick (The NBA draft was held in the past couple months, with one of the most anticipated prospects since Lebron James being drafted first overall - any news on how that prospect (Victor Wembanyama), or any of the other draft picks, are performing leading up to the start of the NBA season?)\n",
    "        "
   ]
  },
  {
   "cell_type": "markdown",
   "id": "1825544f-7f75-46e7-b95d-cbc8405b1da7",
   "metadata": {},
   "source": [
    "### Conclusion:"
   ]
  },
  {
   "cell_type": "markdown",
   "id": "738ebe4b-156a-493c-8a4a-b8657586295d",
   "metadata": {},
   "source": [
    "- From our analysis and modeling, we can conclude that using either Naive Bayes or Logistic Regression as our models will give us high accuracy when it comes to predicting if new data is from the r/nfl or r/nba subreddit. We can expect 96% accuracy from both models when taking in new data.\n",
    "\n",
    "- We can also conclude that the bi-grams above are the top, most-occuring, clear topics being mentioned in the r/nfl and r/nba subreddits currently."
   ]
  },
  {
   "cell_type": "markdown",
   "id": "7e8de589-60ad-4028-afb9-daea33ebe270",
   "metadata": {},
   "source": [
    "### Future Steps:"
   ]
  },
  {
   "cell_type": "markdown",
   "id": "70df96e7-90b7-454a-afd9-47cdb977186c",
   "metadata": {},
   "source": [
    "- One future step that can be taken with our data is to continue our search for n-grams within our data, expanding to exploring tri-grams and potentially even 4-grams. If we are able to pull legible tri- and 4-grams, the extra text may give us further insight to each topic. For example, Lebron James creates a lot of media around him - if his name is being mentioned on the r/nba subreddit, it could be for a number of reasons. Finding tri-grams and 4-grams could potentially help us better understand the context of his name being mentioned."
   ]
  }
 ],
 "metadata": {
  "kernelspec": {
   "display_name": "Python 3 (ipykernel)",
   "language": "python",
   "name": "python3"
  },
  "language_info": {
   "codemirror_mode": {
    "name": "ipython",
    "version": 3
   },
   "file_extension": ".py",
   "mimetype": "text/x-python",
   "name": "python",
   "nbconvert_exporter": "python",
   "pygments_lexer": "ipython3",
   "version": "3.8.16"
  }
 },
 "nbformat": 4,
 "nbformat_minor": 5
}
